{
 "cells": [
  {
   "cell_type": "code",
   "execution_count": 1,
   "metadata": {},
   "outputs": [],
   "source": [
    "import pandas as pd\n",
    "import requests\n",
    "import lau \n",
    "import cps\n",
    "from lau import *\n",
    "from cps import *"
   ]
  },
  {
   "cell_type": "code",
   "execution_count": 2,
   "metadata": {},
   "outputs": [],
   "source": [
    "extract_lau()"
   ]
  },
  {
   "cell_type": "code",
   "execution_count": 3,
   "metadata": {},
   "outputs": [
    {
     "name": "stderr",
     "output_type": "stream",
     "text": [
      "/Users/mcastillo/Documents/GitHub/rmi-energy-communities/src/energy_comms/extract/lau.py:45: DtypeWarning: Columns (4) have mixed types. Specify dtype option on import or set low_memory=False.\n",
      "  df_bls = pd.read_table(lau_file)\n",
      "/Users/mcastillo/Documents/GitHub/rmi-energy-communities/src/energy_comms/extract/lau.py:45: DtypeWarning: Columns (3) have mixed types. Specify dtype option on import or set low_memory=False.\n",
      "  df_bls = pd.read_table(lau_file)\n"
     ]
    }
   ],
   "source": [
    "data_2010 = get_lau_data('la.data.0.CurrentU10-14.txt')\n",
    "data_2015 = get_lau_data('la.data.0.CurrentU15-19.txt')\n",
    "data_2020 = get_lau_data('la.data.0.CurrentU20-24.txt')\n",
    "\n",
    "data_dfs = [data_2010,data_2015,data_2020]\n",
    "\n",
    "df = pd.concat(data_dfs,ignore_index=True)\n"
   ]
  },
  {
   "cell_type": "code",
   "execution_count": 4,
   "metadata": {},
   "outputs": [
    {
     "data": {
      "text/html": [
       "<div>\n",
       "<style scoped>\n",
       "    .dataframe tbody tr th:only-of-type {\n",
       "        vertical-align: middle;\n",
       "    }\n",
       "\n",
       "    .dataframe tbody tr th {\n",
       "        vertical-align: top;\n",
       "    }\n",
       "\n",
       "    .dataframe thead th {\n",
       "        text-align: right;\n",
       "    }\n",
       "</style>\n",
       "<table border=\"1\" class=\"dataframe\">\n",
       "  <thead>\n",
       "    <tr style=\"text-align: right;\">\n",
       "      <th></th>\n",
       "      <th>area_text</th>\n",
       "      <th>geographic_level</th>\n",
       "      <th>state_code</th>\n",
       "      <th>geoid</th>\n",
       "      <th>year</th>\n",
       "      <th>local_area_unemployment</th>\n",
       "    </tr>\n",
       "  </thead>\n",
       "  <tbody>\n",
       "    <tr>\n",
       "      <th>0</th>\n",
       "      <td>Autauga County, AL</td>\n",
       "      <td>county</td>\n",
       "      <td>01</td>\n",
       "      <td>001</td>\n",
       "      <td>2010</td>\n",
       "      <td>8.8</td>\n",
       "    </tr>\n",
       "    <tr>\n",
       "      <th>1</th>\n",
       "      <td>Autauga County, AL</td>\n",
       "      <td>county</td>\n",
       "      <td>01</td>\n",
       "      <td>001</td>\n",
       "      <td>2011</td>\n",
       "      <td>8.3</td>\n",
       "    </tr>\n",
       "    <tr>\n",
       "      <th>2</th>\n",
       "      <td>Autauga County, AL</td>\n",
       "      <td>county</td>\n",
       "      <td>01</td>\n",
       "      <td>001</td>\n",
       "      <td>2012</td>\n",
       "      <td>7.1</td>\n",
       "    </tr>\n",
       "    <tr>\n",
       "      <th>3</th>\n",
       "      <td>Autauga County, AL</td>\n",
       "      <td>county</td>\n",
       "      <td>01</td>\n",
       "      <td>001</td>\n",
       "      <td>2013</td>\n",
       "      <td>6.3</td>\n",
       "    </tr>\n",
       "    <tr>\n",
       "      <th>4</th>\n",
       "      <td>Autauga County, AL</td>\n",
       "      <td>county</td>\n",
       "      <td>01</td>\n",
       "      <td>001</td>\n",
       "      <td>2014</td>\n",
       "      <td>5.8</td>\n",
       "    </tr>\n",
       "    <tr>\n",
       "      <th>...</th>\n",
       "      <td>...</td>\n",
       "      <td>...</td>\n",
       "      <td>...</td>\n",
       "      <td>...</td>\n",
       "      <td>...</td>\n",
       "      <td>...</td>\n",
       "    </tr>\n",
       "    <tr>\n",
       "      <th>43377</th>\n",
       "      <td>Ponce, PR Metropolitan Statistical Area</td>\n",
       "      <td>metropolitan_stat_area</td>\n",
       "      <td>72</td>\n",
       "      <td>386600</td>\n",
       "      <td>2021</td>\n",
       "      <td>9.6</td>\n",
       "    </tr>\n",
       "    <tr>\n",
       "      <th>43378</th>\n",
       "      <td>San German, PR Metropolitan Statistical Area</td>\n",
       "      <td>metropolitan_stat_area</td>\n",
       "      <td>72</td>\n",
       "      <td>419000</td>\n",
       "      <td>2020</td>\n",
       "      <td>-</td>\n",
       "    </tr>\n",
       "    <tr>\n",
       "      <th>43379</th>\n",
       "      <td>San German, PR Metropolitan Statistical Area</td>\n",
       "      <td>metropolitan_stat_area</td>\n",
       "      <td>72</td>\n",
       "      <td>419000</td>\n",
       "      <td>2021</td>\n",
       "      <td>9.6</td>\n",
       "    </tr>\n",
       "    <tr>\n",
       "      <th>43380</th>\n",
       "      <td>San Juan-Carolina-Caguas, PR Metropolitan Stat...</td>\n",
       "      <td>metropolitan_stat_area</td>\n",
       "      <td>72</td>\n",
       "      <td>419800</td>\n",
       "      <td>2020</td>\n",
       "      <td>-</td>\n",
       "    </tr>\n",
       "    <tr>\n",
       "      <th>43381</th>\n",
       "      <td>San Juan-Carolina-Caguas, PR Metropolitan Stat...</td>\n",
       "      <td>metropolitan_stat_area</td>\n",
       "      <td>72</td>\n",
       "      <td>419800</td>\n",
       "      <td>2021</td>\n",
       "      <td>7.2</td>\n",
       "    </tr>\n",
       "  </tbody>\n",
       "</table>\n",
       "<p>43382 rows × 6 columns</p>\n",
       "</div>"
      ],
      "text/plain": [
       "                                               area_text  \\\n",
       "0                                     Autauga County, AL   \n",
       "1                                     Autauga County, AL   \n",
       "2                                     Autauga County, AL   \n",
       "3                                     Autauga County, AL   \n",
       "4                                     Autauga County, AL   \n",
       "...                                                  ...   \n",
       "43377            Ponce, PR Metropolitan Statistical Area   \n",
       "43378       San German, PR Metropolitan Statistical Area   \n",
       "43379       San German, PR Metropolitan Statistical Area   \n",
       "43380  San Juan-Carolina-Caguas, PR Metropolitan Stat...   \n",
       "43381  San Juan-Carolina-Caguas, PR Metropolitan Stat...   \n",
       "\n",
       "             geographic_level state_code   geoid  year local_area_unemployment  \n",
       "0                      county         01     001  2010                     8.8  \n",
       "1                      county         01     001  2011                     8.3  \n",
       "2                      county         01     001  2012                     7.1  \n",
       "3                      county         01     001  2013                     6.3  \n",
       "4                      county         01     001  2014                     5.8  \n",
       "...                       ...        ...     ...   ...                     ...  \n",
       "43377  metropolitan_stat_area         72  386600  2021                     9.6  \n",
       "43378  metropolitan_stat_area         72  419000  2020                       -  \n",
       "43379  metropolitan_stat_area         72  419000  2021                     9.6  \n",
       "43380  metropolitan_stat_area         72  419800  2020                       -  \n",
       "43381  metropolitan_stat_area         72  419800  2021                     7.2  \n",
       "\n",
       "[43382 rows x 6 columns]"
      ]
     },
     "execution_count": 4,
     "metadata": {},
     "output_type": "execute_result"
    }
   ],
   "source": [
    "# convert to clean df\n",
    "\n",
    "df = df.rename(columns={'value':'local_area_unemployment'})\n",
    "\n",
    "lau_df = df[['area_text','geographic_level','state_code','geoid','year','local_area_unemployment']]\n",
    "\n",
    "lau_df"
   ]
  },
  {
   "cell_type": "code",
   "execution_count": 5,
   "metadata": {},
   "outputs": [
    {
     "name": "stderr",
     "output_type": "stream",
     "text": [
      "/Users/mcastillo/Documents/GitHub/rmi-energy-communities/src/energy_comms/extract/cps.py:51: FutureWarning: The frame.append method is deprecated and will be removed from pandas in a future version. Use pandas.concat instead.\n",
      "  annual_average = annual_average.append({'year':2019,'value':3.7},ignore_index=True)\n",
      "/Users/mcastillo/Documents/GitHub/rmi-energy-communities/src/energy_comms/extract/cps.py:52: FutureWarning: The frame.append method is deprecated and will be removed from pandas in a future version. Use pandas.concat instead.\n",
      "  annual_average = annual_average.append({'year':2020,'value':8.1},ignore_index=True)\n"
     ]
    }
   ],
   "source": [
    "cps = get_cps()"
   ]
  },
  {
   "cell_type": "code",
   "execution_count": 7,
   "metadata": {},
   "outputs": [],
   "source": [
    "unemployment_figures = lau_df.merge(cps,on='year',how='left')"
   ]
  },
  {
   "cell_type": "code",
   "execution_count": 16,
   "metadata": {},
   "outputs": [],
   "source": [
    "unemployment_figures = unemployment_figures.to_csv('/Users/mcastillo/Documents/GitHub/rmi-energy-communities/notebooks/files/unemployment.csv')"
   ]
  }
 ],
 "metadata": {
  "kernelspec": {
   "display_name": "Python 3.10.6 ('hub')",
   "language": "python",
   "name": "python3"
  },
  "language_info": {
   "codemirror_mode": {
    "name": "ipython",
    "version": 3
   },
   "file_extension": ".py",
   "mimetype": "text/x-python",
   "name": "python",
   "nbconvert_exporter": "python",
   "pygments_lexer": "ipython3",
   "version": "3.10.6"
  },
  "orig_nbformat": 4,
  "vscode": {
   "interpreter": {
    "hash": "6a9ad9a3331dce8650e69d2492d8ebf76184c4e4630d5626b4b84223294104b5"
   }
  }
 },
 "nbformat": 4,
 "nbformat_minor": 2
}
