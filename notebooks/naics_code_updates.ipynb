{
 "cells": [
  {
   "cell_type": "code",
   "execution_count": null,
   "id": "fd64b637-b64a-4275-843c-c4155d6d2c29",
   "metadata": {
    "tags": []
   },
   "outputs": [],
   "source": [
    "%load_ext autoreload\n",
    "%autoreload 3"
   ]
  },
  {
   "cell_type": "code",
   "execution_count": null,
   "id": "30739743-9bcf-4bd5-b9d1-dee0d2e8341a",
   "metadata": {
    "tags": []
   },
   "outputs": [],
   "source": [
    "import logging\n",
    "import sys\n",
    "\n",
    "import energy_comms\n",
    "from energy_comms.extract.bls import QCEW_YEARS"
   ]
  },
  {
   "cell_type": "code",
   "execution_count": null,
   "id": "745fdcb4-bdbd-4080-95f3-a95142e99590",
   "metadata": {
    "tags": []
   },
   "outputs": [],
   "source": [
    "logger = logging.getLogger()\n",
    "logger.setLevel(logging.INFO)\n",
    "handler = logging.StreamHandler(stream=sys.stdout)\n",
    "formatter = logging.Formatter()\n",
    "handler.setFormatter(formatter)\n",
    "logger.handlers = [handler]"
   ]
  },
  {
   "cell_type": "markdown",
   "id": "872ef558-4d89-45c2-84db-a1543a6528e5",
   "metadata": {},
   "source": [
    "# Setup"
   ]
  },
  {
   "cell_type": "code",
   "execution_count": null,
   "id": "56b1af64-a38b-407e-b56d-7b1e0d510a33",
   "metadata": {
    "tags": []
   },
   "outputs": [],
   "source": [
    "msa_county_raw_df = energy_comms.extract.bls.extract_msa_county_crosswalk()\n",
    "msa_to_county_df = energy_comms.transform.bls.transform_msa_county_crosswalk(\n",
    "    msa_county_raw_df\n",
    ")\n",
    "non_msa_to_county_raw_df = (\n",
    "    energy_comms.extract.bls.extract_nonmsa_county_crosswalk()\n",
    ")\n",
    "non_msa_to_county_df = energy_comms.transform.bls.transform_nonmsa_county_crosswalk(\n",
    "    non_msa_to_county_raw_df, msa_to_county_df\n",
    ")"
   ]
  },
  {
   "cell_type": "markdown",
   "id": "7022a0d1-8d8f-46e3-b70b-0253ff00e308",
   "metadata": {},
   "source": [
    "# Get fossil employment qualifying areas\n",
    "\n",
    "New guidance fossil NAICS codes: 211, 2121, 213111, 213112, 213113, 32411, 4861, 4862\n",
    "\n",
    "Old guidance fossil NAICS codes: 2121, 211, 213, 23712, 486, 4247, 22112"
   ]
  },
  {
   "cell_type": "code",
   "execution_count": null,
   "id": "b4a47b5d-f641-4dbd-9d5b-523147346b85",
   "metadata": {
    "tags": []
   },
   "outputs": [],
   "source": [
    "# a list of all NAICS codes you might want to consider from the new and old guidance\n",
    "ALL_FOSSIL_NAICS_CODES = [\n",
    "    \"211\",\n",
    "    \"2121\",\n",
    "    \"213111\",\n",
    "    \"213112\",\n",
    "    \"213113\",\n",
    "    \"32411\",\n",
    "    \"4861\",\n",
    "    \"4862\",\n",
    "    \"213\",\n",
    "    \"23712\",\n",
    "    \"486\",\n",
    "    \"4247\",\n",
    "    \"22112\"\n",
    "]"
   ]
  },
  {
   "cell_type": "markdown",
   "id": "58843fc2-fed2-4e2d-85bd-796ae9e59ba6",
   "metadata": {},
   "source": [
    "Transform the QCEW data. This creates a dataframe with each record representing a unique year, county, and NAICS code (industry code) combo."
   ]
  },
  {
   "cell_type": "code",
   "execution_count": null,
   "id": "93a5e470-cca8-46e3-9be1-2206e2894cea",
   "metadata": {
    "tags": []
   },
   "outputs": [],
   "source": [
    "# do one year at a time so the concatenated dataframe isn't as big\n",
    "qcew_df = pd.DataFrame()\n",
    "for year in QCEW_YEARS:\n",
    "    year_df = energy_comms.extract.bls.extract_qcew_data(years=[year])\n",
    "    if year_df.empty:\n",
    "        continue\n",
    "    year_df = energy_comms.transform.bls.transform_qcew_data(\n",
    "        year_df,\n",
    "        msa_county_crosswalk=msa_to_county_df,\n",
    "        non_msa_county_crosswalk=non_msa_to_county_df,\n",
    "        fossil_naics_codes=ALL_FOSSIL_NAICS_CODES\n",
    "    )\n",
    "    qcew_df = pd.concat([qcew_df, year_df])"
   ]
  },
  {
   "cell_type": "code",
   "execution_count": null,
   "id": "6c4426a8-ed45-487a-a2f4-cdcb5212f3be",
   "metadata": {
    "tags": []
   },
   "outputs": [],
   "source": [
    "qcew_df.head(3)"
   ]
  },
  {
   "cell_type": "code",
   "execution_count": null,
   "id": "18ef47cb-87be-4185-8975-6d326cf17258",
   "metadata": {
    "tags": []
   },
   "outputs": [],
   "source": [
    "qcew_df[qcew_df.area_title.str.contains(\"Abilene\")]"
   ]
  },
  {
   "cell_type": "markdown",
   "id": "994e38d0-67b5-45bc-b480-cd772ceeff0b",
   "metadata": {},
   "source": [
    "**Update this list of NAICS codes to see which areas would qualify.**\n",
    "\n",
    "For example, all the new guidance codes + \"22112\""
   ]
  },
  {
   "cell_type": "code",
   "execution_count": null,
   "id": "c821d882-d70c-49e8-b0c8-f25d84f673e2",
   "metadata": {
    "tags": []
   },
   "outputs": [],
   "source": [
    "NAICS_CODES_TO_CONSIDER = [\n",
    "    \"211\",\n",
    "    \"2121\",\n",
    "    \"213111\",\n",
    "    \"213112\",\n",
    "    \"213113\",\n",
    "    \"32411\",\n",
    "    \"4861\",\n",
    "    \"4862\",\n",
    "    \"22112\"\n",
    "]"
   ]
  },
  {
   "cell_type": "code",
   "execution_count": null,
   "id": "74423eea-eb54-459f-a0d8-3df165a551ef",
   "metadata": {
    "tags": []
   },
   "outputs": [],
   "source": [
    "filtered_qcew_df = qcew_df[qcew_df.industry_code.isin([\"10\"] + NAICS_CODES_TO_CONSIDER)]"
   ]
  },
  {
   "cell_type": "code",
   "execution_count": null,
   "id": "c6e33058-0a34-40a3-a622-5757234a1df6",
   "metadata": {
    "tags": []
   },
   "outputs": [],
   "source": [
    "fossil_employment_df = energy_comms.generate_qualifying_areas.fossil_employment_qualifying_areas(\n",
    "    qcew_df=filtered_qcew_df)"
   ]
  },
  {
   "cell_type": "markdown",
   "id": "6df5ac02-944d-41e0-a9b7-2c541381ed37",
   "metadata": {},
   "source": [
    "Now you can see if a certain county or MSA still qualifies.\n",
    "\n",
    "In this dataframe, `area_title` is the MSA or non-MSA title."
   ]
  },
  {
   "cell_type": "code",
   "execution_count": null,
   "id": "641c198a-175b-40cd-982b-e85e61923b1e",
   "metadata": {
    "tags": []
   },
   "outputs": [],
   "source": [
    "fossil_employment_df[fossil_employment_df.area_title.str.contains(\"Abilene\")].head(3)"
   ]
  },
  {
   "cell_type": "markdown",
   "id": "b52baefc-28eb-4db1-b349-4af5068c3eb1",
   "metadata": {},
   "source": [
    "# Generate the unemployment dataframe\n",
    "\n",
    "Generate `unemployment_df` if you want to see if a county also meets the unemployment threshold"
   ]
  },
  {
   "cell_type": "code",
   "execution_count": null,
   "id": "2c9e9e33-1f82-492a-8580-1a9cfe2e2fd2",
   "metadata": {
    "tags": []
   },
   "outputs": [],
   "source": [
    "cps_raw_df = energy_comms.extract.bls.extract_national_unemployment_rates()\n",
    "lau_raw_df = energy_comms.extract.bls.extract_lau_rates(update=update)\n",
    "cps_df = energy_comms.transform.bls.transform_national_unemployment_rates(\n",
    "    cps_raw_df\n",
    ")\n",
    "lau_df = energy_comms.transform.bls.transform_local_area_unemployment_rates(\n",
    "    raw_lau_df=lau_raw_df,\n",
    "    non_msa_county_crosswalk=non_msa_to_county_df,\n",
    "    msa_county_crosswalk=msa_to_county_df,\n",
    ")\n",
    "unemployment_df = (\n",
    "    energy_comms.generate_qualifying_areas.unemployment_rate_qualifying_areas(\n",
    "        national_unemployment_df=cps_df, lau_df=lau_df\n",
    "    )\n",
    ")"
   ]
  },
  {
   "cell_type": "code",
   "execution_count": null,
   "id": "82a926bf-1fe1-4f62-8faf-fc05dc039205",
   "metadata": {},
   "outputs": [],
   "source": []
  }
 ],
 "metadata": {
  "kernelspec": {
   "display_name": "Python 3 (ipykernel)",
   "language": "python",
   "name": "python3"
  },
  "language_info": {
   "codemirror_mode": {
    "name": "ipython",
    "version": 3
   },
   "file_extension": ".py",
   "mimetype": "text/x-python",
   "name": "python",
   "nbconvert_exporter": "python",
   "pygments_lexer": "ipython3",
   "version": "3.11.3"
  },
  "vscode": {
   "interpreter": {
    "hash": "6a9ad9a3331dce8650e69d2492d8ebf76184c4e4630d5626b4b84223294104b5"
   }
  }
 },
 "nbformat": 4,
 "nbformat_minor": 5
}
