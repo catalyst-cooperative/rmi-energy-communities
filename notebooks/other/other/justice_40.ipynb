{
 "cells": [
  {
   "cell_type": "markdown",
   "metadata": {},
   "source": [
    "imports"
   ]
  },
  {
   "cell_type": "markdown",
   "metadata": {},
   "source": [
    "pudl set up"
   ]
  },
  {
   "cell_type": "code",
   "execution_count": 1,
   "metadata": {},
   "outputs": [
    {
     "name": "stderr",
     "output_type": "stream",
     "text": [
      "/opt/anaconda3/envs/hub/lib/python3.10/site-packages/geopandas/_compat.py:111: UserWarning: The Shapely GEOS version (3.10.3-CAPI-1.16.1) is incompatible with the GEOS version PyGEOS was compiled with (3.11.0-CAPI-1.17.0). Conversions between both will be slow.\n",
      "  warnings.warn(\n"
     ]
    }
   ],
   "source": [
    "# import the necessary packages\n",
    "%load_ext autoreload\n",
    "%autoreload 2\n",
    "\n",
    "import logging\n",
    "import os\n",
    "import sys\n",
    "\n",
    "import pandas as pd\n",
    "import sqlalchemy as sa\n",
    "import pudl"
   ]
  },
  {
   "cell_type": "code",
   "execution_count": 2,
   "metadata": {},
   "outputs": [],
   "source": [
    "pudl_settings = pudl.workspace.setup.get_defaults()\n",
    "pudl_engine = sa.create_engine(pudl_settings[\"pudl_db\"])\n",
    "pudl_out = pudl.output.pudltabl.PudlTabl(pudl_engine=pudl_engine)\n"
   ]
  },
  {
   "cell_type": "markdown",
   "metadata": {},
   "source": [
    "plotly set up"
   ]
  },
  {
   "cell_type": "code",
   "execution_count": null,
   "metadata": {},
   "outputs": [],
   "source": [
    "# plotly settings\n",
    "import plotly.express as px\n",
    "import chart_studio \n",
    "import chart_studio.plotly as py\n",
    "chart_studio.tools.set_credentials_file(username='mcastillo',api_key='3QGy4nzPwGtZmLUypW3U')\n",
    "chart_studio.tools.set_config_file(world_readable=True,sharing='public')"
   ]
  },
  {
   "cell_type": "markdown",
   "metadata": {},
   "source": [
    "mapbox set up"
   ]
  },
  {
   "cell_type": "code",
   "execution_count": null,
   "metadata": {},
   "outputs": [],
   "source": [
    "px.set_mapbox_access_token('pk.eyJ1IjoibWNhc3RpbGxvcm1pIiwiYSI6ImNsYWJjcHNhYzA5dTMzc3BpMThpc3RiYmYifQ.xSdph_u4qXYTU163JFOCWQ')"
   ]
  },
  {
   "cell_type": "markdown",
   "metadata": {},
   "source": [
    "read excel file from online\n",
    "\n",
    "link: https://screeningtool.geoplatform.gov/en/downloads#3/33.47/-97.5"
   ]
  },
  {
   "cell_type": "code",
   "execution_count": 2,
   "metadata": {},
   "outputs": [],
   "source": [
    "communities = pd.read_excel('https://static-data-screeningtool.geoplatform.gov/data-versions/1.0/data/score/downloadable/1.0-communities.xlsx')"
   ]
  },
  {
   "cell_type": "markdown",
   "metadata": {},
   "source": [
    "geoprocessing prep"
   ]
  },
  {
   "cell_type": "code",
   "execution_count": 32,
   "metadata": {},
   "outputs": [],
   "source": [
    "# get county ID\n",
    "#make column a string\n",
    "communities['Census tract 2010 ID'] = communities['Census tract 2010 ID'].astype(str)\n",
    "# make sure census tract ID is 11 digits\n",
    "communities['Census tract 2010 ID'] = communities['Census tract 2010 ID'].str.zfill(11)\n",
    "\n",
    "#make county fips column\n",
    "communities['county_id_fips'] = communities['Census tract 2010 ID'].str[0:5]"
   ]
  },
  {
   "cell_type": "markdown",
   "metadata": {},
   "source": [
    "filter to disadvantaged"
   ]
  },
  {
   "cell_type": "code",
   "execution_count": 33,
   "metadata": {},
   "outputs": [],
   "source": [
    "disadvantaged_communities = communities.loc[communities['Identified as disadvantaged']==True]"
   ]
  },
  {
   "cell_type": "markdown",
   "metadata": {},
   "source": [
    "count how many tracts are in each county"
   ]
  },
  {
   "cell_type": "code",
   "execution_count": 34,
   "metadata": {},
   "outputs": [],
   "source": [
    "num_of_dc = disadvantaged_communities['county_id_fips'].value_counts().reset_index()\n",
    "num_of_dc = num_of_dc.rename(columns={'index':'county_id_fips','county_id_fips':'num_of_communities'})"
   ]
  },
  {
   "cell_type": "markdown",
   "metadata": {},
   "source": [
    "connect to total amount"
   ]
  },
  {
   "cell_type": "code",
   "execution_count": 36,
   "metadata": {},
   "outputs": [],
   "source": [
    "total_dc = communities['county_id_fips'].value_counts().reset_index()\n",
    "total_dc = total_dc.rename(columns={'index':'county_id_fips','county_id_fips':'total_num_of_communities'})"
   ]
  },
  {
   "cell_type": "code",
   "execution_count": 40,
   "metadata": {},
   "outputs": [],
   "source": [
    "community_complete = num_of_dc.merge(total_dc,on='county_id_fips',how='left')"
   ]
  },
  {
   "cell_type": "code",
   "execution_count": 42,
   "metadata": {},
   "outputs": [
    {
     "data": {
      "text/html": [
       "<div>\n",
       "<style scoped>\n",
       "    .dataframe tbody tr th:only-of-type {\n",
       "        vertical-align: middle;\n",
       "    }\n",
       "\n",
       "    .dataframe tbody tr th {\n",
       "        vertical-align: top;\n",
       "    }\n",
       "\n",
       "    .dataframe thead th {\n",
       "        text-align: right;\n",
       "    }\n",
       "</style>\n",
       "<table border=\"1\" class=\"dataframe\">\n",
       "  <thead>\n",
       "    <tr style=\"text-align: right;\">\n",
       "      <th></th>\n",
       "      <th>county_id_fips</th>\n",
       "      <th>num_of_communities</th>\n",
       "      <th>total_num_of_communities</th>\n",
       "      <th>disadvantaged_percent_of_total_communities</th>\n",
       "    </tr>\n",
       "  </thead>\n",
       "  <tbody>\n",
       "    <tr>\n",
       "      <th>0</th>\n",
       "      <td>06037</td>\n",
       "      <td>1146</td>\n",
       "      <td>2346</td>\n",
       "      <td>48.849105</td>\n",
       "    </tr>\n",
       "    <tr>\n",
       "      <th>1</th>\n",
       "      <td>17031</td>\n",
       "      <td>611</td>\n",
       "      <td>1319</td>\n",
       "      <td>46.322972</td>\n",
       "    </tr>\n",
       "    <tr>\n",
       "      <th>2</th>\n",
       "      <td>36047</td>\n",
       "      <td>410</td>\n",
       "      <td>761</td>\n",
       "      <td>53.876478</td>\n",
       "    </tr>\n",
       "    <tr>\n",
       "      <th>3</th>\n",
       "      <td>48201</td>\n",
       "      <td>402</td>\n",
       "      <td>786</td>\n",
       "      <td>51.145038</td>\n",
       "    </tr>\n",
       "    <tr>\n",
       "      <th>4</th>\n",
       "      <td>26163</td>\n",
       "      <td>362</td>\n",
       "      <td>611</td>\n",
       "      <td>59.247136</td>\n",
       "    </tr>\n",
       "    <tr>\n",
       "      <th>...</th>\n",
       "      <td>...</td>\n",
       "      <td>...</td>\n",
       "      <td>...</td>\n",
       "      <td>...</td>\n",
       "    </tr>\n",
       "    <tr>\n",
       "      <th>2707</th>\n",
       "      <td>31151</td>\n",
       "      <td>1</td>\n",
       "      <td>4</td>\n",
       "      <td>25.000000</td>\n",
       "    </tr>\n",
       "    <tr>\n",
       "      <th>2708</th>\n",
       "      <td>31153</td>\n",
       "      <td>1</td>\n",
       "      <td>43</td>\n",
       "      <td>2.325581</td>\n",
       "    </tr>\n",
       "    <tr>\n",
       "      <th>2709</th>\n",
       "      <td>31161</td>\n",
       "      <td>1</td>\n",
       "      <td>2</td>\n",
       "      <td>50.000000</td>\n",
       "    </tr>\n",
       "    <tr>\n",
       "      <th>2710</th>\n",
       "      <td>31181</td>\n",
       "      <td>1</td>\n",
       "      <td>2</td>\n",
       "      <td>50.000000</td>\n",
       "    </tr>\n",
       "    <tr>\n",
       "      <th>2711</th>\n",
       "      <td>78030</td>\n",
       "      <td>1</td>\n",
       "      <td>13</td>\n",
       "      <td>7.692308</td>\n",
       "    </tr>\n",
       "  </tbody>\n",
       "</table>\n",
       "<p>2712 rows × 4 columns</p>\n",
       "</div>"
      ],
      "text/plain": [
       "     county_id_fips  num_of_communities  total_num_of_communities  disadvantaged_percent_of_total_communities\n",
       "0             06037                1146                      2346                                   48.849105\n",
       "1             17031                 611                      1319                                   46.322972\n",
       "2             36047                 410                       761                                   53.876478\n",
       "3             48201                 402                       786                                   51.145038\n",
       "4             26163                 362                       611                                   59.247136\n",
       "...             ...                 ...                       ...                                         ...\n",
       "2707          31151                   1                         4                                   25.000000\n",
       "2708          31153                   1                        43                                    2.325581\n",
       "2709          31161                   1                         2                                   50.000000\n",
       "2710          31181                   1                         2                                   50.000000\n",
       "2711          78030                   1                        13                                    7.692308\n",
       "\n",
       "[2712 rows x 4 columns]"
      ]
     },
     "execution_count": 42,
     "metadata": {},
     "output_type": "execute_result"
    }
   ],
   "source": [
    "community_complete['disadvantaged_percent_of_total_communities'] = community_complete['num_of_communities'] / community_complete['total_num_of_communities'] * 100\n",
    "community_complete"
   ]
  },
  {
   "cell_type": "markdown",
   "metadata": {},
   "source": [
    "get utility service territory from PUDL"
   ]
  },
  {
   "cell_type": "code",
   "execution_count": 46,
   "metadata": {},
   "outputs": [],
   "source": [
    "eia_service_territory = pudl_out.service_territory_eia861()"
   ]
  },
  {
   "cell_type": "code",
   "execution_count": 48,
   "metadata": {},
   "outputs": [
    {
     "data": {
      "text/plain": [
       "<pandas.core.groupby.generic.DataFrameGroupBy object at 0x29f213e50>"
      ]
     },
     "execution_count": 48,
     "metadata": {},
     "output_type": "execute_result"
    }
   ],
   "source": [
    "eia_service_territory.groupby(['state','utility_id_eia'])"
   ]
  },
  {
   "cell_type": "markdown",
   "metadata": {},
   "source": [
    "additional request: map of coal plants without retirement date"
   ]
  },
  {
   "cell_type": "code",
   "execution_count": 4,
   "metadata": {},
   "outputs": [],
   "source": [
    "gens = pudl_out.gens_eia860()\n",
    "gens_2022 = gens.loc[gens['report_date']=='2022-01-01']"
   ]
  },
  {
   "cell_type": "code",
   "execution_count": 23,
   "metadata": {},
   "outputs": [],
   "source": [
    "coal_no_retirement = gens_2022[(gens_2022['planned_retirement_date'].isna()) & (gens_2022['fuel_type_code_pudl']=='coal') & (gens_2022['retirement_date'].isna())]"
   ]
  },
  {
   "cell_type": "code",
   "execution_count": 25,
   "metadata": {},
   "outputs": [],
   "source": [
    "plants_coal_no_retirement = coal_no_retirement.drop_duplicates(subset='plant_id_eia')"
   ]
  },
  {
   "cell_type": "code",
   "execution_count": 42,
   "metadata": {},
   "outputs": [
    {
     "data": {
      "application/vnd.plotly.v1+json": {
       "config": {
        "plotlyServerURL": "https://plotly.com"
       },
       "data": [
        {
         "customdata": [
          [
           "Barry",
           "Alabama Power Co"
          ],
          [
           "E C Gaston",
           "Alabama Power Co"
          ],
          [
           "Platte",
           "City of Grand Island"
          ],
          [
           "Whelen",
           "Hastings City of"
          ],
          [
           "Aurora Energy LLC",
           "Aurora Energy LLC"
          ],
          [
           "Holcomb",
           "Sunflower Electric Power Corp"
          ],
          [
           "Cholla",
           "Arizona Public Service Co"
          ],
          [
           "Cross",
           "South Carolina Pub Serv Auth"
          ],
          [
           "Seminole",
           "Seminole Electric Coop, Inc"
          ],
          [
           "Apache",
           "Arizona Electric Pwr Coop Inc"
          ],
          [
           "GRDA",
           "Grand River Dam Authority"
          ],
          [
           "Comanche",
           "Public Service Co of Colorado"
          ],
          [
           "Stanton",
           "Orlando Utilities Comm"
          ],
          [
           "Brandon Shores",
           "Brandon Shores LLC"
          ],
          [
           "Crystal River",
           "Florida Power Corp"
          ],
          [
           "Big Bend",
           "Tampa Electric Co"
          ],
          [
           "Northside",
           "JEA"
          ],
          [
           "Bowen",
           "Georgia Power Co"
          ],
          [
           "Powerton",
           "Midwest Generations EME LLC"
          ],
          [
           "Dallman",
           "Springfield City of"
          ],
          [
           "Marion",
           "Southern Illinois Power Coop"
          ],
          [
           "Clifty Creek",
           "Indiana-Kentucky Electric Corp"
          ],
          [
           "Petersburg",
           "Indianapolis Power & Light Co"
          ],
          [
           "Cayuga",
           "PSI Energy Inc"
          ],
          [
           "F B Culley",
           "Southern Indiana Gas & Elec Co"
          ],
          [
           "Whitewater Valley",
           "Richmond City of"
          ],
          [
           "Prairie Creek",
           "Interstate Power and Light Co"
          ],
          [
           "Council Bluffs",
           "MidAmerican Energy Co"
          ],
          [
           "George Neal North",
           "MidAmerican Energy Co"
          ],
          [
           "Burlington",
           "Interstate Power and Light Co"
          ],
          [
           "Muscatine #1",
           "Muscatine City of"
          ],
          [
           "LaCygne",
           "Evergy Metro"
          ],
          [
           "Lawrence",
           "Western Resources Inc"
          ],
          [
           "E W Brown",
           "Kentucky Utilities Co"
          ],
          [
           "Ghent",
           "Kentucky Utilities Co"
          ],
          [
           "Mill Creek",
           "Louisville Gas & Electric Co"
          ],
          [
           "Shawnee",
           "Tennessee Valley Authority"
          ],
          [
           "Cooper",
           "East Kentucky Power Coop Inc"
          ],
          [
           "R S Nelson",
           "Entergy Louisiana Inc"
          ],
          [
           "H A Wagner",
           "H.A. Wagner LLC"
          ],
          [
           "Monroe",
           "The DTE Electric Company"
          ],
          [
           "Clay Boswell",
           "Minnesota Power Inc"
          ],
          [
           "Allen S King",
           "Northern States Power Co"
          ],
          [
           "Hibbing",
           "Hibbing Public Utilities Comm"
          ],
          [
           "Hawthorn",
           "Evergy Metro"
          ],
          [
           "Labadie",
           "Union Electric Co"
          ],
          [
           "New Madrid",
           "Associated Electric Coop Inc"
          ],
          [
           "Thomas Hill",
           "Associated Electric Coop Inc"
          ],
          [
           "Lon Wright",
           "Fremont City of"
          ],
          [
           "Sheldon",
           "Nebraska Public Power District"
          ],
          [
           "North Omaha",
           "Omaha Public Power District"
          ],
          [
           "Merrimack",
           "Granite Shore Power"
          ],
          [
           "Schiller",
           "Granite Shore Power"
          ],
          [
           "Roxboro",
           "Carolina Power & Light Co"
          ],
          [
           "Cliffside",
           "Duke Energy Corp"
          ],
          [
           "Marshall",
           "Duke Energy Corp"
          ],
          [
           "Leland Olds",
           "Basin Electric Power Coop"
          ],
          [
           "Milton R Young",
           "Minnkota Power Coop Inc"
          ],
          [
           "Cardinal",
           "Cardinal Operating Company"
          ],
          [
           "Kyger Creek",
           "Ohio Valley Electric Corp"
          ],
          [
           "Bay Shore",
           "Walleye Power, LLC "
          ],
          [
           "Dover",
           "Dover City of"
          ],
          [
           "Orrville",
           "Orrville City of"
          ],
          [
           "Painesville",
           "Painesville City of"
          ],
          [
           "Muskogee",
           "Oklahoma Gas & Electric Co"
          ],
          [
           "Northeastern",
           "Public Service Co of Oklahoma"
          ],
          [
           "Conemaugh",
           "KeyCon Operating LLC"
          ],
          [
           "Homer City",
           "NRG Homer City Services LLC"
          ],
          [
           "Seward",
           "Seward Generating LLC"
          ],
          [
           "Keystone",
           "KeyCon Operating LLC"
          ],
          [
           "Montour",
           "PPL Montour LLC"
          ],
          [
           "Wateree",
           "Dominion Energy South Carolina, Inc"
          ],
          [
           "Williams",
           "South Carolina Genertg Co Inc"
          ],
          [
           "W A Parish",
           "NRG Texas LLC"
          ],
          [
           "John E Amos",
           "Appalachian Power Co"
          ],
          [
           "Fort Martin",
           "Monongahela Power Co"
          ],
          [
           "Harrison",
           "Monongahela Power Co"
          ],
          [
           "Mitchell",
           "Kentucky Power Co"
          ],
          [
           "Mt Storm",
           "Dominion Virginia Power"
          ],
          [
           "Weston",
           "Wisconsin Public Service Corp"
          ],
          [
           "Manitowoc",
           "Manitowoc Public Utilities"
          ],
          [
           "John P Madgett",
           "Dairyland Power Coop"
          ],
          [
           "James H Miller Jr",
           "Alabama Power Co"
          ],
          [
           "White Bluff",
           "Entergy Arkansas LLC"
          ],
          [
           "East Bend",
           "Duke Energy Kentucky Inc"
          ],
          [
           "Coal Creek",
           "Great River Energy"
          ],
          [
           "H L Spurlock",
           "East Kentucky Power Coop Inc"
          ],
          [
           "Wansley",
           "Georgia Power Co"
          ],
          [
           "Big Cajun 2",
           "Louisiana Generating LLC"
          ],
          [
           "Nearman Creek",
           "Kansas City City of"
          ],
          [
           "Iatan",
           "Evergy Metro"
          ],
          [
           "Jeffrey",
           "Western Resources Inc"
          ],
          [
           "Trimble County",
           "Louisville Gas & Electric Co"
          ],
          [
           "Colstrip",
           "PP&L Montana LLC"
          ],
          [
           "Gerald Gentleman",
           "Nebraska Public Power District"
          ],
          [
           "Sooner",
           "Oklahoma Gas & Electric Co"
          ],
          [
           "Nebraska City",
           "Omaha Public Power District"
          ],
          [
           "Big Stone",
           "Otter Tail Power Co"
          ],
          [
           "Gibson",
           "PSI Energy Inc"
          ],
          [
           "Flint Creek",
           "Southwestern Electric Power Co"
          ],
          [
           "Martin Lake",
           "Luminant Generation Company LLC"
          ],
          [
           "Hunter",
           "PacifiCorp"
          ],
          [
           "Fayette",
           "Lower Colorado River Authority"
          ],
          [
           "Oak Grove",
           "Luminant Generation Company LLC"
          ],
          [
           "San Miguel",
           "San Miguel Electric Coop Inc"
          ],
          [
           "Rodemacher",
           "CLECO Power LLC"
          ],
          [
           "Southwest",
           "Springfield City of"
          ],
          [
           "Laramie River",
           "Basin Electric Power Coop"
          ],
          [
           "Merom",
           "Hoosier Energy R E C Inc"
          ],
          [
           "Pawnee",
           "Public Service Co of Colorado"
          ],
          [
           "Mayo",
           "Carolina Power & Light Co"
          ],
          [
           "Ottumwa",
           "Interstate Power and Light Co"
          ],
          [
           "Scherer",
           "Georgia Power Co"
          ],
          [
           "Mountaineer",
           "Appalachian Power Co"
          ],
          [
           "Healy",
           "Golden Valley Elec Assn Inc"
          ],
          [
           "Antelope Valley",
           "Basin Electric Power Coop"
          ],
          [
           "R D Green",
           "Big Rivers Electric Corp"
          ],
          [
           "Independence",
           "Entergy Arkansas LLC"
          ],
          [
           "Louisa",
           "MidAmerican Energy Co"
          ],
          [
           "Warrick",
           "Alcoa Generating Corp"
          ],
          [
           "Sikeston",
           "Sikeston City of"
          ],
          [
           "Hugo",
           "Western Farmers Elec Coop Inc"
          ],
          [
           "D B Wilson",
           "Big Rivers Electric Corp"
          ],
          [
           "TNP ONE",
           "Optim Energy LLC"
          ],
          [
           "J K Spruce",
           "San Antonio Public Service Bd"
          ],
          [
           "Clover",
           "Dominion Virginia Power"
          ],
          [
           "Neal South",
           "MidAmerican Energy Co"
          ],
          [
           "Neil Simpson II",
           "Black Hills Corp"
          ],
          [
           "Bonanza",
           "Deseret Generation & Tran Coop"
          ],
          [
           "Belews Creek",
           "Duke Energy Corp"
          ],
          [
           "Gen J M Gavin",
           "Gavin Power, LLC"
          ],
          [
           "Coyote",
           "Otter Tail Power Co"
          ],
          [
           "Springerville",
           "Tucson Electric Power Co"
          ],
          [
           "Logan",
           "Logan Generating Company LP"
          ],
          [
           "John B Rich Memorial",
           "Ri-Corp Development, Inc."
          ],
          [
           "Colver",
           "Inter-Power/AhlCon Partners, L.P."
          ],
          [
           "Grant Town",
           "American Bituminous Power LP"
          ],
          [
           "Seadrift Coke LP",
           "Seadrift Coke L P"
          ],
          [
           "Biron Mill",
           "ND Paper LLC"
          ],
          [
           "Mount Carmel Cogen",
           "Mount Carmel Cogen Inc"
          ],
          [
           "Savannah River Mill",
           "Georgia-Pacific Corp"
          ],
          [
           "The Amalgamated Sugar Co LLC",
           "The Amalgamated Sugar Co"
          ],
          [
           "Ebensburg Power Co",
           "Ebensburg Power Co"
          ],
          [
           "AES Shady Point Inc",
           "Oklahoma Gas & Electric Co"
          ],
          [
           "Warrior Run Cogen",
           "AES WR Ltd Partnership"
          ],
          [
           "Argus Cogen",
           "Searles Valley Minerals Operations Inc."
          ],
          [
           "Morgantown Energy",
           "Morgantown Energy Associates"
          ],
          [
           "Colstrip Energy LP",
           "Colstrip Energy LP"
          ],
          [
           "Silver Bay Power Co",
           "Cleveland Cliffs Inc"
          ],
          [
           "Clinton",
           "Archer Daniels Midland Co"
          ],
          [
           "Des Moines",
           "Archer Daniels Midland Co"
          ],
          [
           "Lincoln",
           "Archer Daniels Midland Co"
          ],
          [
           "Mankato",
           "Archer Daniels Midland Co"
          ],
          [
           "Cedar Rapids",
           "Archer Daniels Midland Co"
          ],
          [
           "Decatur",
           "Archer Daniels Midland Co"
          ],
          [
           "Valero Refinery Corpus Christi",
           "Valero Refining Co"
          ],
          [
           "LaFarge Corp Alpena",
           "Lafarge Corp"
          ],
          [
           "Utility Plants Section",
           "Doyon Utilities"
          ],
          [
           "Eielson Air Force Base Central",
           "U S Air Force-Eielson AFB"
          ],
          [
           "P H Glatfelter Co",
           "Pixelle Specialty Solutions LLC - (PA)"
          ],
          [
           "Tennessee Eastman Ops",
           "Eastman Chemical Co-TN Ops"
          ],
          [
           "Westwood",
           "Rausch Creek Generation, LLC"
          ],
          [
           "Valero Refinery Paulsboro",
           "Valero Refining Co - NJ"
          ],
          [
           "University of Alaska Fairbanks",
           "University of Alaska"
          ],
          [
           "Panther Creek",
           "Panther Creek Partners"
          ],
          [
           "Northhampton Generating Co LP",
           "Northampton Generating Co LP"
          ],
          [
           "Covington",
           "Westvaco Corp"
          ],
          [
           "Yellowstone Energy LP",
           "Yellowstone Energy LP"
          ],
          [
           "Wausau Mosinee Paper Corp - Rhinelander",
           "Ahlstrom-Munksjo"
          ],
          [
           "Sunnyside Cogen Assoc",
           "Sunnyside Cogeneration Assoc"
          ],
          [
           "Toledo Prt",
           "Sunoco Inc"
          ],
          [
           "Scrubgrass",
           "Scrubgrass Reclamation CO. LP."
          ],
          [
           "Thilmany Pulp Paper",
           "Thilmany LLC"
          ],
          [
           "ACS Hillsboro",
           "American Crystal Sugar Co"
          ],
          [
           "ACS Moorhead",
           "American Crystal Sugar Co"
          ],
          [
           "ACS Crookston",
           "American Crystal Sugar Co"
          ],
          [
           "ACS Drayton",
           "American Crystal Sugar Co"
          ],
          [
           "ACS East Grand Forks",
           "American Crystal Sugar Co"
          ],
          [
           "UNC Chapel Hill Cogen",
           "University of North Carolina"
          ],
          [
           "General Chemical",
           "General Chemical Corp"
          ],
          [
           "Southern Minnesota Beet Sugar",
           "Southern Minnesota Beet Sugar"
          ],
          [
           "Ingredion Illinois",
           "Corn Products Intl Inc"
          ],
          [
           "St Nicholas Cogen",
           "Schuylkill Energy Resource Inc"
          ],
          [
           "Kimberly Clark Corp Munising M",
           "Neenah Paper Michigan Inc."
          ],
          [
           "Red Hills Generating Facility",
           "Choctaw Generating LP"
          ],
          [
           "WYGEN",
           "Black Hills Energy Capital Inc"
          ],
          [
           "Hardin Generator Project",
           "Heorot Power Management"
          ],
          [
           "Prairie State Generatng Stat",
           "Prairie State Generating Co LL"
          ],
          [
           "Elm Road Generating Station",
           "Wisconsin Electric Power Co"
          ],
          [
           "TS Power Plant",
           "Nevada Gold Energy, LLC"
          ],
          [
           "Wygen 2",
           "Black Hills Corp"
          ],
          [
           "Plum Point Energy Station",
           "NAES Corporation - Plum Point"
          ],
          [
           "John W Turk Jr",
           "Southwestern Electric Power Co"
          ],
          [
           "Wygen 3",
           "Black Hills Corp"
          ],
          [
           "Dry Fork Station",
           "Basin Electric Power Coop"
          ],
          [
           "Sandy Creek Energy Station",
           "Sandy Creek Energy Associates LP"
          ],
          [
           "Longview Power LLC",
           "GenPower"
          ],
          [
           "Spiritwood Station",
           "Great River Energy"
          ],
          [
           "Virginia City Hybrid Energy Center",
           "Dominion Virginia Power"
          ],
          [
           "Archer Daniels Midland - Columbus",
           "Archer Daniels Midland Co"
          ],
          [
           "Sidney MT Plant",
           "Sidney Sugars Incorporated"
          ],
          [
           "Tronox",
           "Genesis Alkali, LLC"
          ],
          [
           "SIUC",
           "Southern Illinois University Carbondale"
          ],
          [
           "Scottsbluff",
           "Western Sugar Cooperative"
          ],
          [
           "MSC Sebewaing",
           "Michigan Sugar Company"
          ],
          [
           "Roquette America",
           "Roquette America"
          ],
          [
           "PRSI FCC Generator",
           "Pasadena Refining System Inc"
          ],
          [
           "Western Sugar Cooperative - Billings",
           "Western Sugar Cooperative  - Billings"
          ]
         ],
         "hovertemplate": "capacity_mw=%{marker.size}<br>latitude=%{lat}<br>longitude=%{lon}<br>plant_name_eia=%{customdata[0]}<br>utility_name_eia=%{customdata[1]}<extra></extra>",
         "lat": [
          31.0069,
          33.244211,
          40.854765,
          40.580872,
          64.847743,
          37.9308,
          34.9394,
          33.371506,
          29.733056,
          32.0603,
          36.190278,
          38.2081,
          28.4822,
          39.18,
          28.9656,
          27.7944,
          30.4172,
          34.1256,
          40.5408,
          39.754803,
          37.619747,
          38.7378,
          38.5281,
          39.9242,
          37.9111,
          39.8028,
          41.944039,
          41.18,
          42.299794,
          40.7412,
          41.3917,
          38.3481,
          39.0072,
          37.78831,
          38.7497,
          38.0525,
          37.1517,
          36.9981,
          30.2844,
          39.1781,
          41.8906,
          47.2611,
          45.03,
          47.4294,
          39.1306,
          38.562244,
          36.5147,
          39.5522,
          41.4281,
          40.5589,
          41.32909,
          43.1411,
          43.0978,
          36.4833,
          35.22,
          35.5975,
          47.280769,
          47.065854,
          40.2522,
          38.9144,
          41.6917,
          40.520066,
          40.850964,
          41.7265,
          35.76135,
          36.4317,
          40.3842,
          40.512825,
          40.40625,
          40.6604,
          41.0714,
          33.8264,
          33.0158,
          29.4828,
          38.4731,
          39.710833,
          39.384167,
          39.8297,
          39.2008,
          44.8606,
          44.082,
          44.303583,
          33.6319,
          34.4228,
          38.9036,
          47.377743,
          38.7,
          33.41342,
          30.7261,
          39.1681,
          39.4472,
          39.286453,
          38.5847,
          45.8831,
          41.0808,
          36.45307,
          40.6214,
          45.303652,
          38.372222,
          36.2561,
          32.2606,
          39.1747,
          29.9172,
          31.1803,
          28.7044,
          31.395,
          37.151706,
          42.108889,
          39.0694,
          40.2217,
          36.5278,
          41.0961,
          33.0606,
          38.9794,
          63.8542,
          47.370542,
          37.6461,
          35.678442,
          41.3181,
          37.915,
          36.8791,
          34.0158,
          37.4497,
          31.091925,
          29.309722,
          36.869,
          42.3006,
          44.2856,
          40.0864,
          36.2811,
          38.9347,
          47.221447,
          34.3186,
          39.7928,
          40.7903,
          40.55,
          39.561831,
          28.513929,
          44.43,
          40.811189,
          32.331274,
          42.5328,
          40.455,
          35.1931,
          39.595171,
          35.765,
          39.6397,
          45.9752,
          47.286573,
          41.8206,
          41.624438,
          40.866463,
          44.187066,
          41.9221,
          39.870074,
          27.8175,
          45.069929,
          64.825601,
          64.67141,
          39.870935,
          36.5219,
          40.6191,
          39.84,
          64.854171,
          40.8556,
          40.6917,
          37.799722,
          45.8117,
          45.6394,
          39.5472,
          41.6325,
          41.2691,
          44.2826,
          47.437562,
          46.9026,
          47.76468,
          48.593158,
          47.927202,
          35.9069,
          41.5933,
          44.796405,
          41.7775,
          40.8222,
          46.4094,
          33.3761,
          44.2858,
          45.7578,
          38.279167,
          42.8492,
          40.7461,
          44.2919,
          35.6644,
          33.649722,
          44.2919,
          44.388889,
          31.474378,
          39.707893,
          46.926423,
          36.916389,
          41.416442,
          47.717222,
          41.621667,
          37.711944,
          41.85887,
          43.741111,
          40.389167,
          29.723333,
          45.765346
         ],
         "legendgroup": "",
         "lon": [
          -88.0103,
          -86.45806,
          -98.34822,
          -98.31244,
          -147.7351,
          -100.9725,
          -110.3033,
          -80.1119,
          -81.63278,
          -109.8931,
          -95.2894,
          -104.5747,
          -81.1678,
          -76.5389,
          -82.6977,
          -82.4036,
          -81.5525,
          -84.9222,
          -89.6786,
          -89.60239,
          -88.95311,
          -85.4206,
          -87.2525,
          -87.4244,
          -87.3275,
          -84.8953,
          -91.63917,
          -95.8408,
          -96.36171,
          -91.11667,
          -91.0569,
          -94.6456,
          -95.26917,
          -84.71257,
          -85.035,
          -85.9103,
          -88.775,
          -84.5919,
          -93.2911,
          -76.5268,
          -83.3464,
          -93.6528,
          -92.7786,
          -92.935,
          -94.4778,
          -90.83769,
          -89.5617,
          -92.6381,
          -96.4623,
          -96.7847,
          -95.94466,
          -71.4692,
          -70.7842,
          -79.0731,
          -81.7594,
          -80.9658,
          -101.834444,
          -101.2131,
          -80.6486,
          -82.1289,
          -83.4378,
          -81.46815,
          -81.76576,
          -81.254,
          -95.28732,
          -95.7008,
          -79.0611,
          -79.19611,
          -79.03366,
          -79.3411,
          -76.6672,
          -80.6228,
          -79.9297,
          -95.6311,
          -81.8233,
          -79.9275,
          -80.3325,
          -80.8153,
          -79.2636,
          -89.6553,
          -87.6558,
          -91.91265,
          -87.0597,
          -92.1406,
          -84.8514,
          -101.1571,
          -83.8181,
          -85.03233,
          -91.3692,
          -94.6975,
          -94.98,
          -96.11723,
          -85.4117,
          -106.614,
          -101.1408,
          -97.05279,
          -95.7764,
          -96.51007,
          -87.76583,
          -94.5241,
          -94.5706,
          -111.0289,
          -96.7506,
          -96.4866,
          -98.4775,
          -92.71667,
          -93.38804,
          -104.8825,
          -87.5108,
          -103.6803,
          -78.8917,
          -92.55583,
          -83.8075,
          -81.9344,
          -148.95,
          -101.3194,
          -87.5,
          -91.40876,
          -91.0931,
          -87.3328,
          -89.6209,
          -95.3206,
          -87.0806,
          -96.69503,
          -98.3203,
          -78.704,
          -96.3617,
          -105.3833,
          -109.2844,
          -80.0603,
          -82.1158,
          -101.8157,
          -109.1639,
          -75.40667,
          -76.1983,
          -78.8,
          -80.16314,
          -96.79415,
          -89.78,
          -76.45295,
          -81.2015,
          -114.4328,
          -78.7472,
          -94.6458,
          -78.74533,
          -117.3833,
          -79.96056,
          -106.6547,
          -91.26053,
          -90.2097,
          -93.58452,
          -96.61449,
          -93.99242,
          -91.6875,
          -88.89076,
          -97.4814,
          -83.40818,
          -147.6486,
          -147.076,
          -76.86812,
          -82.5431,
          -76.45,
          -75.2583,
          -147.8221,
          -75.8781,
          -75.4792,
          -79.9947,
          -108.4278,
          -89.4205,
          -110.3917,
          -83.5042,
          -79.8134,
          -88.2534,
          -97.06311,
          -96.76112,
          -96.63338,
          -97.17608,
          -97.00715,
          -79.0617,
          -109.7542,
          -95.17979,
          -87.8233,
          -76.1736,
          -86.6443,
          -89.2183,
          -105.3833,
          -107.6,
          -89.66694,
          -87.8336,
          -116.5297,
          -105.3811,
          -89.9489,
          -93.81194,
          -105.3806,
          -105.4608,
          -96.95715,
          -79.95897,
          -98.49971,
          -82.33806,
          -97.28633,
          -104.1356,
          -109.8119,
          -89.215,
          -103.6344,
          -83.44722,
          -91.39417,
          -95.21028,
          -108.4992
         ],
         "marker": {
          "color": "#636efa",
          "size": [
           403.7,
           952,
           109.8,
           76.3,
           5,
           348.7,
           113.6,
           590.9,
           714.6,
           204,
           594,
           856.8,
           464.5,
           685.1,
           739.2,
           486,
           297.5,
           805.8,
           892.8,
           230.1,
           33,
           217.3,
           670.9,
           531,
           265.2,
           33,
           14.6,
           725.8,
           584.1,
           212,
           175.5,
           873,
           114,
           464,
           556.9,
           355.5,
           175,
           113.6,
           113.6,
           359,
           817.2,
           558,
           598.4,
           10,
           569,
           573.7,
           650,
           171.7,
           16.5,
           108.8,
           136,
           113.6,
           50,
           410.8,
           909.5,
           711,
           216,
           257,
           615.2,
           217.3,
           150.5,
           8,
           25,
           7.5,
           572,
           473,
           975.5,
           660,
           585,
           936,
           864.9,
           385.9,
           659.7,
           734.1,
           816.3,
           576,
           684,
           816.3,
           570.2,
           350.5,
           63.4,
           387,
           705.5,
           900,
           772,
           604.8,
           357.6,
           952,
           657.9,
           261,
           726,
           720,
           566.1,
           823.7,
           681.3,
           569,
           651.6,
           450,
           667.9,
           558,
           793.2,
           525,
           615,
           916.8,
           410,
           558,
           194,
           570,
           540,
           552.3,
           763.2,
           725.9,
           891,
           1300,
           28,
           477,
           293,
           900,
           811.9,
           166.6,
           261,
           446,
           509.4,
           174.6,
           566,
           424,
           695.9,
           90,
           499.5,
           1245.6,
           1300,
           450,
           424.8,
           242.3,
           88.4,
           118,
           95.7,
           7.6,
           17,
           47.3,
           45,
           6.2,
           57.6,
           175,
           229,
           7.5,
           68.9,
           46.1,
           50,
           75,
           7.9,
           7.9,
           6.1,
           31,
           31,
           28.6,
           3.2,
           5,
           2.5,
           45.9,
           6,
           36,
           18,
           1.5,
           94,
           134.1,
           10.5,
           68,
           9.3,
           58.1,
           6,
           94.7,
           12,
           13.3,
           3,
           3.5,
           6,
           2.5,
           28,
           15,
           7.5,
           22.5,
           99.2,
           6.2,
           513.7,
           90,
           115.7,
           883,
           701.3,
           242,
           95,
           720,
           609,
           116,
           483.7,
           1008,
           807.5,
           106.2,
           668,
           71.4,
           2,
           3.5,
           3.5,
           5,
           1.5,
           34.4,
           4.7,
           1.5
          ],
          "sizemode": "area",
          "sizeref": 3.25
         },
         "mode": "markers",
         "name": "",
         "showlegend": false,
         "subplot": "mapbox",
         "type": "scattermapbox"
        }
       ],
       "layout": {
        "legend": {
         "itemsizing": "constant",
         "tracegroupgap": 0
        },
        "mapbox": {
         "accesstoken": "pk.eyJ1IjoibWNhc3RpbGxvcm1pIiwiYSI6ImNsYWJjcHNhYzA5dTMzc3BpMThpc3RiYmYifQ.xSdph_u4qXYTU163JFOCWQ",
         "center": {
          "lat": 39.849601432692296,
          "lon": -92.01330785576911
         },
         "domain": {
          "x": [
           0,
           1
          ],
          "y": [
           0,
           1
          ]
         },
         "style": "stamen-toner",
         "zoom": 4.8
        },
        "margin": {
         "b": 0,
         "l": 0,
         "r": 0,
         "t": 80
        },
        "template": {
         "data": {
          "bar": [
           {
            "error_x": {
             "color": "#2a3f5f"
            },
            "error_y": {
             "color": "#2a3f5f"
            },
            "marker": {
             "line": {
              "color": "#E5ECF6",
              "width": 0.5
             },
             "pattern": {
              "fillmode": "overlay",
              "size": 10,
              "solidity": 0.2
             }
            },
            "type": "bar"
           }
          ],
          "barpolar": [
           {
            "marker": {
             "line": {
              "color": "#E5ECF6",
              "width": 0.5
             },
             "pattern": {
              "fillmode": "overlay",
              "size": 10,
              "solidity": 0.2
             }
            },
            "type": "barpolar"
           }
          ],
          "carpet": [
           {
            "aaxis": {
             "endlinecolor": "#2a3f5f",
             "gridcolor": "white",
             "linecolor": "white",
             "minorgridcolor": "white",
             "startlinecolor": "#2a3f5f"
            },
            "baxis": {
             "endlinecolor": "#2a3f5f",
             "gridcolor": "white",
             "linecolor": "white",
             "minorgridcolor": "white",
             "startlinecolor": "#2a3f5f"
            },
            "type": "carpet"
           }
          ],
          "choropleth": [
           {
            "colorbar": {
             "outlinewidth": 0,
             "ticks": ""
            },
            "type": "choropleth"
           }
          ],
          "contour": [
           {
            "colorbar": {
             "outlinewidth": 0,
             "ticks": ""
            },
            "colorscale": [
             [
              0,
              "#0d0887"
             ],
             [
              0.1111111111111111,
              "#46039f"
             ],
             [
              0.2222222222222222,
              "#7201a8"
             ],
             [
              0.3333333333333333,
              "#9c179e"
             ],
             [
              0.4444444444444444,
              "#bd3786"
             ],
             [
              0.5555555555555556,
              "#d8576b"
             ],
             [
              0.6666666666666666,
              "#ed7953"
             ],
             [
              0.7777777777777778,
              "#fb9f3a"
             ],
             [
              0.8888888888888888,
              "#fdca26"
             ],
             [
              1,
              "#f0f921"
             ]
            ],
            "type": "contour"
           }
          ],
          "contourcarpet": [
           {
            "colorbar": {
             "outlinewidth": 0,
             "ticks": ""
            },
            "type": "contourcarpet"
           }
          ],
          "heatmap": [
           {
            "colorbar": {
             "outlinewidth": 0,
             "ticks": ""
            },
            "colorscale": [
             [
              0,
              "#0d0887"
             ],
             [
              0.1111111111111111,
              "#46039f"
             ],
             [
              0.2222222222222222,
              "#7201a8"
             ],
             [
              0.3333333333333333,
              "#9c179e"
             ],
             [
              0.4444444444444444,
              "#bd3786"
             ],
             [
              0.5555555555555556,
              "#d8576b"
             ],
             [
              0.6666666666666666,
              "#ed7953"
             ],
             [
              0.7777777777777778,
              "#fb9f3a"
             ],
             [
              0.8888888888888888,
              "#fdca26"
             ],
             [
              1,
              "#f0f921"
             ]
            ],
            "type": "heatmap"
           }
          ],
          "heatmapgl": [
           {
            "colorbar": {
             "outlinewidth": 0,
             "ticks": ""
            },
            "colorscale": [
             [
              0,
              "#0d0887"
             ],
             [
              0.1111111111111111,
              "#46039f"
             ],
             [
              0.2222222222222222,
              "#7201a8"
             ],
             [
              0.3333333333333333,
              "#9c179e"
             ],
             [
              0.4444444444444444,
              "#bd3786"
             ],
             [
              0.5555555555555556,
              "#d8576b"
             ],
             [
              0.6666666666666666,
              "#ed7953"
             ],
             [
              0.7777777777777778,
              "#fb9f3a"
             ],
             [
              0.8888888888888888,
              "#fdca26"
             ],
             [
              1,
              "#f0f921"
             ]
            ],
            "type": "heatmapgl"
           }
          ],
          "histogram": [
           {
            "marker": {
             "pattern": {
              "fillmode": "overlay",
              "size": 10,
              "solidity": 0.2
             }
            },
            "type": "histogram"
           }
          ],
          "histogram2d": [
           {
            "colorbar": {
             "outlinewidth": 0,
             "ticks": ""
            },
            "colorscale": [
             [
              0,
              "#0d0887"
             ],
             [
              0.1111111111111111,
              "#46039f"
             ],
             [
              0.2222222222222222,
              "#7201a8"
             ],
             [
              0.3333333333333333,
              "#9c179e"
             ],
             [
              0.4444444444444444,
              "#bd3786"
             ],
             [
              0.5555555555555556,
              "#d8576b"
             ],
             [
              0.6666666666666666,
              "#ed7953"
             ],
             [
              0.7777777777777778,
              "#fb9f3a"
             ],
             [
              0.8888888888888888,
              "#fdca26"
             ],
             [
              1,
              "#f0f921"
             ]
            ],
            "type": "histogram2d"
           }
          ],
          "histogram2dcontour": [
           {
            "colorbar": {
             "outlinewidth": 0,
             "ticks": ""
            },
            "colorscale": [
             [
              0,
              "#0d0887"
             ],
             [
              0.1111111111111111,
              "#46039f"
             ],
             [
              0.2222222222222222,
              "#7201a8"
             ],
             [
              0.3333333333333333,
              "#9c179e"
             ],
             [
              0.4444444444444444,
              "#bd3786"
             ],
             [
              0.5555555555555556,
              "#d8576b"
             ],
             [
              0.6666666666666666,
              "#ed7953"
             ],
             [
              0.7777777777777778,
              "#fb9f3a"
             ],
             [
              0.8888888888888888,
              "#fdca26"
             ],
             [
              1,
              "#f0f921"
             ]
            ],
            "type": "histogram2dcontour"
           }
          ],
          "mesh3d": [
           {
            "colorbar": {
             "outlinewidth": 0,
             "ticks": ""
            },
            "type": "mesh3d"
           }
          ],
          "parcoords": [
           {
            "line": {
             "colorbar": {
              "outlinewidth": 0,
              "ticks": ""
             }
            },
            "type": "parcoords"
           }
          ],
          "pie": [
           {
            "automargin": true,
            "type": "pie"
           }
          ],
          "scatter": [
           {
            "fillpattern": {
             "fillmode": "overlay",
             "size": 10,
             "solidity": 0.2
            },
            "type": "scatter"
           }
          ],
          "scatter3d": [
           {
            "line": {
             "colorbar": {
              "outlinewidth": 0,
              "ticks": ""
             }
            },
            "marker": {
             "colorbar": {
              "outlinewidth": 0,
              "ticks": ""
             }
            },
            "type": "scatter3d"
           }
          ],
          "scattercarpet": [
           {
            "marker": {
             "colorbar": {
              "outlinewidth": 0,
              "ticks": ""
             }
            },
            "type": "scattercarpet"
           }
          ],
          "scattergeo": [
           {
            "marker": {
             "colorbar": {
              "outlinewidth": 0,
              "ticks": ""
             }
            },
            "type": "scattergeo"
           }
          ],
          "scattergl": [
           {
            "marker": {
             "colorbar": {
              "outlinewidth": 0,
              "ticks": ""
             }
            },
            "type": "scattergl"
           }
          ],
          "scattermapbox": [
           {
            "marker": {
             "colorbar": {
              "outlinewidth": 0,
              "ticks": ""
             }
            },
            "type": "scattermapbox"
           }
          ],
          "scatterpolar": [
           {
            "marker": {
             "colorbar": {
              "outlinewidth": 0,
              "ticks": ""
             }
            },
            "type": "scatterpolar"
           }
          ],
          "scatterpolargl": [
           {
            "marker": {
             "colorbar": {
              "outlinewidth": 0,
              "ticks": ""
             }
            },
            "type": "scatterpolargl"
           }
          ],
          "scatterternary": [
           {
            "marker": {
             "colorbar": {
              "outlinewidth": 0,
              "ticks": ""
             }
            },
            "type": "scatterternary"
           }
          ],
          "surface": [
           {
            "colorbar": {
             "outlinewidth": 0,
             "ticks": ""
            },
            "colorscale": [
             [
              0,
              "#0d0887"
             ],
             [
              0.1111111111111111,
              "#46039f"
             ],
             [
              0.2222222222222222,
              "#7201a8"
             ],
             [
              0.3333333333333333,
              "#9c179e"
             ],
             [
              0.4444444444444444,
              "#bd3786"
             ],
             [
              0.5555555555555556,
              "#d8576b"
             ],
             [
              0.6666666666666666,
              "#ed7953"
             ],
             [
              0.7777777777777778,
              "#fb9f3a"
             ],
             [
              0.8888888888888888,
              "#fdca26"
             ],
             [
              1,
              "#f0f921"
             ]
            ],
            "type": "surface"
           }
          ],
          "table": [
           {
            "cells": {
             "fill": {
              "color": "#EBF0F8"
             },
             "line": {
              "color": "white"
             }
            },
            "header": {
             "fill": {
              "color": "#C8D4E3"
             },
             "line": {
              "color": "white"
             }
            },
            "type": "table"
           }
          ]
         },
         "layout": {
          "annotationdefaults": {
           "arrowcolor": "#2a3f5f",
           "arrowhead": 0,
           "arrowwidth": 1
          },
          "autotypenumbers": "strict",
          "coloraxis": {
           "colorbar": {
            "outlinewidth": 0,
            "ticks": ""
           }
          },
          "colorscale": {
           "diverging": [
            [
             0,
             "#8e0152"
            ],
            [
             0.1,
             "#c51b7d"
            ],
            [
             0.2,
             "#de77ae"
            ],
            [
             0.3,
             "#f1b6da"
            ],
            [
             0.4,
             "#fde0ef"
            ],
            [
             0.5,
             "#f7f7f7"
            ],
            [
             0.6,
             "#e6f5d0"
            ],
            [
             0.7,
             "#b8e186"
            ],
            [
             0.8,
             "#7fbc41"
            ],
            [
             0.9,
             "#4d9221"
            ],
            [
             1,
             "#276419"
            ]
           ],
           "sequential": [
            [
             0,
             "#0d0887"
            ],
            [
             0.1111111111111111,
             "#46039f"
            ],
            [
             0.2222222222222222,
             "#7201a8"
            ],
            [
             0.3333333333333333,
             "#9c179e"
            ],
            [
             0.4444444444444444,
             "#bd3786"
            ],
            [
             0.5555555555555556,
             "#d8576b"
            ],
            [
             0.6666666666666666,
             "#ed7953"
            ],
            [
             0.7777777777777778,
             "#fb9f3a"
            ],
            [
             0.8888888888888888,
             "#fdca26"
            ],
            [
             1,
             "#f0f921"
            ]
           ],
           "sequentialminus": [
            [
             0,
             "#0d0887"
            ],
            [
             0.1111111111111111,
             "#46039f"
            ],
            [
             0.2222222222222222,
             "#7201a8"
            ],
            [
             0.3333333333333333,
             "#9c179e"
            ],
            [
             0.4444444444444444,
             "#bd3786"
            ],
            [
             0.5555555555555556,
             "#d8576b"
            ],
            [
             0.6666666666666666,
             "#ed7953"
            ],
            [
             0.7777777777777778,
             "#fb9f3a"
            ],
            [
             0.8888888888888888,
             "#fdca26"
            ],
            [
             1,
             "#f0f921"
            ]
           ]
          },
          "colorway": [
           "#636efa",
           "#EF553B",
           "#00cc96",
           "#ab63fa",
           "#FFA15A",
           "#19d3f3",
           "#FF6692",
           "#B6E880",
           "#FF97FF",
           "#FECB52"
          ],
          "font": {
           "color": "#2a3f5f"
          },
          "geo": {
           "bgcolor": "white",
           "lakecolor": "white",
           "landcolor": "#E5ECF6",
           "showlakes": true,
           "showland": true,
           "subunitcolor": "white"
          },
          "hoverlabel": {
           "align": "left"
          },
          "hovermode": "closest",
          "mapbox": {
           "style": "light"
          },
          "paper_bgcolor": "white",
          "plot_bgcolor": "#E5ECF6",
          "polar": {
           "angularaxis": {
            "gridcolor": "white",
            "linecolor": "white",
            "ticks": ""
           },
           "bgcolor": "#E5ECF6",
           "radialaxis": {
            "gridcolor": "white",
            "linecolor": "white",
            "ticks": ""
           }
          },
          "scene": {
           "xaxis": {
            "backgroundcolor": "#E5ECF6",
            "gridcolor": "white",
            "gridwidth": 2,
            "linecolor": "white",
            "showbackground": true,
            "ticks": "",
            "zerolinecolor": "white"
           },
           "yaxis": {
            "backgroundcolor": "#E5ECF6",
            "gridcolor": "white",
            "gridwidth": 2,
            "linecolor": "white",
            "showbackground": true,
            "ticks": "",
            "zerolinecolor": "white"
           },
           "zaxis": {
            "backgroundcolor": "#E5ECF6",
            "gridcolor": "white",
            "gridwidth": 2,
            "linecolor": "white",
            "showbackground": true,
            "ticks": "",
            "zerolinecolor": "white"
           }
          },
          "shapedefaults": {
           "line": {
            "color": "#2a3f5f"
           }
          },
          "ternary": {
           "aaxis": {
            "gridcolor": "white",
            "linecolor": "white",
            "ticks": ""
           },
           "baxis": {
            "gridcolor": "white",
            "linecolor": "white",
            "ticks": ""
           },
           "bgcolor": "#E5ECF6",
           "caxis": {
            "gridcolor": "white",
            "linecolor": "white",
            "ticks": ""
           }
          },
          "title": {
           "x": 0.05
          },
          "xaxis": {
           "automargin": true,
           "gridcolor": "white",
           "linecolor": "white",
           "ticks": "",
           "title": {
            "standoff": 15
           },
           "zerolinecolor": "white",
           "zerolinewidth": 2
          },
          "yaxis": {
           "automargin": true,
           "gridcolor": "white",
           "linecolor": "white",
           "ticks": "",
           "title": {
            "standoff": 15
           },
           "zerolinecolor": "white",
           "zerolinewidth": 2
          }
         }
        },
        "title": {
         "text": "coal plants without retirement date",
         "x": 0.5,
         "y": 0.95
        }
       }
      }
     },
     "metadata": {},
     "output_type": "display_data"
    }
   ],
   "source": [
    "\n",
    "fig = px.scatter_mapbox(plants_coal_no_retirement,lat='latitude',lon='longitude',hover_data=['plant_name_eia','utility_name_eia'],size='capacity_mw',title='coal plants without retirement date')\n",
    "\n",
    "fig.update_layout(\n",
    "    title_x=0.5,\n",
    "    title_y=0.95,\n",
    "    mapbox={'style':'stamen-toner', 'zoom':4.8},\n",
    "    margin={\"l\": 0, \"r\": 0, \"b\": 0, \"t\": 80}\n",
    ")\n",
    "\n",
    "fig.show()"
   ]
  },
  {
   "cell_type": "code",
   "execution_count": 43,
   "metadata": {},
   "outputs": [
    {
     "data": {
      "text/plain": [
       "'https://plotly.com/~mcastillo/56/'"
      ]
     },
     "execution_count": 43,
     "metadata": {},
     "output_type": "execute_result"
    }
   ],
   "source": [
    "py.plot(fig,filename='coal-plants-no-retirement',auto_open=True)"
   ]
  }
 ],
 "metadata": {
  "kernelspec": {
   "display_name": "Python 3.10.6 ('hub')",
   "language": "python",
   "name": "python3"
  },
  "language_info": {
   "codemirror_mode": {
    "name": "ipython",
    "version": 3
   },
   "file_extension": ".py",
   "mimetype": "text/x-python",
   "name": "python",
   "nbconvert_exporter": "python",
   "pygments_lexer": "ipython3",
   "version": "3.10.6"
  },
  "orig_nbformat": 4,
  "vscode": {
   "interpreter": {
    "hash": "6a9ad9a3331dce8650e69d2492d8ebf76184c4e4630d5626b4b84223294104b5"
   }
  }
 },
 "nbformat": 4,
 "nbformat_minor": 2
}
