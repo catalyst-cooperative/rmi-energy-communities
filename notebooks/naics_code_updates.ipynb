{
 "cells": [
  {
   "cell_type": "code",
   "execution_count": null,
   "id": "fd64b637-b64a-4275-843c-c4155d6d2c29",
   "metadata": {
    "tags": []
   },
   "outputs": [],
   "source": [
    "%load_ext autoreload\n",
    "%autoreload 3"
   ]
  },
  {
   "cell_type": "code",
   "execution_count": null,
   "id": "30739743-9bcf-4bd5-b9d1-dee0d2e8341a",
   "metadata": {
    "tags": []
   },
   "outputs": [],
   "source": [
    "import logging\n",
    "import sys\n",
    "\n",
    "import energy_comms"
   ]
  },
  {
   "cell_type": "code",
   "execution_count": null,
   "id": "745fdcb4-bdbd-4080-95f3-a95142e99590",
   "metadata": {
    "tags": []
   },
   "outputs": [],
   "source": [
    "logger = logging.getLogger()\n",
    "logger.setLevel(logging.INFO)\n",
    "handler = logging.StreamHandler(stream=sys.stdout)\n",
    "formatter = logging.Formatter()\n",
    "handler.setFormatter(formatter)\n",
    "logger.handlers = [handler]"
   ]
  },
  {
   "cell_type": "code",
   "execution_count": null,
   "id": "5077abcc-5eb5-4168-b8d7-9089b7a254d6",
   "metadata": {},
   "outputs": [],
   "source": [
    "energy_comms.extract.bls"
   ]
  }
 ],
 "metadata": {
  "kernelspec": {
   "display_name": "Python 3 (ipykernel)",
   "language": "python",
   "name": "python3"
  },
  "language_info": {
   "codemirror_mode": {
    "name": "ipython",
    "version": 3
   },
   "file_extension": ".py",
   "mimetype": "text/x-python",
   "name": "python",
   "nbconvert_exporter": "python",
   "pygments_lexer": "ipython3",
   "version": "3.11.2"
  },
  "vscode": {
   "interpreter": {
    "hash": "6a9ad9a3331dce8650e69d2492d8ebf76184c4e4630d5626b4b84223294104b5"
   }
  }
 },
 "nbformat": 4,
 "nbformat_minor": 5
}
