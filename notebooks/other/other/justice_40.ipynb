{
 "cells": [
  {
   "cell_type": "markdown",
   "metadata": {},
   "source": [
    "imports"
   ]
  },
  {
   "cell_type": "markdown",
   "metadata": {},
   "source": [
    "pudl set up"
   ]
  },
  {
   "cell_type": "code",
   "execution_count": 1,
   "metadata": {},
   "outputs": [],
   "source": [
    "# import the necessary packages\n",
    "%load_ext autoreload\n",
    "%autoreload 2\n",
    "\n",
    "import logging\n",
    "import os\n",
    "import sys\n",
    "\n",
    "import pandas as pd\n",
    "import sqlalchemy as sa\n",
    "import pudl"
   ]
  },
  {
   "cell_type": "code",
   "execution_count": 2,
   "metadata": {},
   "outputs": [],
   "source": [
    "pudl_settings = pudl.workspace.setup.get_defaults()\n",
    "pudl_engine = sa.create_engine(pudl_settings[\"pudl_db\"])\n",
    "pudl_out = pudl.output.pudltabl.PudlTabl(pudl_engine=pudl_engine)\n"
   ]
  },
  {
   "cell_type": "markdown",
   "metadata": {},
   "source": [
    "read excel file from online\n",
    "\n",
    "link: https://screeningtool.geoplatform.gov/en/downloads#3/33.47/-97.5"
   ]
  },
  {
   "cell_type": "code",
   "execution_count": 3,
   "metadata": {},
   "outputs": [],
   "source": [
    "communities = pd.read_excel('https://static-data-screeningtool.geoplatform.gov/data-versions/1.0/data/score/downloadable/1.0-communities.xlsx')"
   ]
  },
  {
   "cell_type": "markdown",
   "metadata": {},
   "source": [
    "geoprocessing prep"
   ]
  },
  {
   "cell_type": "code",
   "execution_count": 4,
   "metadata": {},
   "outputs": [],
   "source": [
    "# get county ID\n",
    "#make column a string\n",
    "communities['Census tract 2010 ID'] = communities['Census tract 2010 ID'].astype(str)\n",
    "# make sure census tract ID is 11 digits\n",
    "communities['Census tract 2010 ID'] = communities['Census tract 2010 ID'].str.zfill(11)\n",
    "\n",
    "#make county fips column\n",
    "communities['county_id_fips'] = communities['Census tract 2010 ID'].str[0:5]"
   ]
  },
  {
   "cell_type": "markdown",
   "metadata": {},
   "source": [
    "filter to disadvantaged"
   ]
  },
  {
   "cell_type": "code",
   "execution_count": 5,
   "metadata": {},
   "outputs": [],
   "source": [
    "disadvantaged_communities = communities.loc[communities['Identified as disadvantaged']==True]"
   ]
  },
  {
   "cell_type": "markdown",
   "metadata": {},
   "source": [
    "count how many tracts are in each county"
   ]
  },
  {
   "cell_type": "code",
   "execution_count": 6,
   "metadata": {},
   "outputs": [],
   "source": [
    "num_of_dc = disadvantaged_communities['county_id_fips'].value_counts().reset_index()\n",
    "num_of_dc = num_of_dc.rename(columns={'index':'county_id_fips','county_id_fips':'num_of_communities'})"
   ]
  },
  {
   "cell_type": "markdown",
   "metadata": {},
   "source": [
    "connect to total amount"
   ]
  },
  {
   "cell_type": "code",
   "execution_count": 7,
   "metadata": {},
   "outputs": [],
   "source": [
    "total_dc = communities['county_id_fips'].value_counts().reset_index()\n",
    "total_dc = total_dc.rename(columns={'index':'county_id_fips','county_id_fips':'total_num_of_communities'})"
   ]
  },
  {
   "cell_type": "code",
   "execution_count": 8,
   "metadata": {},
   "outputs": [],
   "source": [
    "community_complete = num_of_dc.merge(total_dc,on='county_id_fips',how='left')"
   ]
  },
  {
   "cell_type": "code",
   "execution_count": 9,
   "metadata": {},
   "outputs": [
    {
     "data": {
      "text/html": [
       "<div>\n",
       "<style scoped>\n",
       "    .dataframe tbody tr th:only-of-type {\n",
       "        vertical-align: middle;\n",
       "    }\n",
       "\n",
       "    .dataframe tbody tr th {\n",
       "        vertical-align: top;\n",
       "    }\n",
       "\n",
       "    .dataframe thead th {\n",
       "        text-align: right;\n",
       "    }\n",
       "</style>\n",
       "<table border=\"1\" class=\"dataframe\">\n",
       "  <thead>\n",
       "    <tr style=\"text-align: right;\">\n",
       "      <th></th>\n",
       "      <th>county_id_fips</th>\n",
       "      <th>num_of_communities</th>\n",
       "      <th>total_num_of_communities</th>\n",
       "      <th>disadvantaged_percent_of_total_communities</th>\n",
       "    </tr>\n",
       "  </thead>\n",
       "  <tbody>\n",
       "    <tr>\n",
       "      <th>0</th>\n",
       "      <td>06037</td>\n",
       "      <td>1146</td>\n",
       "      <td>2346</td>\n",
       "      <td>48.849105</td>\n",
       "    </tr>\n",
       "    <tr>\n",
       "      <th>1</th>\n",
       "      <td>17031</td>\n",
       "      <td>611</td>\n",
       "      <td>1319</td>\n",
       "      <td>46.322972</td>\n",
       "    </tr>\n",
       "    <tr>\n",
       "      <th>2</th>\n",
       "      <td>36047</td>\n",
       "      <td>410</td>\n",
       "      <td>761</td>\n",
       "      <td>53.876478</td>\n",
       "    </tr>\n",
       "    <tr>\n",
       "      <th>3</th>\n",
       "      <td>48201</td>\n",
       "      <td>402</td>\n",
       "      <td>786</td>\n",
       "      <td>51.145038</td>\n",
       "    </tr>\n",
       "    <tr>\n",
       "      <th>4</th>\n",
       "      <td>26163</td>\n",
       "      <td>362</td>\n",
       "      <td>611</td>\n",
       "      <td>59.247136</td>\n",
       "    </tr>\n",
       "    <tr>\n",
       "      <th>...</th>\n",
       "      <td>...</td>\n",
       "      <td>...</td>\n",
       "      <td>...</td>\n",
       "      <td>...</td>\n",
       "    </tr>\n",
       "    <tr>\n",
       "      <th>2707</th>\n",
       "      <td>31151</td>\n",
       "      <td>1</td>\n",
       "      <td>4</td>\n",
       "      <td>25.000000</td>\n",
       "    </tr>\n",
       "    <tr>\n",
       "      <th>2708</th>\n",
       "      <td>31153</td>\n",
       "      <td>1</td>\n",
       "      <td>43</td>\n",
       "      <td>2.325581</td>\n",
       "    </tr>\n",
       "    <tr>\n",
       "      <th>2709</th>\n",
       "      <td>31161</td>\n",
       "      <td>1</td>\n",
       "      <td>2</td>\n",
       "      <td>50.000000</td>\n",
       "    </tr>\n",
       "    <tr>\n",
       "      <th>2710</th>\n",
       "      <td>31181</td>\n",
       "      <td>1</td>\n",
       "      <td>2</td>\n",
       "      <td>50.000000</td>\n",
       "    </tr>\n",
       "    <tr>\n",
       "      <th>2711</th>\n",
       "      <td>78030</td>\n",
       "      <td>1</td>\n",
       "      <td>13</td>\n",
       "      <td>7.692308</td>\n",
       "    </tr>\n",
       "  </tbody>\n",
       "</table>\n",
       "<p>2712 rows × 4 columns</p>\n",
       "</div>"
      ],
      "text/plain": [
       "     county_id_fips  num_of_communities  total_num_of_communities  disadvantaged_percent_of_total_communities\n",
       "0             06037                1146                      2346                                   48.849105\n",
       "1             17031                 611                      1319                                   46.322972\n",
       "2             36047                 410                       761                                   53.876478\n",
       "3             48201                 402                       786                                   51.145038\n",
       "4             26163                 362                       611                                   59.247136\n",
       "...             ...                 ...                       ...                                         ...\n",
       "2707          31151                   1                         4                                   25.000000\n",
       "2708          31153                   1                        43                                    2.325581\n",
       "2709          31161                   1                         2                                   50.000000\n",
       "2710          31181                   1                         2                                   50.000000\n",
       "2711          78030                   1                        13                                    7.692308\n",
       "\n",
       "[2712 rows x 4 columns]"
      ]
     },
     "execution_count": 9,
     "metadata": {},
     "output_type": "execute_result"
    }
   ],
   "source": [
    "community_complete['disadvantaged_percent_of_total_communities'] = community_complete['num_of_communities'] / community_complete['total_num_of_communities'] * 100\n",
    "community_complete"
   ]
  },
  {
   "cell_type": "markdown",
   "metadata": {},
   "source": [
    "get utility service territory from PUDL"
   ]
  },
  {
   "cell_type": "code",
   "execution_count": 10,
   "metadata": {},
   "outputs": [
    {
     "name": "stderr",
     "output_type": "stream",
     "text": [
      "/opt/homebrew/Caskroom/miniforge/base/envs/hub/lib/python3.10/site-packages/pudl/extract/eia861.py:32: UserWarning: Integration of EIA 861 into PUDL is still experimental and incomplete.\n",
      "The data has not yet been validated, and the structure may change.\n",
      "  warnings.warn(\n"
     ]
    },
    {
     "name": "stdout",
     "output_type": "stream",
     "text": [
      "WARNING *** OLE2 inconsistency: SSCS size is 0 but SSAT size is non-zero\n",
      "WARNING *** OLE2 inconsistency: SSCS size is 0 but SSAT size is non-zero\n",
      "WARNING *** OLE2 inconsistency: SSCS size is 0 but SSAT size is non-zero\n",
      "WARNING *** OLE2 inconsistency: SSCS size is 0 but SSAT size is non-zero\n",
      "WARNING *** OLE2 inconsistency: SSCS size is 0 but SSAT size is non-zero\n",
      "WARNING *** OLE2 inconsistency: SSCS size is 0 but SSAT size is non-zero\n",
      "WARNING *** OLE2 inconsistency: SSCS size is 0 but SSAT size is non-zero\n",
      "WARNING *** OLE2 inconsistency: SSCS size is 0 but SSAT size is non-zero\n",
      "WARNING *** OLE2 inconsistency: SSCS size is 0 but SSAT size is non-zero\n",
      "WARNING *** OLE2 inconsistency: SSCS size is 0 but SSAT size is non-zero\n",
      "WARNING *** OLE2 inconsistency: SSCS size is 0 but SSAT size is non-zero\n",
      "WARNING *** OLE2 inconsistency: SSCS size is 0 but SSAT size is non-zero\n",
      "The following reported NERC regions are not currently recognized and become         UNK values: []\n",
      "The following reported NERC regions are not currently recognized and become         UNK values: ['MPS', 'CLECO', 'MISE']\n",
      "The following reported NERC regions are not currently recognized and become         UNK values: ['MPS', 'MISE', 'SASKATCHWA']\n"
     ]
    },
    {
     "name": "stderr",
     "output_type": "stream",
     "text": [
      "/opt/homebrew/Caskroom/miniforge/base/envs/hub/lib/python3.10/site-packages/pandas/core/reshape/merge.py:916: FutureWarning: In a future version, the Index constructor will not infer numeric dtypes when passed object-dtype sequences (matching Series behavior)\n",
      "  key_col = Index(lvals).where(~mask_left, rvals)\n"
     ]
    }
   ],
   "source": [
    "eia_service_territory = pudl_out.service_territory_eia861()"
   ]
  },
  {
   "cell_type": "code",
   "execution_count": 19,
   "metadata": {},
   "outputs": [],
   "source": [
    "service_territory_2020 = eia_service_territory.query(\"report_date=='2020-01-01'\")"
   ]
  },
  {
   "cell_type": "code",
   "execution_count": 21,
   "metadata": {},
   "outputs": [],
   "source": [
    "test = community_complete.merge(service_territory_2020,on='county_id_fips')"
   ]
  },
  {
   "cell_type": "code",
   "execution_count": 23,
   "metadata": {},
   "outputs": [],
   "source": [
    "j40 = test.groupby(['utility_name_eia','utility_id_eia','state']).agg({'num_of_communities':'sum','total_num_of_communities':'sum'}).reset_index()"
   ]
  },
  {
   "cell_type": "code",
   "execution_count": 25,
   "metadata": {},
   "outputs": [
    {
     "data": {
      "text/html": [
       "<div>\n",
       "<style scoped>\n",
       "    .dataframe tbody tr th:only-of-type {\n",
       "        vertical-align: middle;\n",
       "    }\n",
       "\n",
       "    .dataframe tbody tr th {\n",
       "        vertical-align: top;\n",
       "    }\n",
       "\n",
       "    .dataframe thead th {\n",
       "        text-align: right;\n",
       "    }\n",
       "</style>\n",
       "<table border=\"1\" class=\"dataframe\">\n",
       "  <thead>\n",
       "    <tr style=\"text-align: right;\">\n",
       "      <th></th>\n",
       "      <th>utility_name_eia</th>\n",
       "      <th>utility_id_eia</th>\n",
       "      <th>state</th>\n",
       "      <th>num_of_communities</th>\n",
       "      <th>total_num_of_communities</th>\n",
       "      <th>percent_disadvantaged</th>\n",
       "    </tr>\n",
       "  </thead>\n",
       "  <tbody>\n",
       "    <tr>\n",
       "      <th>0</th>\n",
       "      <td>4 Rivers Electric Cooperative, Inc.</td>\n",
       "      <td>64196</td>\n",
       "      <td>KS</td>\n",
       "      <td>31</td>\n",
       "      <td>60</td>\n",
       "      <td>51.666667</td>\n",
       "    </tr>\n",
       "    <tr>\n",
       "      <th>1</th>\n",
       "      <td>4-County Electric Power Assn</td>\n",
       "      <td>6641</td>\n",
       "      <td>MS</td>\n",
       "      <td>33</td>\n",
       "      <td>45</td>\n",
       "      <td>73.333333</td>\n",
       "    </tr>\n",
       "    <tr>\n",
       "      <th>2</th>\n",
       "      <td>A &amp; N Electric Coop</td>\n",
       "      <td>84</td>\n",
       "      <td>MD</td>\n",
       "      <td>5</td>\n",
       "      <td>8</td>\n",
       "      <td>62.500000</td>\n",
       "    </tr>\n",
       "    <tr>\n",
       "      <th>3</th>\n",
       "      <td>A &amp; N Electric Coop</td>\n",
       "      <td>84</td>\n",
       "      <td>VA</td>\n",
       "      <td>7</td>\n",
       "      <td>16</td>\n",
       "      <td>43.750000</td>\n",
       "    </tr>\n",
       "    <tr>\n",
       "      <th>4</th>\n",
       "      <td>AEP Texas Central Company</td>\n",
       "      <td>3278</td>\n",
       "      <td>TX</td>\n",
       "      <td>438</td>\n",
       "      <td>599</td>\n",
       "      <td>73.121870</td>\n",
       "    </tr>\n",
       "    <tr>\n",
       "      <th>...</th>\n",
       "      <td>...</td>\n",
       "      <td>...</td>\n",
       "      <td>...</td>\n",
       "      <td>...</td>\n",
       "      <td>...</td>\n",
       "      <td>...</td>\n",
       "    </tr>\n",
       "    <tr>\n",
       "      <th>2728</th>\n",
       "      <td>Yampa Valley Electric Assn Inc</td>\n",
       "      <td>21081</td>\n",
       "      <td>WY</td>\n",
       "      <td>2</td>\n",
       "      <td>5</td>\n",
       "      <td>40.000000</td>\n",
       "    </tr>\n",
       "    <tr>\n",
       "      <th>2729</th>\n",
       "      <td>Yazoo Valley Elec Power Assn</td>\n",
       "      <td>21114</td>\n",
       "      <td>MS</td>\n",
       "      <td>27</td>\n",
       "      <td>29</td>\n",
       "      <td>93.103448</td>\n",
       "    </tr>\n",
       "    <tr>\n",
       "      <th>2730</th>\n",
       "      <td>Yellowstone Valley Elec Co-op</td>\n",
       "      <td>20997</td>\n",
       "      <td>MT</td>\n",
       "      <td>15</td>\n",
       "      <td>45</td>\n",
       "      <td>33.333333</td>\n",
       "    </tr>\n",
       "    <tr>\n",
       "      <th>2731</th>\n",
       "      <td>York Electric Coop Inc</td>\n",
       "      <td>21002</td>\n",
       "      <td>NC</td>\n",
       "      <td>92</td>\n",
       "      <td>298</td>\n",
       "      <td>30.872483</td>\n",
       "    </tr>\n",
       "    <tr>\n",
       "      <th>2732</th>\n",
       "      <td>York Electric Coop Inc</td>\n",
       "      <td>21002</td>\n",
       "      <td>SC</td>\n",
       "      <td>38</td>\n",
       "      <td>84</td>\n",
       "      <td>45.238095</td>\n",
       "    </tr>\n",
       "  </tbody>\n",
       "</table>\n",
       "<p>2733 rows × 6 columns</p>\n",
       "</div>"
      ],
      "text/plain": [
       "                         utility_name_eia  utility_id_eia state  num_of_communities  total_num_of_communities  percent_disadvantaged\n",
       "0     4 Rivers Electric Cooperative, Inc.           64196    KS                  31                        60              51.666667\n",
       "1            4-County Electric Power Assn            6641    MS                  33                        45              73.333333\n",
       "2                     A & N Electric Coop              84    MD                   5                         8              62.500000\n",
       "3                     A & N Electric Coop              84    VA                   7                        16              43.750000\n",
       "4               AEP Texas Central Company            3278    TX                 438                       599              73.121870\n",
       "...                                   ...             ...   ...                 ...                       ...                    ...\n",
       "2728       Yampa Valley Electric Assn Inc           21081    WY                   2                         5              40.000000\n",
       "2729         Yazoo Valley Elec Power Assn           21114    MS                  27                        29              93.103448\n",
       "2730        Yellowstone Valley Elec Co-op           20997    MT                  15                        45              33.333333\n",
       "2731               York Electric Coop Inc           21002    NC                  92                       298              30.872483\n",
       "2732               York Electric Coop Inc           21002    SC                  38                        84              45.238095\n",
       "\n",
       "[2733 rows x 6 columns]"
      ]
     },
     "execution_count": 25,
     "metadata": {},
     "output_type": "execute_result"
    }
   ],
   "source": [
    "j40 ['percent_disadvantaged'] = j40['num_of_communities'] / j40['total_num_of_communities'] * 100\n",
    "\n",
    "j40"
   ]
  },
  {
   "cell_type": "code",
   "execution_count": 12,
   "metadata": {},
   "outputs": [
    {
     "data": {
      "text/html": [
       "<div>\n",
       "<style scoped>\n",
       "    .dataframe tbody tr th:only-of-type {\n",
       "        vertical-align: middle;\n",
       "    }\n",
       "\n",
       "    .dataframe tbody tr th {\n",
       "        vertical-align: top;\n",
       "    }\n",
       "\n",
       "    .dataframe thead th {\n",
       "        text-align: right;\n",
       "    }\n",
       "</style>\n",
       "<table border=\"1\" class=\"dataframe\">\n",
       "  <thead>\n",
       "    <tr style=\"text-align: right;\">\n",
       "      <th></th>\n",
       "      <th>county</th>\n",
       "      <th>short_form</th>\n",
       "      <th>state</th>\n",
       "      <th>utility_id_eia</th>\n",
       "      <th>utility_name_eia</th>\n",
       "      <th>report_date</th>\n",
       "      <th>state_id_fips</th>\n",
       "      <th>county_id_fips</th>\n",
       "    </tr>\n",
       "  </thead>\n",
       "  <tbody>\n",
       "    <tr>\n",
       "      <th>0</th>\n",
       "      <td>Carroll</td>\n",
       "      <td>&lt;NA&gt;</td>\n",
       "      <td>IA</td>\n",
       "      <td>11581</td>\n",
       "      <td>City of Manning</td>\n",
       "      <td>2001-01-01</td>\n",
       "      <td>19</td>\n",
       "      <td>19027</td>\n",
       "    </tr>\n",
       "    <tr>\n",
       "      <th>1</th>\n",
       "      <td>Wright</td>\n",
       "      <td>&lt;NA&gt;</td>\n",
       "      <td>MO</td>\n",
       "      <td>11585</td>\n",
       "      <td>City of Mansfield</td>\n",
       "      <td>2001-01-01</td>\n",
       "      <td>29</td>\n",
       "      <td>29229</td>\n",
       "    </tr>\n",
       "    <tr>\n",
       "      <th>2</th>\n",
       "      <td>Bristol</td>\n",
       "      <td>&lt;NA&gt;</td>\n",
       "      <td>MA</td>\n",
       "      <td>11586</td>\n",
       "      <td>Town of Mansfield</td>\n",
       "      <td>2001-01-01</td>\n",
       "      <td>25</td>\n",
       "      <td>25005</td>\n",
       "    </tr>\n",
       "    <tr>\n",
       "      <th>3</th>\n",
       "      <td>Newton</td>\n",
       "      <td>&lt;NA&gt;</td>\n",
       "      <td>GA</td>\n",
       "      <td>11587</td>\n",
       "      <td>City of Mansfield</td>\n",
       "      <td>2001-01-01</td>\n",
       "      <td>13</td>\n",
       "      <td>13217</td>\n",
       "    </tr>\n",
       "    <tr>\n",
       "      <th>4</th>\n",
       "      <td>Sanpete</td>\n",
       "      <td>&lt;NA&gt;</td>\n",
       "      <td>UT</td>\n",
       "      <td>11588</td>\n",
       "      <td>City of Manti</td>\n",
       "      <td>2001-01-01</td>\n",
       "      <td>49</td>\n",
       "      <td>49039</td>\n",
       "    </tr>\n",
       "    <tr>\n",
       "      <th>...</th>\n",
       "      <td>...</td>\n",
       "      <td>...</td>\n",
       "      <td>...</td>\n",
       "      <td>...</td>\n",
       "      <td>...</td>\n",
       "      <td>...</td>\n",
       "      <td>...</td>\n",
       "      <td>...</td>\n",
       "    </tr>\n",
       "    <tr>\n",
       "      <th>235986</th>\n",
       "      <td>Neosho</td>\n",
       "      <td>True</td>\n",
       "      <td>KS</td>\n",
       "      <td>64196</td>\n",
       "      <td>4 Rivers Electric Cooperative, Inc.</td>\n",
       "      <td>2020-01-01</td>\n",
       "      <td>20</td>\n",
       "      <td>20133</td>\n",
       "    </tr>\n",
       "    <tr>\n",
       "      <th>235987</th>\n",
       "      <td>Osage</td>\n",
       "      <td>True</td>\n",
       "      <td>KS</td>\n",
       "      <td>64196</td>\n",
       "      <td>4 Rivers Electric Cooperative, Inc.</td>\n",
       "      <td>2020-01-01</td>\n",
       "      <td>20</td>\n",
       "      <td>20139</td>\n",
       "    </tr>\n",
       "    <tr>\n",
       "      <th>235988</th>\n",
       "      <td>Wabaunsee</td>\n",
       "      <td>True</td>\n",
       "      <td>KS</td>\n",
       "      <td>64196</td>\n",
       "      <td>4 Rivers Electric Cooperative, Inc.</td>\n",
       "      <td>2020-01-01</td>\n",
       "      <td>20</td>\n",
       "      <td>20197</td>\n",
       "    </tr>\n",
       "    <tr>\n",
       "      <th>235989</th>\n",
       "      <td>Wilson</td>\n",
       "      <td>True</td>\n",
       "      <td>KS</td>\n",
       "      <td>64196</td>\n",
       "      <td>4 Rivers Electric Cooperative, Inc.</td>\n",
       "      <td>2020-01-01</td>\n",
       "      <td>20</td>\n",
       "      <td>20205</td>\n",
       "    </tr>\n",
       "    <tr>\n",
       "      <th>235990</th>\n",
       "      <td>Woodson</td>\n",
       "      <td>True</td>\n",
       "      <td>KS</td>\n",
       "      <td>64196</td>\n",
       "      <td>4 Rivers Electric Cooperative, Inc.</td>\n",
       "      <td>2020-01-01</td>\n",
       "      <td>20</td>\n",
       "      <td>20207</td>\n",
       "    </tr>\n",
       "  </tbody>\n",
       "</table>\n",
       "<p>236150 rows × 8 columns</p>\n",
       "</div>"
      ],
      "text/plain": [
       "           county  short_form state  utility_id_eia                     utility_name_eia report_date state_id_fips county_id_fips\n",
       "0         Carroll        <NA>    IA           11581                      City of Manning  2001-01-01            19          19027\n",
       "1          Wright        <NA>    MO           11585                    City of Mansfield  2001-01-01            29          29229\n",
       "2         Bristol        <NA>    MA           11586                    Town of Mansfield  2001-01-01            25          25005\n",
       "3          Newton        <NA>    GA           11587                    City of Mansfield  2001-01-01            13          13217\n",
       "4         Sanpete        <NA>    UT           11588                        City of Manti  2001-01-01            49          49039\n",
       "...           ...         ...   ...             ...                                  ...         ...           ...            ...\n",
       "235986     Neosho        True    KS           64196  4 Rivers Electric Cooperative, Inc.  2020-01-01            20          20133\n",
       "235987      Osage        True    KS           64196  4 Rivers Electric Cooperative, Inc.  2020-01-01            20          20139\n",
       "235988  Wabaunsee        True    KS           64196  4 Rivers Electric Cooperative, Inc.  2020-01-01            20          20197\n",
       "235989     Wilson        True    KS           64196  4 Rivers Electric Cooperative, Inc.  2020-01-01            20          20205\n",
       "235990    Woodson        True    KS           64196  4 Rivers Electric Cooperative, Inc.  2020-01-01            20          20207\n",
       "\n",
       "[236150 rows x 8 columns]"
      ]
     },
     "execution_count": 12,
     "metadata": {},
     "output_type": "execute_result"
    }
   ],
   "source": [
    "eia_service_territory"
   ]
  }
 ],
 "metadata": {
  "kernelspec": {
   "display_name": "Python 3.10.5 ('hub')",
   "language": "python",
   "name": "python3"
  },
  "language_info": {
   "codemirror_mode": {
    "name": "ipython",
    "version": 3
   },
   "file_extension": ".py",
   "mimetype": "text/x-python",
   "name": "python",
   "nbconvert_exporter": "python",
   "pygments_lexer": "ipython3",
   "version": "3.10.5"
  },
  "orig_nbformat": 4,
  "vscode": {
   "interpreter": {
    "hash": "82bcc6cebe93d8ec6d4d384c32162a950ec05fbef26c23b96395db6a5a7770f3"
   }
  }
 },
 "nbformat": 4,
 "nbformat_minor": 2
}
