{
 "cells": [
  {
   "cell_type": "markdown",
   "metadata": {},
   "source": [
    "links: \n",
    "'http://www2.census.gov/geo/tiger/TIGER2019/CBSA/tl_2019_us_cbsa.zip'\n",
    "'http://www2.census.gov/geo/tiger/GENZ2018/shp/cb_2018_us_county_500k.zip'"
   ]
  },
  {
   "cell_type": "code",
   "execution_count": null,
   "metadata": {},
   "outputs": [],
   "source": [
    "import create_maps \n",
    "\n",
    "from create_maps import *"
   ]
  },
  {
   "cell_type": "code",
   "execution_count": null,
   "metadata": {},
   "outputs": [],
   "source": [
    "# processing\n",
    "msas = shapefile_to_json('http://www2.census.gov/geo/tiger/TIGER2019/CBSA/tl_2019_us_cbsa.zip')\n",
    "counties = shapefile_to_json('http://www2.census.gov/geo/tiger/GENZ2018/shp/cb_2018_us_county_500k.zip')\n",
    "employment_areas = msas.append(counties)"
   ]
  },
  {
   "cell_type": "code",
   "execution_count": null,
   "metadata": {},
   "outputs": [],
   "source": [
    "make_map_from_json(employment_areas,'employment-energy-comms')"
   ]
  }
 ],
 "metadata": {
  "kernelspec": {
   "display_name": "Python 3.10.6 ('hub')",
   "language": "python",
   "name": "python3"
  },
  "language_info": {
   "codemirror_mode": {
    "name": "ipython",
    "version": 3
   },
   "file_extension": ".py",
   "mimetype": "text/x-python",
   "name": "python",
   "nbconvert_exporter": "python",
   "pygments_lexer": "ipython3",
   "version": "3.10.6"
  },
  "orig_nbformat": 4,
  "vscode": {
   "interpreter": {
    "hash": "6a9ad9a3331dce8650e69d2492d8ebf76184c4e4630d5626b4b84223294104b5"
   }
  }
 },
 "nbformat": 4,
 "nbformat_minor": 2
}
