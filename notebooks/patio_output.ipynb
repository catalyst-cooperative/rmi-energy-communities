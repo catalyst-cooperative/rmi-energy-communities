{
 "cells": [
  {
   "cell_type": "code",
   "execution_count": 10,
   "metadata": {},
   "outputs": [
    {
     "name": "stdout",
     "output_type": "stream",
     "text": [
      "The autoreload extension is already loaded. To reload it, use:\n",
      "  %reload_ext autoreload\n"
     ]
    }
   ],
   "source": [
    "%load_ext autoreload\n",
    "%autoreload 3"
   ]
  },
  {
   "cell_type": "code",
   "execution_count": 11,
   "metadata": {},
   "outputs": [],
   "source": [
    "import logging\n",
    "import sys"
   ]
  },
  {
   "cell_type": "code",
   "execution_count": 12,
   "metadata": {},
   "outputs": [],
   "source": [
    "logger = logging.getLogger()\n",
    "logger.setLevel(logging.INFO)\n",
    "handler = logging.StreamHandler(stream=sys.stdout)\n",
    "formatter = logging.Formatter()\n",
    "handler.setFormatter(formatter)\n",
    "logger.handlers = [handler]"
   ]
  },
  {
   "cell_type": "code",
   "execution_count": 13,
   "metadata": {},
   "outputs": [],
   "source": [
    "import pandas as pd"
   ]
  },
  {
   "cell_type": "code",
   "execution_count": 19,
   "metadata": {},
   "outputs": [],
   "source": [
    "# import brownfields files\n",
    "\n",
    "brownfields = pd.read_csv('/Users/mcastillo/Documents/GitHub/rmi-energy-communities/notebooks/files/patio_brownfields.csv',dtype={'fips_county':str})"
   ]
  },
  {
   "cell_type": "code",
   "execution_count": 20,
   "metadata": {},
   "outputs": [],
   "source": [
    "# import employment file\n",
    "employment = pd.read_csv('/Users/mcastillo/Documents/GitHub/rmi-energy-communities/notebooks/files/patio_employment.csv',dtype={'fips_county':str})"
   ]
  },
  {
   "cell_type": "code",
   "execution_count": 25,
   "metadata": {},
   "outputs": [],
   "source": [
    "energy_community_areas = pd.concat([brownfields,employment])\n",
    "energy_community_areas = energy_community_areas.drop(columns='Unnamed: 0')"
   ]
  },
  {
   "cell_type": "code",
   "execution_count": 26,
   "metadata": {},
   "outputs": [
    {
     "data": {
      "text/html": [
       "<div>\n",
       "<style scoped>\n",
       "    .dataframe tbody tr th:only-of-type {\n",
       "        vertical-align: middle;\n",
       "    }\n",
       "\n",
       "    .dataframe tbody tr th {\n",
       "        vertical-align: top;\n",
       "    }\n",
       "\n",
       "    .dataframe thead th {\n",
       "        text-align: right;\n",
       "    }\n",
       "</style>\n",
       "<table border=\"1\" class=\"dataframe\">\n",
       "  <thead>\n",
       "    <tr style=\"text-align: right;\">\n",
       "      <th></th>\n",
       "      <th>area_title</th>\n",
       "      <th>latitude</th>\n",
       "      <th>longitude</th>\n",
       "      <th>qualifying_area</th>\n",
       "      <th>criteria</th>\n",
       "      <th>fips_county</th>\n",
       "    </tr>\n",
       "  </thead>\n",
       "  <tbody>\n",
       "    <tr>\n",
       "      <th>0</th>\n",
       "      <td>Kerramerican Mine (Former)</td>\n",
       "      <td>44.390000</td>\n",
       "      <td>-68.620000</td>\n",
       "      <td>site</td>\n",
       "      <td>brownfield</td>\n",
       "      <td>23009</td>\n",
       "    </tr>\n",
       "    <tr>\n",
       "      <th>1</th>\n",
       "      <td>Vermont Asbestos Group Mine</td>\n",
       "      <td>44.750000</td>\n",
       "      <td>-72.516667</td>\n",
       "      <td>site</td>\n",
       "      <td>brownfield</td>\n",
       "      <td>50019</td>\n",
       "    </tr>\n",
       "    <tr>\n",
       "      <th>2</th>\n",
       "      <td>Daley Court</td>\n",
       "      <td>41.778857</td>\n",
       "      <td>-72.614299</td>\n",
       "      <td>site</td>\n",
       "      <td>brownfield</td>\n",
       "      <td>09003</td>\n",
       "    </tr>\n",
       "    <tr>\n",
       "      <th>3</th>\n",
       "      <td>Interstate Lane</td>\n",
       "      <td>41.531557</td>\n",
       "      <td>-72.993027</td>\n",
       "      <td>site</td>\n",
       "      <td>brownfield</td>\n",
       "      <td>09009</td>\n",
       "    </tr>\n",
       "    <tr>\n",
       "      <th>4</th>\n",
       "      <td>Pope Park Zion Llc 41-43 School Street</td>\n",
       "      <td>41.748130</td>\n",
       "      <td>-72.684830</td>\n",
       "      <td>site</td>\n",
       "      <td>brownfield</td>\n",
       "      <td>09003</td>\n",
       "    </tr>\n",
       "    <tr>\n",
       "      <th>...</th>\n",
       "      <td>...</td>\n",
       "      <td>...</td>\n",
       "      <td>...</td>\n",
       "      <td>...</td>\n",
       "      <td>...</td>\n",
       "      <td>...</td>\n",
       "    </tr>\n",
       "    <tr>\n",
       "      <th>1055</th>\n",
       "      <td>New Bern, NC MSA</td>\n",
       "      <td>NaN</td>\n",
       "      <td>NaN</td>\n",
       "      <td>msa_or_county</td>\n",
       "      <td>fossil_employment</td>\n",
       "      <td>37137</td>\n",
       "    </tr>\n",
       "    <tr>\n",
       "      <th>1056</th>\n",
       "      <td>Homosassa Springs, FL MSA</td>\n",
       "      <td>NaN</td>\n",
       "      <td>NaN</td>\n",
       "      <td>msa_or_county</td>\n",
       "      <td>fossil_employment</td>\n",
       "      <td>12017</td>\n",
       "    </tr>\n",
       "    <tr>\n",
       "      <th>1057</th>\n",
       "      <td>Santa Maria-Santa Barbara, CA MSA</td>\n",
       "      <td>NaN</td>\n",
       "      <td>NaN</td>\n",
       "      <td>msa_or_county</td>\n",
       "      <td>fossil_employment</td>\n",
       "      <td>06083</td>\n",
       "    </tr>\n",
       "    <tr>\n",
       "      <th>1058</th>\n",
       "      <td>The Villages, FL MSA</td>\n",
       "      <td>NaN</td>\n",
       "      <td>NaN</td>\n",
       "      <td>msa_or_county</td>\n",
       "      <td>fossil_employment</td>\n",
       "      <td>12119</td>\n",
       "    </tr>\n",
       "    <tr>\n",
       "      <th>1059</th>\n",
       "      <td>Lake Havasu City-Kingman, AZ MSA</td>\n",
       "      <td>NaN</td>\n",
       "      <td>NaN</td>\n",
       "      <td>msa_or_county</td>\n",
       "      <td>fossil_employment</td>\n",
       "      <td>04015</td>\n",
       "    </tr>\n",
       "  </tbody>\n",
       "</table>\n",
       "<p>192036 rows × 6 columns</p>\n",
       "</div>"
      ],
      "text/plain": [
       "                                  area_title   latitude  longitude  \\\n",
       "0                 Kerramerican Mine (Former)  44.390000 -68.620000   \n",
       "1                Vermont Asbestos Group Mine  44.750000 -72.516667   \n",
       "2                                Daley Court  41.778857 -72.614299   \n",
       "3                            Interstate Lane  41.531557 -72.993027   \n",
       "4     Pope Park Zion Llc 41-43 School Street  41.748130 -72.684830   \n",
       "...                                      ...        ...        ...   \n",
       "1055                        New Bern, NC MSA        NaN        NaN   \n",
       "1056               Homosassa Springs, FL MSA        NaN        NaN   \n",
       "1057       Santa Maria-Santa Barbara, CA MSA        NaN        NaN   \n",
       "1058                    The Villages, FL MSA        NaN        NaN   \n",
       "1059        Lake Havasu City-Kingman, AZ MSA        NaN        NaN   \n",
       "\n",
       "     qualifying_area           criteria fips_county  \n",
       "0               site         brownfield       23009  \n",
       "1               site         brownfield       50019  \n",
       "2               site         brownfield       09003  \n",
       "3               site         brownfield       09009  \n",
       "4               site         brownfield       09003  \n",
       "...              ...                ...         ...  \n",
       "1055   msa_or_county  fossil_employment       37137  \n",
       "1056   msa_or_county  fossil_employment       12017  \n",
       "1057   msa_or_county  fossil_employment       06083  \n",
       "1058   msa_or_county  fossil_employment       12119  \n",
       "1059   msa_or_county  fossil_employment       04015  \n",
       "\n",
       "[192036 rows x 6 columns]"
      ]
     },
     "execution_count": 26,
     "metadata": {},
     "output_type": "execute_result"
    }
   ],
   "source": [
    "energy_community_areas"
   ]
  }
 ],
 "metadata": {
  "kernelspec": {
   "display_name": "Python 3.10.6 ('hub')",
   "language": "python",
   "name": "python3"
  },
  "language_info": {
   "codemirror_mode": {
    "name": "ipython",
    "version": 3
   },
   "file_extension": ".py",
   "mimetype": "text/x-python",
   "name": "python",
   "nbconvert_exporter": "python",
   "pygments_lexer": "ipython3",
   "version": "3.10.6"
  },
  "orig_nbformat": 4,
  "vscode": {
   "interpreter": {
    "hash": "6a9ad9a3331dce8650e69d2492d8ebf76184c4e4630d5626b4b84223294104b5"
   }
  }
 },
 "nbformat": 4,
 "nbformat_minor": 2
}
