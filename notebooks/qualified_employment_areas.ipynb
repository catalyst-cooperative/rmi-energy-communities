{
 "cells": [
  {
   "cell_type": "markdown",
   "metadata": {},
   "source": [
    "imports"
   ]
  },
  {
   "cell_type": "code",
   "execution_count": 1,
   "metadata": {},
   "outputs": [],
   "source": [
    "%load_ext autoreload\n",
    "%autoreload 3"
   ]
  },
  {
   "cell_type": "code",
   "execution_count": 2,
   "metadata": {},
   "outputs": [],
   "source": [
    "import logging\n",
    "import sys\n",
    "import energy_comms\n",
    "import pandas as pd"
   ]
  },
  {
   "cell_type": "code",
   "execution_count": 3,
   "metadata": {},
   "outputs": [],
   "source": [
    "logger = logging.getLogger()\n",
    "logger.setLevel(logging.INFO)\n",
    "handler = logging.StreamHandler(stream=sys.stdout)\n",
    "formatter = logging.Formatter()\n",
    "handler.setFormatter(formatter)\n",
    "logger.handlers = [handler]"
   ]
  },
  {
   "cell_type": "code",
   "execution_count": null,
   "metadata": {},
   "outputs": [],
   "source": [
    "from energy_comms.constants import YEARS"
   ]
  },
  {
   "cell_type": "code",
   "execution_count": 45,
   "metadata": {},
   "outputs": [],
   "source": [
    "from energy_comms.extract.qcew_2010_2021 import download_all \n",
    "from energy_comms.extract.qcew_2010_2021 import extract\n",
    "from energy_comms.transform.qcew_2010_2021_t import transform as transform_qcew\n"
   ]
  },
  {
   "cell_type": "markdown",
   "metadata": {},
   "source": [
    "extract"
   ]
  },
  {
   "cell_type": "code",
   "execution_count": 12,
   "metadata": {},
   "outputs": [],
   "source": [
    "download_all(YEARS)"
   ]
  },
  {
   "cell_type": "markdown",
   "metadata": {},
   "source": [
    "transform"
   ]
  },
  {
   "cell_type": "code",
   "execution_count": 46,
   "metadata": {},
   "outputs": [
    {
     "name": "stderr",
     "output_type": "stream",
     "text": [
      "/Users/mcastillo/Documents/GitHub/rmi-energy-communities/src/energy_comms/extract/qcew_2014_2021.py:90: SettingWithCopyWarning: \n",
      "A value is trying to be set on a copy of a slice from a DataFrame.\n",
      "Try using .loc[row_indexer,col_indexer] = value instead\n",
      "\n",
      "See the caveats in the documentation: https://pandas.pydata.org/pandas-docs/stable/user_guide/indexing.html#returning-a-view-versus-a-copy\n",
      "  data['geographic_level'] = np.where(data['area_title'].str.contains('Statewide'),'state',data['area_title'])\n",
      "/Users/mcastillo/Documents/GitHub/rmi-energy-communities/src/energy_comms/extract/qcew_2014_2021.py:91: SettingWithCopyWarning: \n",
      "A value is trying to be set on a copy of a slice from a DataFrame.\n",
      "Try using .loc[row_indexer,col_indexer] = value instead\n",
      "\n",
      "See the caveats in the documentation: https://pandas.pydata.org/pandas-docs/stable/user_guide/indexing.html#returning-a-view-versus-a-copy\n",
      "  data['geographic_level'] = np.where(data['area_title'].str.contains('Parish|City|Borough|County'),'county',data['geographic_level'])\n",
      "/Users/mcastillo/Documents/GitHub/rmi-energy-communities/src/energy_comms/extract/qcew_2014_2021.py:92: SettingWithCopyWarning: \n",
      "A value is trying to be set on a copy of a slice from a DataFrame.\n",
      "Try using .loc[row_indexer,col_indexer] = value instead\n",
      "\n",
      "See the caveats in the documentation: https://pandas.pydata.org/pandas-docs/stable/user_guide/indexing.html#returning-a-view-versus-a-copy\n",
      "  data['geographic_level'] = np.where(data['area_title'].str.contains('MSA'),'metropolitan_stat_area',data['geographic_level'])\n",
      "/Users/mcastillo/Documents/GitHub/rmi-energy-communities/src/energy_comms/extract/qcew_2014_2021.py:93: SettingWithCopyWarning: \n",
      "A value is trying to be set on a copy of a slice from a DataFrame.\n",
      "Try using .loc[row_indexer,col_indexer] = value instead\n",
      "\n",
      "See the caveats in the documentation: https://pandas.pydata.org/pandas-docs/stable/user_guide/indexing.html#returning-a-view-versus-a-copy\n",
      "  data['geographic_level'] = np.where(data['area_title'].str.contains('MicroSA'),'micropolitan_stat_area',data['geographic_level'])\n",
      "/Users/mcastillo/Documents/GitHub/rmi-energy-communities/src/energy_comms/extract/qcew_2014_2021.py:94: UserWarning: This pattern is interpreted as a regular expression, and has match groups. To actually get the groups, use str.extract.\n",
      "  data['geographic_level'] = np.where(data['area_title'].str.contains('(Combined)'),'aggregated_stat_area',data['geographic_level'])\n",
      "/Users/mcastillo/Documents/GitHub/rmi-energy-communities/src/energy_comms/extract/qcew_2014_2021.py:94: SettingWithCopyWarning: \n",
      "A value is trying to be set on a copy of a slice from a DataFrame.\n",
      "Try using .loc[row_indexer,col_indexer] = value instead\n",
      "\n",
      "See the caveats in the documentation: https://pandas.pydata.org/pandas-docs/stable/user_guide/indexing.html#returning-a-view-versus-a-copy\n",
      "  data['geographic_level'] = np.where(data['area_title'].str.contains('(Combined)'),'aggregated_stat_area',data['geographic_level'])\n",
      "/Users/mcastillo/Documents/GitHub/rmi-energy-communities/src/energy_comms/extract/qcew_2014_2021.py:95: SettingWithCopyWarning: \n",
      "A value is trying to be set on a copy of a slice from a DataFrame.\n",
      "Try using .loc[row_indexer,col_indexer] = value instead\n",
      "\n",
      "See the caveats in the documentation: https://pandas.pydata.org/pandas-docs/stable/user_guide/indexing.html#returning-a-view-versus-a-copy\n",
      "  data['geographic_level'] = np.where(data['area_title'].str.contains('TOTAL'),'nationwide',data['geographic_level'])\n",
      "/Users/mcastillo/Documents/GitHub/rmi-energy-communities/src/energy_comms/extract/qcew_2014_2021.py:96: SettingWithCopyWarning: \n",
      "A value is trying to be set on a copy of a slice from a DataFrame.\n",
      "Try using .loc[row_indexer,col_indexer] = value instead\n",
      "\n",
      "See the caveats in the documentation: https://pandas.pydata.org/pandas-docs/stable/user_guide/indexing.html#returning-a-view-versus-a-copy\n",
      "  data['geographic_level'] = np.where(data['area_title'].str.contains('Unknown'),'undefined',data['geographic_level'])\n",
      "/Users/mcastillo/Documents/GitHub/rmi-energy-communities/src/energy_comms/extract/qcew_2014_2021.py:100: FutureWarning: In a future version of pandas all arguments of StringMethods.split except for the argument 'pat' will be keyword-only.\n",
      "  data[['area','state']] = data['area_title'].str.split(\",\",1,expand=True)\n",
      "/Users/mcastillo/Documents/GitHub/rmi-energy-communities/src/energy_comms/extract/qcew_2014_2021.py:100: SettingWithCopyWarning: \n",
      "A value is trying to be set on a copy of a slice from a DataFrame.\n",
      "Try using .loc[row_indexer,col_indexer] = value instead\n",
      "\n",
      "See the caveats in the documentation: https://pandas.pydata.org/pandas-docs/stable/user_guide/indexing.html#returning-a-view-versus-a-copy\n",
      "  data[['area','state']] = data['area_title'].str.split(\",\",1,expand=True)\n",
      "/Users/mcastillo/Documents/GitHub/rmi-energy-communities/src/energy_comms/extract/qcew_2014_2021.py:100: SettingWithCopyWarning: \n",
      "A value is trying to be set on a copy of a slice from a DataFrame.\n",
      "Try using .loc[row_indexer,col_indexer] = value instead\n",
      "\n",
      "See the caveats in the documentation: https://pandas.pydata.org/pandas-docs/stable/user_guide/indexing.html#returning-a-view-versus-a-copy\n",
      "  data[['area','state']] = data['area_title'].str.split(\",\",1,expand=True)\n",
      "/Users/mcastillo/Documents/GitHub/rmi-energy-communities/src/energy_comms/extract/qcew_2014_2021.py:102: SettingWithCopyWarning: \n",
      "A value is trying to be set on a copy of a slice from a DataFrame.\n",
      "Try using .loc[row_indexer,col_indexer] = value instead\n",
      "\n",
      "See the caveats in the documentation: https://pandas.pydata.org/pandas-docs/stable/user_guide/indexing.html#returning-a-view-versus-a-copy\n",
      "  data['state'] = np.where(data['state'].isnull(),data['area_title'].str.split('-- Statewide').str.get(0),data['state'])\n",
      "/Users/mcastillo/Documents/GitHub/rmi-energy-communities/src/energy_comms/extract/qcew_2014_2021.py:103: SettingWithCopyWarning: \n",
      "A value is trying to be set on a copy of a slice from a DataFrame.\n",
      "Try using .loc[row_indexer,col_indexer] = value instead\n",
      "\n",
      "See the caveats in the documentation: https://pandas.pydata.org/pandas-docs/stable/user_guide/indexing.html#returning-a-view-versus-a-copy\n",
      "  data['state'] = np.where(data['state'].str.contains('MSA'),data['area_title'].str.split(',').str.get(1),data['state'])\n",
      "/Users/mcastillo/Documents/GitHub/rmi-energy-communities/src/energy_comms/extract/qcew_2014_2021.py:90: SettingWithCopyWarning: \n",
      "A value is trying to be set on a copy of a slice from a DataFrame.\n",
      "Try using .loc[row_indexer,col_indexer] = value instead\n",
      "\n",
      "See the caveats in the documentation: https://pandas.pydata.org/pandas-docs/stable/user_guide/indexing.html#returning-a-view-versus-a-copy\n",
      "  data['geographic_level'] = np.where(data['area_title'].str.contains('Statewide'),'state',data['area_title'])\n",
      "/Users/mcastillo/Documents/GitHub/rmi-energy-communities/src/energy_comms/extract/qcew_2014_2021.py:91: SettingWithCopyWarning: \n",
      "A value is trying to be set on a copy of a slice from a DataFrame.\n",
      "Try using .loc[row_indexer,col_indexer] = value instead\n",
      "\n",
      "See the caveats in the documentation: https://pandas.pydata.org/pandas-docs/stable/user_guide/indexing.html#returning-a-view-versus-a-copy\n",
      "  data['geographic_level'] = np.where(data['area_title'].str.contains('Parish|City|Borough|County'),'county',data['geographic_level'])\n",
      "/Users/mcastillo/Documents/GitHub/rmi-energy-communities/src/energy_comms/extract/qcew_2014_2021.py:92: SettingWithCopyWarning: \n",
      "A value is trying to be set on a copy of a slice from a DataFrame.\n",
      "Try using .loc[row_indexer,col_indexer] = value instead\n",
      "\n",
      "See the caveats in the documentation: https://pandas.pydata.org/pandas-docs/stable/user_guide/indexing.html#returning-a-view-versus-a-copy\n",
      "  data['geographic_level'] = np.where(data['area_title'].str.contains('MSA'),'metropolitan_stat_area',data['geographic_level'])\n",
      "/Users/mcastillo/Documents/GitHub/rmi-energy-communities/src/energy_comms/extract/qcew_2014_2021.py:93: SettingWithCopyWarning: \n",
      "A value is trying to be set on a copy of a slice from a DataFrame.\n",
      "Try using .loc[row_indexer,col_indexer] = value instead\n",
      "\n",
      "See the caveats in the documentation: https://pandas.pydata.org/pandas-docs/stable/user_guide/indexing.html#returning-a-view-versus-a-copy\n",
      "  data['geographic_level'] = np.where(data['area_title'].str.contains('MicroSA'),'micropolitan_stat_area',data['geographic_level'])\n",
      "/Users/mcastillo/Documents/GitHub/rmi-energy-communities/src/energy_comms/extract/qcew_2014_2021.py:94: UserWarning: This pattern is interpreted as a regular expression, and has match groups. To actually get the groups, use str.extract.\n",
      "  data['geographic_level'] = np.where(data['area_title'].str.contains('(Combined)'),'aggregated_stat_area',data['geographic_level'])\n",
      "/Users/mcastillo/Documents/GitHub/rmi-energy-communities/src/energy_comms/extract/qcew_2014_2021.py:94: SettingWithCopyWarning: \n",
      "A value is trying to be set on a copy of a slice from a DataFrame.\n",
      "Try using .loc[row_indexer,col_indexer] = value instead\n",
      "\n",
      "See the caveats in the documentation: https://pandas.pydata.org/pandas-docs/stable/user_guide/indexing.html#returning-a-view-versus-a-copy\n",
      "  data['geographic_level'] = np.where(data['area_title'].str.contains('(Combined)'),'aggregated_stat_area',data['geographic_level'])\n",
      "/Users/mcastillo/Documents/GitHub/rmi-energy-communities/src/energy_comms/extract/qcew_2014_2021.py:95: SettingWithCopyWarning: \n",
      "A value is trying to be set on a copy of a slice from a DataFrame.\n",
      "Try using .loc[row_indexer,col_indexer] = value instead\n",
      "\n",
      "See the caveats in the documentation: https://pandas.pydata.org/pandas-docs/stable/user_guide/indexing.html#returning-a-view-versus-a-copy\n",
      "  data['geographic_level'] = np.where(data['area_title'].str.contains('TOTAL'),'nationwide',data['geographic_level'])\n",
      "/Users/mcastillo/Documents/GitHub/rmi-energy-communities/src/energy_comms/extract/qcew_2014_2021.py:96: SettingWithCopyWarning: \n",
      "A value is trying to be set on a copy of a slice from a DataFrame.\n",
      "Try using .loc[row_indexer,col_indexer] = value instead\n",
      "\n",
      "See the caveats in the documentation: https://pandas.pydata.org/pandas-docs/stable/user_guide/indexing.html#returning-a-view-versus-a-copy\n",
      "  data['geographic_level'] = np.where(data['area_title'].str.contains('Unknown'),'undefined',data['geographic_level'])\n",
      "/Users/mcastillo/Documents/GitHub/rmi-energy-communities/src/energy_comms/extract/qcew_2014_2021.py:100: FutureWarning: In a future version of pandas all arguments of StringMethods.split except for the argument 'pat' will be keyword-only.\n",
      "  data[['area','state']] = data['area_title'].str.split(\",\",1,expand=True)\n",
      "/Users/mcastillo/Documents/GitHub/rmi-energy-communities/src/energy_comms/extract/qcew_2014_2021.py:100: SettingWithCopyWarning: \n",
      "A value is trying to be set on a copy of a slice from a DataFrame.\n",
      "Try using .loc[row_indexer,col_indexer] = value instead\n",
      "\n",
      "See the caveats in the documentation: https://pandas.pydata.org/pandas-docs/stable/user_guide/indexing.html#returning-a-view-versus-a-copy\n",
      "  data[['area','state']] = data['area_title'].str.split(\",\",1,expand=True)\n",
      "/Users/mcastillo/Documents/GitHub/rmi-energy-communities/src/energy_comms/extract/qcew_2014_2021.py:100: SettingWithCopyWarning: \n",
      "A value is trying to be set on a copy of a slice from a DataFrame.\n",
      "Try using .loc[row_indexer,col_indexer] = value instead\n",
      "\n",
      "See the caveats in the documentation: https://pandas.pydata.org/pandas-docs/stable/user_guide/indexing.html#returning-a-view-versus-a-copy\n",
      "  data[['area','state']] = data['area_title'].str.split(\",\",1,expand=True)\n",
      "/Users/mcastillo/Documents/GitHub/rmi-energy-communities/src/energy_comms/extract/qcew_2014_2021.py:102: SettingWithCopyWarning: \n",
      "A value is trying to be set on a copy of a slice from a DataFrame.\n",
      "Try using .loc[row_indexer,col_indexer] = value instead\n",
      "\n",
      "See the caveats in the documentation: https://pandas.pydata.org/pandas-docs/stable/user_guide/indexing.html#returning-a-view-versus-a-copy\n",
      "  data['state'] = np.where(data['state'].isnull(),data['area_title'].str.split('-- Statewide').str.get(0),data['state'])\n",
      "/Users/mcastillo/Documents/GitHub/rmi-energy-communities/src/energy_comms/extract/qcew_2014_2021.py:103: SettingWithCopyWarning: \n",
      "A value is trying to be set on a copy of a slice from a DataFrame.\n",
      "Try using .loc[row_indexer,col_indexer] = value instead\n",
      "\n",
      "See the caveats in the documentation: https://pandas.pydata.org/pandas-docs/stable/user_guide/indexing.html#returning-a-view-versus-a-copy\n",
      "  data['state'] = np.where(data['state'].str.contains('MSA'),data['area_title'].str.split(',').str.get(1),data['state'])\n",
      "/Users/mcastillo/Documents/GitHub/rmi-energy-communities/src/energy_comms/transform/cps.py:30: FutureWarning: The frame.append method is deprecated and will be removed from pandas in a future version. Use pandas.concat instead.\n",
      "  annual_average = annual_average.append({'year':2019,'value':3.7},ignore_index=True)\n",
      "/Users/mcastillo/Documents/GitHub/rmi-energy-communities/src/energy_comms/transform/cps.py:31: FutureWarning: The frame.append method is deprecated and will be removed from pandas in a future version. Use pandas.concat instead.\n",
      "  annual_average = annual_average.append({'year':2020,'value':8.1},ignore_index=True)\n",
      "/Users/mcastillo/Documents/GitHub/rmi-energy-communities/src/energy_comms/extract/lau.py:45: DtypeWarning: Columns (4) have mixed types. Specify dtype option on import or set low_memory=False.\n",
      "  df_bls = pd.read_table(lau_file)\n",
      "/Users/mcastillo/Documents/GitHub/rmi-energy-communities/src/energy_comms/extract/lau.py:45: DtypeWarning: Columns (3) have mixed types. Specify dtype option on import or set low_memory=False.\n",
      "  df_bls = pd.read_table(lau_file)\n",
      "/Users/mcastillo/Documents/GitHub/rmi-energy-communities/src/energy_comms/transform/qcew_2010_2021_t.py:103: SettingWithCopyWarning: \n",
      "A value is trying to be set on a copy of a slice from a DataFrame.\n",
      "Try using .loc[row_indexer,col_indexer] = value instead\n",
      "\n",
      "See the caveats in the documentation: https://pandas.pydata.org/pandas-docs/stable/user_guide/indexing.html#returning-a-view-versus-a-copy\n",
      "  patio_employment['qualifying_area'] = 'msa_or_county'\n",
      "/Users/mcastillo/Documents/GitHub/rmi-energy-communities/src/energy_comms/transform/qcew_2010_2021_t.py:105: SettingWithCopyWarning: \n",
      "A value is trying to be set on a copy of a slice from a DataFrame.\n",
      "Try using .loc[row_indexer,col_indexer] = value instead\n",
      "\n",
      "See the caveats in the documentation: https://pandas.pydata.org/pandas-docs/stable/user_guide/indexing.html#returning-a-view-versus-a-copy\n",
      "  patio_employment['criteria'] = 'fossil_employment'\n"
     ]
    }
   ],
   "source": [
    "employment = transform_qcew(extract())"
   ]
  }
 ],
 "metadata": {
  "kernelspec": {
   "display_name": "Python 3.10.6 ('energy_comms')",
   "language": "python",
   "name": "python3"
  },
  "language_info": {
   "codemirror_mode": {
    "name": "ipython",
    "version": 3
   },
   "file_extension": ".py",
   "mimetype": "text/x-python",
   "name": "python",
   "nbconvert_exporter": "python",
   "pygments_lexer": "ipython3",
   "version": "3.10.6"
  },
  "orig_nbformat": 4,
  "vscode": {
   "interpreter": {
    "hash": "f5059123603fca8bb166e0f103b58ccc6583dad88fdf5841b1d1f3fa362a96ae"
   }
  }
 },
 "nbformat": 4,
 "nbformat_minor": 2
}
