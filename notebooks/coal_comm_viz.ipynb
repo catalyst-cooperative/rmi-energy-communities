{
 "cells": [
  {
   "cell_type": "code",
   "execution_count": null,
   "id": "e99a1684-01e5-4f55-a9c0-a1d00aaa8bda",
   "metadata": {},
   "outputs": [],
   "source": [
    "%load_ext autoreload\n",
    "%autoreload 3"
   ]
  },
  {
   "cell_type": "code",
   "execution_count": null,
   "id": "c5b6049a-999c-4032-9d2e-d004bd7750f7",
   "metadata": {},
   "outputs": [],
   "source": [
    "import logging\n",
    "import sys\n",
    "\n",
    "import pandas as pd\n",
    "import plotly.express as px\n",
    "import sqlalchemy as sa\n",
    "\n",
    "import energy_comms\n",
    "import pudl"
   ]
  },
  {
   "cell_type": "code",
   "execution_count": null,
   "id": "cf03c841-6738-4d2e-a280-a18e48e41a53",
   "metadata": {},
   "outputs": [],
   "source": [
    "logger=logging.getLogger()\n",
    "logger.setLevel(logging.INFO)\n",
    "handler = logging.StreamHandler(stream=sys.stdout)\n",
    "formatter = logging.Formatter('%(message)s')\n",
    "handler.setFormatter(formatter)\n",
    "logger.handlers = [handler]"
   ]
  },
  {
   "cell_type": "markdown",
   "id": "318a121d-b9ce-496f-bbf9-9cd29172b04c",
   "metadata": {},
   "source": [
    "# Summary Stats\n",
    "Note: This isn't a dynamically updating table"
   ]
  },
  {
   "cell_type": "markdown",
   "id": "669843a8-366e-4b79-9345-a0826aca716e",
   "metadata": {},
   "source": [
    "|    | Mines | Gens | Combined |\n",
    "|----| ----- | ---- | -------- |\n",
    "num qualifying records | 5143 | 4470 | 9600 |\n",
    "num lat, lon pairs| 4737  | 319 | 5056 |\n",
    "num Census tracts with closures| 966 | 309 | 1236 |\n",
    "num Census tracts total (with adjacent tracts) | 2999 | 2486 | 4992 |\n",
    "num counties with closures | 322 | 275 | 533 | \n",
    "num counties total (with adjacent counties) | 840 | 1297 | 1631 |"
   ]
  },
  {
   "cell_type": "code",
   "execution_count": null,
   "id": "3387adba-712f-4711-82c7-aa8e91a42522",
   "metadata": {},
   "outputs": [],
   "source": [
    "# get basic stats about mine or generators dataframe\n",
    "def get_df_stats(df, census_geom):\n",
    "    n_lat_lon = len(df[[\"latitude\", \"longitude\"]].drop_duplicates())\n",
    "    n_primary_geoms = len(df[f\"{census_geom}_id_fips\"].drop_duplicates())\n",
    "    n_all_geoms = len(\n",
    "        pd.concat([df[f\"{census_geom}_id_fips\"], df.adjacent_id_fips.explode()]).drop_duplicates())\n",
    "    \n",
    "    return n_lat_lon, n_primary_geoms, n_all_geoms"
   ]
  },
  {
   "cell_type": "markdown",
   "id": "9877a0c7-478f-4b5d-8c2c-b0acb353af0b",
   "metadata": {},
   "source": [
    "# MSHA Mines Data"
   ]
  },
  {
   "cell_type": "code",
   "execution_count": null,
   "id": "539210a3-4bed-46af-8442-15599a404d3b",
   "metadata": {},
   "outputs": [],
   "source": [
    "from energy_comms.extract.msha import extract as msha_extract\n",
    "from energy_comms.transform.msha import transform as msha_transform"
   ]
  },
  {
   "cell_type": "markdown",
   "id": "3ec183d7-d5f5-4079-9ec8-3533645b58d4",
   "metadata": {},
   "source": [
    "### Start with looking at qualifying Census tracts, as specified by criteria"
   ]
  },
  {
   "cell_type": "code",
   "execution_count": null,
   "id": "3e86b4cc-0be2-48e6-b625-3e23adff166d",
   "metadata": {},
   "outputs": [],
   "source": [
    "# add census tract data onto msha closed mines\n",
    "msha_df = msha_transform(msha_extract())"
   ]
  },
  {
   "cell_type": "code",
   "execution_count": null,
   "id": "20d4a278-3001-4e77-ac79-d52df33556f1",
   "metadata": {},
   "outputs": [],
   "source": [
    "n_lat_lon, n_primary_tracts, n_all_tracts = get_df_stats(msha_df, census_geom=\"tract\")\n",
    "\n",
    "print(f\"Number of qualifying mines: {len(msha_df)}\")\n",
    "print(f\"Number of unique lat, lon pairs: {n_lat_lon}\")\n",
    "print(f\"Number of Census tracts with closed mines: {n_primary_tracts}\")\n",
    "print(f\"Number of qualifying Census tracts (including adjacent tracts): {n_all_tracts}\")"
   ]
  },
  {
   "cell_type": "code",
   "execution_count": null,
   "id": "4eb70459-681c-45e7-855e-813d6fcb81f6",
   "metadata": {},
   "outputs": [],
   "source": [
    "cols = msha_df.columns.to_list()\n",
    "msha_df[cols[:2] + cols[-3:] + cols[2:-3]]"
   ]
  },
  {
   "cell_type": "markdown",
   "id": "3dbb05cf-3064-4fcc-a9a5-a379be4b472d",
   "metadata": {},
   "source": [
    "### Visualize qualifying census tracts\n",
    "\n",
    "Note: Everything runs very slow if the full plot with all Census tracts is rendered in the notebook, so I don't render it here. \n",
    "\n",
    "\n",
    "The cell below it allows you to save the full map as an HTML, which seems to work better.\n",
    "\n",
    "\n",
    "For the sake of visualization in this notebook, I created a non-interactive matplotlib map."
   ]
  },
  {
   "cell_type": "code",
   "execution_count": null,
   "id": "8e3b5578-2d1b-4ccf-a7cf-cd4d2f403b75",
   "metadata": {},
   "outputs": [],
   "source": [
    "from energy_comms.output.basic_viz import create_geometries_df, make_plotly_map, make_matplotlib_map"
   ]
  },
  {
   "cell_type": "code",
   "execution_count": null,
   "id": "1c0f45ea-4be8-4cb3-9df8-c41ff1309c44",
   "metadata": {},
   "outputs": [],
   "source": [
    "msha_tract_geoms = create_geometries_df(msha_df)"
   ]
  },
  {
   "cell_type": "code",
   "execution_count": null,
   "id": "ab6a0762-ed4f-481a-bd23-9fddf6088282",
   "metadata": {},
   "outputs": [],
   "source": [
    "make_plotly_map(msha_tract_geoms, \"msha_tracts.html\")"
   ]
  },
  {
   "cell_type": "code",
   "execution_count": null,
   "id": "00595e89-6efa-4071-b146-b2f3dcc41e22",
   "metadata": {},
   "outputs": [],
   "source": [
    "make_matplotlib_map(msha_tract_geoms)"
   ]
  },
  {
   "cell_type": "markdown",
   "id": "24810a90-51b3-4f34-8ddf-06eff3d88a2a",
   "metadata": {},
   "source": [
    "### What about using county instead of tract?"
   ]
  },
  {
   "cell_type": "code",
   "execution_count": null,
   "id": "314401a5-2c49-4e6c-b3fc-5a064390d015",
   "metadata": {},
   "outputs": [],
   "source": [
    "msha_county_df = msha_transform(msha_extract(), census_geometry=\"county\")"
   ]
  },
  {
   "cell_type": "code",
   "execution_count": null,
   "id": "ceb6e5f5-98e2-4d2f-994b-aab4f994e24e",
   "metadata": {},
   "outputs": [],
   "source": [
    "n_lat_lon, n_primary_counties, n_all_counties = get_df_stats(msha_county_df, census_geom=\"county\")\n",
    "\n",
    "print(f\"Number of qualifying mines: {len(msha_county_df)}\")\n",
    "print(f\"Number of unique lat, lon pairs: {n_lat_lon}\")\n",
    "print(f\"Number of Census tracts with closed mines: {n_primary_counties}\")\n",
    "print(f\"Number of qualifying Census tracts (including adjacent tracts): {n_all_counties}\")"
   ]
  },
  {
   "cell_type": "code",
   "execution_count": null,
   "id": "6396b204-361b-4447-87dc-cf099499aff1",
   "metadata": {},
   "outputs": [],
   "source": [
    "cols = msha_county_df.columns.to_list()\n",
    "msha_county_df[cols[:2] + cols[-3:] + cols[2:-3]]"
   ]
  },
  {
   "cell_type": "markdown",
   "id": "0a816ae3-1048-450c-af11-ddc5243e86d2",
   "metadata": {},
   "source": [
    "### Visualize qualifying counties"
   ]
  },
  {
   "cell_type": "code",
   "execution_count": null,
   "id": "372b85e7-fe90-4fd5-8953-3c146a902c18",
   "metadata": {},
   "outputs": [],
   "source": [
    "msha_county_geoms = create_geometries_df(msha_county_df, census_geometry=\"county\")"
   ]
  },
  {
   "cell_type": "code",
   "execution_count": null,
   "id": "1c5b729b-4586-48a3-9206-b58e94beadbe",
   "metadata": {},
   "outputs": [],
   "source": [
    "make_plotly_map(msha_county_geoms, \"msha_counties.html\")"
   ]
  },
  {
   "cell_type": "code",
   "execution_count": null,
   "id": "bc88fa6e-5f88-4214-a71d-1443221b37b4",
   "metadata": {},
   "outputs": [],
   "source": [
    "make_matplotlib_map(msha_county_geoms)"
   ]
  },
  {
   "cell_type": "markdown",
   "id": "b9e23842-2f6c-43e4-bcb5-2efa2353b1b6",
   "metadata": {},
   "source": [
    "# EIA 860m Data"
   ]
  },
  {
   "cell_type": "code",
   "execution_count": null,
   "id": "3a8b3706-9e1b-4a11-bc08-546be8756338",
   "metadata": {},
   "outputs": [],
   "source": [
    "from energy_comms.extract.eia860 import extract as eia_extract\n",
    "from energy_comms.transform.eia860 import transform as eia_transform"
   ]
  },
  {
   "cell_type": "markdown",
   "id": "3a2f6159-9c12-462a-9f89-e09145b8a8e8",
   "metadata": {},
   "source": [
    "### Start with looking at Census tract level, as specified by criteria"
   ]
  },
  {
   "cell_type": "code",
   "execution_count": null,
   "id": "e14c3a6b-d347-48c9-964f-da0647b61a87",
   "metadata": {},
   "outputs": [],
   "source": [
    "raw_gens = eia_extract()"
   ]
  },
  {
   "cell_type": "code",
   "execution_count": null,
   "id": "f3f2d2c3-2850-490c-9855-e7fab8d96072",
   "metadata": {},
   "outputs": [],
   "source": [
    "eia_df = eia_transform(raw_gens)"
   ]
  },
  {
   "cell_type": "code",
   "execution_count": null,
   "id": "a3cd02a8-f494-45dd-924b-c7b0afd91b3c",
   "metadata": {},
   "outputs": [],
   "source": [
    "n_lat_lon, n_primary_tracts, n_all_tracts = get_df_stats(eia_df, census_geom=\"tract\")\n",
    "\n",
    "print(f\"Number of qualifying generators: {len(eia_df)}\")\n",
    "print(f\"Number of unique lat, lon pairs: {n_lat_lon}\")\n",
    "print(f\"Number of Census tracts with closed generators: {n_primary_tracts}\")\n",
    "print(f\"Number of qualifying Census tracts (including adjacent tracts): {n_all_tracts}\")"
   ]
  },
  {
   "cell_type": "code",
   "execution_count": null,
   "id": "59fdea6d-3230-4364-9d25-c2a42eb4655d",
   "metadata": {},
   "outputs": [],
   "source": [
    "cols = eia_df.columns.to_list()\n",
    "eia_df[cols[:2] + cols[-3:] + cols[2:-3]]"
   ]
  },
  {
   "cell_type": "code",
   "execution_count": null,
   "id": "1da837c7-d766-4a01-bd74-768164078241",
   "metadata": {},
   "outputs": [],
   "source": [
    "eia_tract_geoms = create_geometries_df(eia_df, census_geometry=\"tract\")"
   ]
  },
  {
   "cell_type": "code",
   "execution_count": null,
   "id": "47fda3ff-ae65-4663-a1c5-488e7a2d22c5",
   "metadata": {},
   "outputs": [],
   "source": [
    "make_matplotlib_map(eia_tract_geoms)"
   ]
  },
  {
   "cell_type": "markdown",
   "id": "4d5f263b-2c15-421c-828b-156662ab21ce",
   "metadata": {},
   "source": [
    "There is a closed generator in Hawaii but here's an only CONUS visual."
   ]
  },
  {
   "cell_type": "code",
   "execution_count": null,
   "id": "bd5a72b2-1fcb-46c2-a8d9-6783f9b02a85",
   "metadata": {},
   "outputs": [],
   "source": [
    "make_matplotlib_map(eia_tract_geoms, only_conus=True)"
   ]
  },
  {
   "cell_type": "markdown",
   "id": "51f43246-dd17-450a-9f7a-323c3c0019c4",
   "metadata": {},
   "source": [
    "### What about using county instead of Census tract?"
   ]
  },
  {
   "cell_type": "code",
   "execution_count": null,
   "id": "bb58b7f2-b809-432a-bc91-d00ddeacddf1",
   "metadata": {},
   "outputs": [],
   "source": [
    "eia_county_df = eia_transform(raw_gens, census_geometry=\"county\")"
   ]
  },
  {
   "cell_type": "code",
   "execution_count": null,
   "id": "683b83e7-271f-4d52-a344-8724ebcd0aaa",
   "metadata": {},
   "outputs": [],
   "source": [
    "n_lat_lon, n_primary_counties, n_all_counties = get_df_stats(eia_county_df, census_geom=\"county\")\n",
    "\n",
    "print(f\"Number of qualifying generators: {len(eia_county_df)}\")\n",
    "print(f\"Number of unique lat, lon pairs: {n_lat_lon}\")\n",
    "print(f\"Number of Census counties with closed generators: {n_primary_counties}\")\n",
    "print(f\"Number of qualifying Census counties (including adjacent counties): {n_all_counties}\")"
   ]
  },
  {
   "cell_type": "code",
   "execution_count": null,
   "id": "55abdac4-5f20-4947-b4ce-4aa519a721ed",
   "metadata": {},
   "outputs": [],
   "source": [
    "cols = eia_county_df.columns.to_list()\n",
    "eia_county_df[cols[:2] + cols[-3:] + cols[2:-3]]"
   ]
  },
  {
   "cell_type": "code",
   "execution_count": null,
   "id": "92858b7f-6b99-4081-9138-5229a6f2d2b0",
   "metadata": {},
   "outputs": [],
   "source": [
    "eia_county_geoms = create_geometries_df(eia_county_df, census_geometry=\"county\")"
   ]
  },
  {
   "cell_type": "code",
   "execution_count": null,
   "id": "164bb4a3-ff50-4fe0-a19e-26476a314188",
   "metadata": {},
   "outputs": [],
   "source": [
    "make_matplotlib_map(eia_county_geoms)"
   ]
  },
  {
   "cell_type": "code",
   "execution_count": null,
   "id": "612c82cc-1ae3-4523-bd63-89eae3cc6b15",
   "metadata": {},
   "outputs": [],
   "source": [
    "make_matplotlib_map(eia_county_geoms, only_conus=True)"
   ]
  },
  {
   "cell_type": "markdown",
   "id": "a9eb39d4-51fc-4589-b98c-e3ef654a3063",
   "metadata": {},
   "source": [
    "# Combine coal mine and generator closure data to see all qualifying areas"
   ]
  },
  {
   "cell_type": "code",
   "execution_count": null,
   "id": "fbd4efc0-92da-4f26-bf00-e262ff1f9030",
   "metadata": {},
   "outputs": [],
   "source": [
    "# tract\n",
    "full_tract_df = pd.concat(\n",
    "    [msha_df[[\"tract_id_fips\", \"adjacent_id_fips\"]],\n",
    "     eia_df[[\"tract_id_fips\", \"adjacent_id_fips\"]]])\n",
    "n_primary_geoms = len(full_tract_df[\"tract_id_fips\"].drop_duplicates())\n",
    "n_all_geoms = len(\n",
    "        pd.concat([full_tract_df[\"tract_id_fips\"], full_tract_df.adjacent_id_fips.explode()]).drop_duplicates())\n",
    "print(f\"Number of tracts with closed mines or generators: {n_primary_geoms}\")\n",
    "print(f\"Number of qualifying Census tracts (including adjacent tracts): {n_all_geoms}\")"
   ]
  },
  {
   "cell_type": "markdown",
   "id": "e5d2211f-7eb4-4110-b766-08269e604912",
   "metadata": {},
   "source": [
    "### Qualifying coal community Census tracts"
   ]
  },
  {
   "cell_type": "code",
   "execution_count": null,
   "id": "ab7428ab-ac0d-4481-91bc-9a1ba0fba0a6",
   "metadata": {},
   "outputs": [],
   "source": [
    "make_matplotlib_map(create_geometries_df(full_tract_df, census_geometry=\"tract\"))"
   ]
  },
  {
   "cell_type": "code",
   "execution_count": null,
   "id": "0d6611f0-7b04-459c-bd2e-5c10bc953705",
   "metadata": {},
   "outputs": [],
   "source": [
    "# county\n",
    "full_county_df = pd.concat(\n",
    "    [msha_county_df[[\"county_id_fips\", \"adjacent_id_fips\"]],\n",
    "     eia_county_df[[\"county_id_fips\", \"adjacent_id_fips\"]]])\n",
    "n_primary_geoms = len(full_county_df[\"county_id_fips\"].drop_duplicates())\n",
    "n_all_geoms = len(\n",
    "        pd.concat([full_county_df[\"county_id_fips\"], full_county_df.adjacent_id_fips.explode()]).drop_duplicates())\n",
    "print(f\"Number of counties with closed mines or generators: {n_primary_geoms}\")\n",
    "print(f\"Number of qualifying Census counties (including adjacent counties): {n_all_geoms}\")"
   ]
  },
  {
   "cell_type": "markdown",
   "id": "bae92b74-2f84-40fc-826d-1592e4f0ab84",
   "metadata": {},
   "source": [
    "### Qualifying coal community counties"
   ]
  },
  {
   "cell_type": "code",
   "execution_count": null,
   "id": "87d4a8e2-9e68-4e33-9138-0e322f9505e5",
   "metadata": {},
   "outputs": [],
   "source": [
    "make_matplotlib_map(create_geometries_df(full_county_df, census_geometry=\"county\"))"
   ]
  },
  {
   "cell_type": "markdown",
   "id": "4f52d700-6065-4e01-80c1-e9bf6a4e0b60",
   "metadata": {},
   "source": [
    "### Qualifying coal communities broken down by generator and mine closures"
   ]
  },
  {
   "cell_type": "code",
   "execution_count": null,
   "id": "9953df5f-095d-4de9-aa01-8a462a911610",
   "metadata": {},
   "outputs": [],
   "source": [
    "from energy_comms.output.basic_viz import combine_gen_and_mine_geoms"
   ]
  },
  {
   "cell_type": "markdown",
   "id": "921f37b0-050d-453a-9ef5-3027ef722a23",
   "metadata": {},
   "source": [
    "Start with tract"
   ]
  },
  {
   "cell_type": "code",
   "execution_count": null,
   "id": "6d948ad2-20ec-411d-86aa-8b7e231f2b1e",
   "metadata": {},
   "outputs": [],
   "source": [
    "full_tract_geoms = combine_gen_and_mine_geoms(msha_tract_geoms, eia_tract_geoms)"
   ]
  },
  {
   "cell_type": "code",
   "execution_count": null,
   "id": "92bb73c5-a987-4955-9a01-eef9271d0a59",
   "metadata": {},
   "outputs": [],
   "source": [
    "make_matplotlib_map(full_tract_geoms)"
   ]
  },
  {
   "cell_type": "code",
   "execution_count": null,
   "id": "38c312c6-7911-40df-a836-e0494c80cc55",
   "metadata": {},
   "outputs": [],
   "source": [
    "make_matplotlib_map(full_tract_geoms, only_conus=True)"
   ]
  },
  {
   "cell_type": "markdown",
   "id": "4112c61d-5c2f-47fe-9133-95b1f234a2f3",
   "metadata": {},
   "source": [
    "By county"
   ]
  },
  {
   "cell_type": "code",
   "execution_count": null,
   "id": "3d136e6f-b9f4-4333-b6bc-90435b9a5547",
   "metadata": {},
   "outputs": [],
   "source": [
    "full_county_geoms = combine_gen_and_mine_geoms(msha_county_geoms, eia_county_geoms)"
   ]
  },
  {
   "cell_type": "code",
   "execution_count": null,
   "id": "d43ffc58-c23e-48fe-aa6d-23ea32da670e",
   "metadata": {},
   "outputs": [],
   "source": [
    "make_matplotlib_map(full_county_geoms)"
   ]
  },
  {
   "cell_type": "code",
   "execution_count": null,
   "id": "3abfe57a-5c84-4472-a40f-b13698b3d4e4",
   "metadata": {},
   "outputs": [],
   "source": [
    "make_matplotlib_map(full_county_geoms, only_conus=True)"
   ]
  },
  {
   "cell_type": "code",
   "execution_count": null,
   "id": "d9aab326-bcfe-4e1c-a6fc-f82990a2e6d8",
   "metadata": {},
   "outputs": [],
   "source": []
  }
 ],
 "metadata": {
  "kernelspec": {
   "display_name": "energy_comms",
   "language": "python",
   "name": "energy_comms"
  },
  "language_info": {
   "codemirror_mode": {
    "name": "ipython",
    "version": 3
   },
   "file_extension": ".py",
   "mimetype": "text/x-python",
   "name": "python",
   "nbconvert_exporter": "python",
   "pygments_lexer": "ipython3",
   "version": "3.10.6"
  }
 },
 "nbformat": 4,
 "nbformat_minor": 5
}
