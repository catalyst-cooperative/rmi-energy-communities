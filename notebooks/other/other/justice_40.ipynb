{
 "cells": [
  {
   "cell_type": "markdown",
   "metadata": {},
   "source": [
    "imports"
   ]
  },
  {
   "cell_type": "markdown",
   "metadata": {},
   "source": [
    "pudl set up"
   ]
  },
  {
   "cell_type": "code",
   "execution_count": 13,
   "metadata": {},
   "outputs": [],
   "source": [
    "# import the necessary packages\n",
    "%load_ext autoreload\n",
    "%autoreload 2\n",
    "\n",
    "import logging\n",
    "import os\n",
    "import sys\n",
    "\n",
    "import pandas as pd\n",
    "import sqlalchemy as sa\n",
    "import pudl"
   ]
  },
  {
   "cell_type": "code",
   "execution_count": 14,
   "metadata": {},
   "outputs": [],
   "source": [
    "pudl_settings = pudl.workspace.setup.get_defaults()\n",
    "pudl_engine = sa.create_engine(pudl_settings[\"pudl_db\"])\n",
    "pudl_out = pudl.output.pudltabl.PudlTabl(pudl_engine=pudl_engine)\n"
   ]
  },
  {
   "cell_type": "markdown",
   "metadata": {},
   "source": [
    "read excel file from online\n",
    "\n",
    "link: https://screeningtool.geoplatform.gov/en/downloads#3/33.47/-97.5"
   ]
  },
  {
   "cell_type": "code",
   "execution_count": 2,
   "metadata": {},
   "outputs": [],
   "source": [
    "communities = pd.read_excel('https://static-data-screeningtool.geoplatform.gov/data-versions/1.0/data/score/downloadable/1.0-communities.xlsx')"
   ]
  },
  {
   "cell_type": "markdown",
   "metadata": {},
   "source": [
    "geoprocessing prep"
   ]
  },
  {
   "cell_type": "code",
   "execution_count": 32,
   "metadata": {},
   "outputs": [],
   "source": [
    "# get county ID\n",
    "#make column a string\n",
    "communities['Census tract 2010 ID'] = communities['Census tract 2010 ID'].astype(str)\n",
    "# make sure census tract ID is 11 digits\n",
    "communities['Census tract 2010 ID'] = communities['Census tract 2010 ID'].str.zfill(11)\n",
    "\n",
    "#make county fips column\n",
    "communities['county_id_fips'] = communities['Census tract 2010 ID'].str[0:5]"
   ]
  },
  {
   "cell_type": "markdown",
   "metadata": {},
   "source": [
    "filter to disadvantaged"
   ]
  },
  {
   "cell_type": "code",
   "execution_count": 33,
   "metadata": {},
   "outputs": [],
   "source": [
    "disadvantaged_communities = communities.loc[communities['Identified as disadvantaged']==True]"
   ]
  },
  {
   "cell_type": "markdown",
   "metadata": {},
   "source": [
    "count how many tracts are in each county"
   ]
  },
  {
   "cell_type": "code",
   "execution_count": 34,
   "metadata": {},
   "outputs": [],
   "source": [
    "num_of_dc = disadvantaged_communities['county_id_fips'].value_counts().reset_index()\n",
    "num_of_dc = num_of_dc.rename(columns={'index':'county_id_fips','county_id_fips':'num_of_communities'})"
   ]
  },
  {
   "cell_type": "markdown",
   "metadata": {},
   "source": [
    "connect to total amount"
   ]
  },
  {
   "cell_type": "code",
   "execution_count": 36,
   "metadata": {},
   "outputs": [],
   "source": [
    "total_dc = communities['county_id_fips'].value_counts().reset_index()\n",
    "total_dc = total_dc.rename(columns={'index':'county_id_fips','county_id_fips':'total_num_of_communities'})"
   ]
  },
  {
   "cell_type": "code",
   "execution_count": 40,
   "metadata": {},
   "outputs": [],
   "source": [
    "community_complete = num_of_dc.merge(total_dc,on='county_id_fips',how='left')"
   ]
  },
  {
   "cell_type": "code",
   "execution_count": 42,
   "metadata": {},
   "outputs": [
    {
     "data": {
      "text/html": [
       "<div>\n",
       "<style scoped>\n",
       "    .dataframe tbody tr th:only-of-type {\n",
       "        vertical-align: middle;\n",
       "    }\n",
       "\n",
       "    .dataframe tbody tr th {\n",
       "        vertical-align: top;\n",
       "    }\n",
       "\n",
       "    .dataframe thead th {\n",
       "        text-align: right;\n",
       "    }\n",
       "</style>\n",
       "<table border=\"1\" class=\"dataframe\">\n",
       "  <thead>\n",
       "    <tr style=\"text-align: right;\">\n",
       "      <th></th>\n",
       "      <th>county_id_fips</th>\n",
       "      <th>num_of_communities</th>\n",
       "      <th>total_num_of_communities</th>\n",
       "      <th>disadvantaged_percent_of_total_communities</th>\n",
       "    </tr>\n",
       "  </thead>\n",
       "  <tbody>\n",
       "    <tr>\n",
       "      <th>0</th>\n",
       "      <td>06037</td>\n",
       "      <td>1146</td>\n",
       "      <td>2346</td>\n",
       "      <td>48.849105</td>\n",
       "    </tr>\n",
       "    <tr>\n",
       "      <th>1</th>\n",
       "      <td>17031</td>\n",
       "      <td>611</td>\n",
       "      <td>1319</td>\n",
       "      <td>46.322972</td>\n",
       "    </tr>\n",
       "    <tr>\n",
       "      <th>2</th>\n",
       "      <td>36047</td>\n",
       "      <td>410</td>\n",
       "      <td>761</td>\n",
       "      <td>53.876478</td>\n",
       "    </tr>\n",
       "    <tr>\n",
       "      <th>3</th>\n",
       "      <td>48201</td>\n",
       "      <td>402</td>\n",
       "      <td>786</td>\n",
       "      <td>51.145038</td>\n",
       "    </tr>\n",
       "    <tr>\n",
       "      <th>4</th>\n",
       "      <td>26163</td>\n",
       "      <td>362</td>\n",
       "      <td>611</td>\n",
       "      <td>59.247136</td>\n",
       "    </tr>\n",
       "    <tr>\n",
       "      <th>...</th>\n",
       "      <td>...</td>\n",
       "      <td>...</td>\n",
       "      <td>...</td>\n",
       "      <td>...</td>\n",
       "    </tr>\n",
       "    <tr>\n",
       "      <th>2707</th>\n",
       "      <td>31151</td>\n",
       "      <td>1</td>\n",
       "      <td>4</td>\n",
       "      <td>25.000000</td>\n",
       "    </tr>\n",
       "    <tr>\n",
       "      <th>2708</th>\n",
       "      <td>31153</td>\n",
       "      <td>1</td>\n",
       "      <td>43</td>\n",
       "      <td>2.325581</td>\n",
       "    </tr>\n",
       "    <tr>\n",
       "      <th>2709</th>\n",
       "      <td>31161</td>\n",
       "      <td>1</td>\n",
       "      <td>2</td>\n",
       "      <td>50.000000</td>\n",
       "    </tr>\n",
       "    <tr>\n",
       "      <th>2710</th>\n",
       "      <td>31181</td>\n",
       "      <td>1</td>\n",
       "      <td>2</td>\n",
       "      <td>50.000000</td>\n",
       "    </tr>\n",
       "    <tr>\n",
       "      <th>2711</th>\n",
       "      <td>78030</td>\n",
       "      <td>1</td>\n",
       "      <td>13</td>\n",
       "      <td>7.692308</td>\n",
       "    </tr>\n",
       "  </tbody>\n",
       "</table>\n",
       "<p>2712 rows × 4 columns</p>\n",
       "</div>"
      ],
      "text/plain": [
       "     county_id_fips  num_of_communities  total_num_of_communities  disadvantaged_percent_of_total_communities\n",
       "0             06037                1146                      2346                                   48.849105\n",
       "1             17031                 611                      1319                                   46.322972\n",
       "2             36047                 410                       761                                   53.876478\n",
       "3             48201                 402                       786                                   51.145038\n",
       "4             26163                 362                       611                                   59.247136\n",
       "...             ...                 ...                       ...                                         ...\n",
       "2707          31151                   1                         4                                   25.000000\n",
       "2708          31153                   1                        43                                    2.325581\n",
       "2709          31161                   1                         2                                   50.000000\n",
       "2710          31181                   1                         2                                   50.000000\n",
       "2711          78030                   1                        13                                    7.692308\n",
       "\n",
       "[2712 rows x 4 columns]"
      ]
     },
     "execution_count": 42,
     "metadata": {},
     "output_type": "execute_result"
    }
   ],
   "source": [
    "community_complete['disadvantaged_percent_of_total_communities'] = community_complete['num_of_communities'] / community_complete['total_num_of_communities'] * 100\n",
    "community_complete"
   ]
  },
  {
   "cell_type": "markdown",
   "metadata": {},
   "source": [
    "get utility service territory from PUDL"
   ]
  },
  {
   "cell_type": "code",
   "execution_count": 46,
   "metadata": {},
   "outputs": [],
   "source": [
    "eia_service_territory = pudl_out.service_territory_eia861()"
   ]
  },
  {
   "cell_type": "code",
   "execution_count": 48,
   "metadata": {},
   "outputs": [
    {
     "data": {
      "text/plain": [
       "<pandas.core.groupby.generic.DataFrameGroupBy object at 0x29f213e50>"
      ]
     },
     "execution_count": 48,
     "metadata": {},
     "output_type": "execute_result"
    }
   ],
   "source": [
    "eia_service_territory.groupby(['state','utility_id_eia'])"
   ]
  }
 ],
 "metadata": {
  "kernelspec": {
   "display_name": "Python 3.10.5 ('hub')",
   "language": "python",
   "name": "python3"
  },
  "language_info": {
   "codemirror_mode": {
    "name": "ipython",
    "version": 3
   },
   "file_extension": ".py",
   "mimetype": "text/x-python",
   "name": "python",
   "nbconvert_exporter": "python",
   "pygments_lexer": "ipython3",
   "version": "3.10.5"
  },
  "orig_nbformat": 4,
  "vscode": {
   "interpreter": {
    "hash": "82bcc6cebe93d8ec6d4d384c32162a950ec05fbef26c23b96395db6a5a7770f3"
   }
  }
 },
 "nbformat": 4,
 "nbformat_minor": 2
}
