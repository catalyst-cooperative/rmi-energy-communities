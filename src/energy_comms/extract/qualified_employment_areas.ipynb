{
 "cells": [
  {
   "cell_type": "markdown",
   "metadata": {},
   "source": [
    "imports"
   ]
  },
  {
   "cell_type": "code",
   "execution_count": 1,
   "metadata": {},
   "outputs": [],
   "source": [
    "%load_ext autoreload\n",
    "%autoreload 3"
   ]
  },
  {
   "cell_type": "code",
   "execution_count": 2,
   "metadata": {},
   "outputs": [],
   "source": [
    "import logging\n",
    "import sys\n",
    "#import energy_comms"
   ]
  },
  {
   "cell_type": "code",
   "execution_count": 3,
   "metadata": {},
   "outputs": [],
   "source": [
    "logger = logging.getLogger()\n",
    "logger.setLevel(logging.INFO)\n",
    "handler = logging.StreamHandler(stream=sys.stdout)\n",
    "formatter = logging.Formatter()\n",
    "handler.setFormatter(formatter)\n",
    "logger.handlers = [handler]"
   ]
  },
  {
   "cell_type": "code",
   "execution_count": 5,
   "metadata": {},
   "outputs": [],
   "source": [
    "import energy_comms"
   ]
  },
  {
   "cell_type": "code",
   "execution_count": 6,
   "metadata": {},
   "outputs": [],
   "source": [
    "from energy_comms.extract.qcew_2010_2021 import extract_2010 as extract_qcew\n",
    "from energy_comms.transform.qcew_2010_2021_t import transform as transform_qcew\n"
   ]
  },
  {
   "cell_type": "code",
   "execution_count": 7,
   "metadata": {},
   "outputs": [
    {
     "name": "stdout",
     "output_type": "stream",
     "text": [
      "Downloading started\n",
      "Downloading Completed\n",
      "Downloading started\n",
      "Downloading Completed\n",
      "Downloading started\n",
      "Downloading Completed\n",
      "Downloading started\n",
      "Downloading Completed\n",
      "Downloading started\n",
      "Downloading Completed\n",
      "Downloading started\n",
      "Downloading Completed\n",
      "Downloading started\n",
      "Downloading Completed\n",
      "Downloading started\n",
      "Downloading Completed\n",
      "Downloading started\n",
      "Downloading Completed\n",
      "Downloading started\n",
      "Downloading Completed\n",
      "Downloading started\n",
      "Downloading Completed\n",
      "Downloading started\n",
      "Downloading Completed\n"
     ]
    },
    {
     "name": "stderr",
     "output_type": "stream",
     "text": [
      "/Users/mcastillo/Documents/GitHub/rmi-energy-communities/src/energy_comms/extract/qcew_2014_2021.py:90: SettingWithCopyWarning: \n",
      "A value is trying to be set on a copy of a slice from a DataFrame.\n",
      "Try using .loc[row_indexer,col_indexer] = value instead\n",
      "\n",
      "See the caveats in the documentation: https://pandas.pydata.org/pandas-docs/stable/user_guide/indexing.html#returning-a-view-versus-a-copy\n",
      "  data['geographic_level'] = np.where(data['area_title'].str.contains('Statewide'),'state',data['area_title'])\n",
      "/Users/mcastillo/Documents/GitHub/rmi-energy-communities/src/energy_comms/extract/qcew_2014_2021.py:91: SettingWithCopyWarning: \n",
      "A value is trying to be set on a copy of a slice from a DataFrame.\n",
      "Try using .loc[row_indexer,col_indexer] = value instead\n",
      "\n",
      "See the caveats in the documentation: https://pandas.pydata.org/pandas-docs/stable/user_guide/indexing.html#returning-a-view-versus-a-copy\n",
      "  data['geographic_level'] = np.where(data['area_title'].str.contains('Parish|City|Borough|County'),'county',data['geographic_level'])\n",
      "/Users/mcastillo/Documents/GitHub/rmi-energy-communities/src/energy_comms/extract/qcew_2014_2021.py:92: SettingWithCopyWarning: \n",
      "A value is trying to be set on a copy of a slice from a DataFrame.\n",
      "Try using .loc[row_indexer,col_indexer] = value instead\n",
      "\n",
      "See the caveats in the documentation: https://pandas.pydata.org/pandas-docs/stable/user_guide/indexing.html#returning-a-view-versus-a-copy\n",
      "  data['geographic_level'] = np.where(data['area_title'].str.contains('MSA'),'metropolitan_stat_area',data['geographic_level'])\n",
      "/Users/mcastillo/Documents/GitHub/rmi-energy-communities/src/energy_comms/extract/qcew_2014_2021.py:93: SettingWithCopyWarning: \n",
      "A value is trying to be set on a copy of a slice from a DataFrame.\n",
      "Try using .loc[row_indexer,col_indexer] = value instead\n",
      "\n",
      "See the caveats in the documentation: https://pandas.pydata.org/pandas-docs/stable/user_guide/indexing.html#returning-a-view-versus-a-copy\n",
      "  data['geographic_level'] = np.where(data['area_title'].str.contains('MicroSA'),'micropolitan_stat_area',data['geographic_level'])\n",
      "/Users/mcastillo/Documents/GitHub/rmi-energy-communities/src/energy_comms/extract/qcew_2014_2021.py:94: UserWarning: This pattern is interpreted as a regular expression, and has match groups. To actually get the groups, use str.extract.\n",
      "  data['geographic_level'] = np.where(data['area_title'].str.contains('(Combined)'),'aggregated_stat_area',data['geographic_level'])\n",
      "/Users/mcastillo/Documents/GitHub/rmi-energy-communities/src/energy_comms/extract/qcew_2014_2021.py:94: SettingWithCopyWarning: \n",
      "A value is trying to be set on a copy of a slice from a DataFrame.\n",
      "Try using .loc[row_indexer,col_indexer] = value instead\n",
      "\n",
      "See the caveats in the documentation: https://pandas.pydata.org/pandas-docs/stable/user_guide/indexing.html#returning-a-view-versus-a-copy\n",
      "  data['geographic_level'] = np.where(data['area_title'].str.contains('(Combined)'),'aggregated_stat_area',data['geographic_level'])\n",
      "/Users/mcastillo/Documents/GitHub/rmi-energy-communities/src/energy_comms/extract/qcew_2014_2021.py:95: SettingWithCopyWarning: \n",
      "A value is trying to be set on a copy of a slice from a DataFrame.\n",
      "Try using .loc[row_indexer,col_indexer] = value instead\n",
      "\n",
      "See the caveats in the documentation: https://pandas.pydata.org/pandas-docs/stable/user_guide/indexing.html#returning-a-view-versus-a-copy\n",
      "  data['geographic_level'] = np.where(data['area_title'].str.contains('TOTAL'),'nationwide',data['geographic_level'])\n",
      "/Users/mcastillo/Documents/GitHub/rmi-energy-communities/src/energy_comms/extract/qcew_2014_2021.py:96: SettingWithCopyWarning: \n",
      "A value is trying to be set on a copy of a slice from a DataFrame.\n",
      "Try using .loc[row_indexer,col_indexer] = value instead\n",
      "\n",
      "See the caveats in the documentation: https://pandas.pydata.org/pandas-docs/stable/user_guide/indexing.html#returning-a-view-versus-a-copy\n",
      "  data['geographic_level'] = np.where(data['area_title'].str.contains('Unknown'),'undefined',data['geographic_level'])\n",
      "/Users/mcastillo/Documents/GitHub/rmi-energy-communities/src/energy_comms/extract/qcew_2014_2021.py:100: FutureWarning: In a future version of pandas all arguments of StringMethods.split except for the argument 'pat' will be keyword-only.\n",
      "  data[['area','state']] = data['area_title'].str.split(\",\",1,expand=True)\n",
      "/Users/mcastillo/Documents/GitHub/rmi-energy-communities/src/energy_comms/extract/qcew_2014_2021.py:100: SettingWithCopyWarning: \n",
      "A value is trying to be set on a copy of a slice from a DataFrame.\n",
      "Try using .loc[row_indexer,col_indexer] = value instead\n",
      "\n",
      "See the caveats in the documentation: https://pandas.pydata.org/pandas-docs/stable/user_guide/indexing.html#returning-a-view-versus-a-copy\n",
      "  data[['area','state']] = data['area_title'].str.split(\",\",1,expand=True)\n",
      "/Users/mcastillo/Documents/GitHub/rmi-energy-communities/src/energy_comms/extract/qcew_2014_2021.py:100: SettingWithCopyWarning: \n",
      "A value is trying to be set on a copy of a slice from a DataFrame.\n",
      "Try using .loc[row_indexer,col_indexer] = value instead\n",
      "\n",
      "See the caveats in the documentation: https://pandas.pydata.org/pandas-docs/stable/user_guide/indexing.html#returning-a-view-versus-a-copy\n",
      "  data[['area','state']] = data['area_title'].str.split(\",\",1,expand=True)\n",
      "/Users/mcastillo/Documents/GitHub/rmi-energy-communities/src/energy_comms/extract/qcew_2014_2021.py:102: SettingWithCopyWarning: \n",
      "A value is trying to be set on a copy of a slice from a DataFrame.\n",
      "Try using .loc[row_indexer,col_indexer] = value instead\n",
      "\n",
      "See the caveats in the documentation: https://pandas.pydata.org/pandas-docs/stable/user_guide/indexing.html#returning-a-view-versus-a-copy\n",
      "  data['state'] = np.where(data['state'].isnull(),data['area_title'].str.split('-- Statewide').str.get(0),data['state'])\n",
      "/Users/mcastillo/Documents/GitHub/rmi-energy-communities/src/energy_comms/extract/qcew_2014_2021.py:103: SettingWithCopyWarning: \n",
      "A value is trying to be set on a copy of a slice from a DataFrame.\n",
      "Try using .loc[row_indexer,col_indexer] = value instead\n",
      "\n",
      "See the caveats in the documentation: https://pandas.pydata.org/pandas-docs/stable/user_guide/indexing.html#returning-a-view-versus-a-copy\n",
      "  data['state'] = np.where(data['state'].str.contains('MSA'),data['area_title'].str.split(',').str.get(1),data['state'])\n",
      "/Users/mcastillo/Documents/GitHub/rmi-energy-communities/src/energy_comms/extract/qcew_2014_2021.py:90: SettingWithCopyWarning: \n",
      "A value is trying to be set on a copy of a slice from a DataFrame.\n",
      "Try using .loc[row_indexer,col_indexer] = value instead\n",
      "\n",
      "See the caveats in the documentation: https://pandas.pydata.org/pandas-docs/stable/user_guide/indexing.html#returning-a-view-versus-a-copy\n",
      "  data['geographic_level'] = np.where(data['area_title'].str.contains('Statewide'),'state',data['area_title'])\n",
      "/Users/mcastillo/Documents/GitHub/rmi-energy-communities/src/energy_comms/extract/qcew_2014_2021.py:91: SettingWithCopyWarning: \n",
      "A value is trying to be set on a copy of a slice from a DataFrame.\n",
      "Try using .loc[row_indexer,col_indexer] = value instead\n",
      "\n",
      "See the caveats in the documentation: https://pandas.pydata.org/pandas-docs/stable/user_guide/indexing.html#returning-a-view-versus-a-copy\n",
      "  data['geographic_level'] = np.where(data['area_title'].str.contains('Parish|City|Borough|County'),'county',data['geographic_level'])\n",
      "/Users/mcastillo/Documents/GitHub/rmi-energy-communities/src/energy_comms/extract/qcew_2014_2021.py:92: SettingWithCopyWarning: \n",
      "A value is trying to be set on a copy of a slice from a DataFrame.\n",
      "Try using .loc[row_indexer,col_indexer] = value instead\n",
      "\n",
      "See the caveats in the documentation: https://pandas.pydata.org/pandas-docs/stable/user_guide/indexing.html#returning-a-view-versus-a-copy\n",
      "  data['geographic_level'] = np.where(data['area_title'].str.contains('MSA'),'metropolitan_stat_area',data['geographic_level'])\n",
      "/Users/mcastillo/Documents/GitHub/rmi-energy-communities/src/energy_comms/extract/qcew_2014_2021.py:93: SettingWithCopyWarning: \n",
      "A value is trying to be set on a copy of a slice from a DataFrame.\n",
      "Try using .loc[row_indexer,col_indexer] = value instead\n",
      "\n",
      "See the caveats in the documentation: https://pandas.pydata.org/pandas-docs/stable/user_guide/indexing.html#returning-a-view-versus-a-copy\n",
      "  data['geographic_level'] = np.where(data['area_title'].str.contains('MicroSA'),'micropolitan_stat_area',data['geographic_level'])\n",
      "/Users/mcastillo/Documents/GitHub/rmi-energy-communities/src/energy_comms/extract/qcew_2014_2021.py:94: UserWarning: This pattern is interpreted as a regular expression, and has match groups. To actually get the groups, use str.extract.\n",
      "  data['geographic_level'] = np.where(data['area_title'].str.contains('(Combined)'),'aggregated_stat_area',data['geographic_level'])\n",
      "/Users/mcastillo/Documents/GitHub/rmi-energy-communities/src/energy_comms/extract/qcew_2014_2021.py:94: SettingWithCopyWarning: \n",
      "A value is trying to be set on a copy of a slice from a DataFrame.\n",
      "Try using .loc[row_indexer,col_indexer] = value instead\n",
      "\n",
      "See the caveats in the documentation: https://pandas.pydata.org/pandas-docs/stable/user_guide/indexing.html#returning-a-view-versus-a-copy\n",
      "  data['geographic_level'] = np.where(data['area_title'].str.contains('(Combined)'),'aggregated_stat_area',data['geographic_level'])\n",
      "/Users/mcastillo/Documents/GitHub/rmi-energy-communities/src/energy_comms/extract/qcew_2014_2021.py:95: SettingWithCopyWarning: \n",
      "A value is trying to be set on a copy of a slice from a DataFrame.\n",
      "Try using .loc[row_indexer,col_indexer] = value instead\n",
      "\n",
      "See the caveats in the documentation: https://pandas.pydata.org/pandas-docs/stable/user_guide/indexing.html#returning-a-view-versus-a-copy\n",
      "  data['geographic_level'] = np.where(data['area_title'].str.contains('TOTAL'),'nationwide',data['geographic_level'])\n",
      "/Users/mcastillo/Documents/GitHub/rmi-energy-communities/src/energy_comms/extract/qcew_2014_2021.py:96: SettingWithCopyWarning: \n",
      "A value is trying to be set on a copy of a slice from a DataFrame.\n",
      "Try using .loc[row_indexer,col_indexer] = value instead\n",
      "\n",
      "See the caveats in the documentation: https://pandas.pydata.org/pandas-docs/stable/user_guide/indexing.html#returning-a-view-versus-a-copy\n",
      "  data['geographic_level'] = np.where(data['area_title'].str.contains('Unknown'),'undefined',data['geographic_level'])\n",
      "/Users/mcastillo/Documents/GitHub/rmi-energy-communities/src/energy_comms/extract/qcew_2014_2021.py:100: FutureWarning: In a future version of pandas all arguments of StringMethods.split except for the argument 'pat' will be keyword-only.\n",
      "  data[['area','state']] = data['area_title'].str.split(\",\",1,expand=True)\n",
      "/Users/mcastillo/Documents/GitHub/rmi-energy-communities/src/energy_comms/extract/qcew_2014_2021.py:100: SettingWithCopyWarning: \n",
      "A value is trying to be set on a copy of a slice from a DataFrame.\n",
      "Try using .loc[row_indexer,col_indexer] = value instead\n",
      "\n",
      "See the caveats in the documentation: https://pandas.pydata.org/pandas-docs/stable/user_guide/indexing.html#returning-a-view-versus-a-copy\n",
      "  data[['area','state']] = data['area_title'].str.split(\",\",1,expand=True)\n",
      "/Users/mcastillo/Documents/GitHub/rmi-energy-communities/src/energy_comms/extract/qcew_2014_2021.py:100: SettingWithCopyWarning: \n",
      "A value is trying to be set on a copy of a slice from a DataFrame.\n",
      "Try using .loc[row_indexer,col_indexer] = value instead\n",
      "\n",
      "See the caveats in the documentation: https://pandas.pydata.org/pandas-docs/stable/user_guide/indexing.html#returning-a-view-versus-a-copy\n",
      "  data[['area','state']] = data['area_title'].str.split(\",\",1,expand=True)\n",
      "/Users/mcastillo/Documents/GitHub/rmi-energy-communities/src/energy_comms/extract/qcew_2014_2021.py:102: SettingWithCopyWarning: \n",
      "A value is trying to be set on a copy of a slice from a DataFrame.\n",
      "Try using .loc[row_indexer,col_indexer] = value instead\n",
      "\n",
      "See the caveats in the documentation: https://pandas.pydata.org/pandas-docs/stable/user_guide/indexing.html#returning-a-view-versus-a-copy\n",
      "  data['state'] = np.where(data['state'].isnull(),data['area_title'].str.split('-- Statewide').str.get(0),data['state'])\n",
      "/Users/mcastillo/Documents/GitHub/rmi-energy-communities/src/energy_comms/extract/qcew_2014_2021.py:103: SettingWithCopyWarning: \n",
      "A value is trying to be set on a copy of a slice from a DataFrame.\n",
      "Try using .loc[row_indexer,col_indexer] = value instead\n",
      "\n",
      "See the caveats in the documentation: https://pandas.pydata.org/pandas-docs/stable/user_guide/indexing.html#returning-a-view-versus-a-copy\n",
      "  data['state'] = np.where(data['state'].str.contains('MSA'),data['area_title'].str.split(',').str.get(1),data['state'])\n",
      "/Users/mcastillo/Documents/GitHub/rmi-energy-communities/src/energy_comms/transform/cps.py:30: FutureWarning: The frame.append method is deprecated and will be removed from pandas in a future version. Use pandas.concat instead.\n",
      "  annual_average = annual_average.append({'year':2019,'value':3.7},ignore_index=True)\n",
      "/Users/mcastillo/Documents/GitHub/rmi-energy-communities/src/energy_comms/transform/cps.py:31: FutureWarning: The frame.append method is deprecated and will be removed from pandas in a future version. Use pandas.concat instead.\n",
      "  annual_average = annual_average.append({'year':2020,'value':8.1},ignore_index=True)\n",
      "/Users/mcastillo/Documents/GitHub/rmi-energy-communities/src/energy_comms/extract/lau.py:45: DtypeWarning: Columns (4) have mixed types. Specify dtype option on import or set low_memory=False.\n",
      "  df_bls = pd.read_table(lau_file)\n",
      "/Users/mcastillo/Documents/GitHub/rmi-energy-communities/src/energy_comms/extract/lau.py:45: DtypeWarning: Columns (3) have mixed types. Specify dtype option on import or set low_memory=False.\n",
      "  df_bls = pd.read_table(lau_file)\n"
     ]
    },
    {
     "ename": "ValueError",
     "evalue": "You are trying to merge on object and int64 columns. If you wish to proceed you should use pd.concat",
     "output_type": "error",
     "traceback": [
      "\u001b[0;31m---------------------------------------------------------------------------\u001b[0m",
      "\u001b[0;31mValueError\u001b[0m                                Traceback (most recent call last)",
      "Cell \u001b[0;32mIn [7], line 1\u001b[0m\n\u001b[0;32m----> 1\u001b[0m employment \u001b[39m=\u001b[39m transform_qcew(extract_qcew())\n",
      "File \u001b[0;32m~/Documents/GitHub/rmi-energy-communities/src/energy_comms/transform/qcew_2010_2021_t.py:88\u001b[0m, in \u001b[0;36mtransform\u001b[0;34m(df)\u001b[0m\n\u001b[1;32m     84\u001b[0m \u001b[39m#fix geoid for merge with employment\u001b[39;00m\n\u001b[1;32m     86\u001b[0m unemployment[\u001b[39m'\u001b[39m\u001b[39mgeoid\u001b[39m\u001b[39m'\u001b[39m] \u001b[39m=\u001b[39m np\u001b[39m.\u001b[39mwhere(unemployment[\u001b[39m'\u001b[39m\u001b[39mgeographic_level\u001b[39m\u001b[39m'\u001b[39m]\u001b[39m==\u001b[39m\u001b[39m'\u001b[39m\u001b[39mcounty\u001b[39m\u001b[39m'\u001b[39m,unemployment[\u001b[39m'\u001b[39m\u001b[39mstate_code\u001b[39m\u001b[39m'\u001b[39m] \u001b[39m+\u001b[39m unemployment[\u001b[39m'\u001b[39m\u001b[39mgeoid\u001b[39m\u001b[39m'\u001b[39m],unemployment[\u001b[39m'\u001b[39m\u001b[39mgeoid\u001b[39m\u001b[39m'\u001b[39m]\u001b[39m.\u001b[39mstr[\u001b[39m0\u001b[39m:\u001b[39m5\u001b[39m])\n\u001b[0;32m---> 88\u001b[0m employment_both \u001b[39m=\u001b[39m employment\u001b[39m.\u001b[39;49mmerge(unemployment,on\u001b[39m=\u001b[39;49m[\u001b[39m'\u001b[39;49m\u001b[39mgeoid\u001b[39;49m\u001b[39m'\u001b[39;49m,\u001b[39m'\u001b[39;49m\u001b[39mgeographic_level\u001b[39;49m\u001b[39m'\u001b[39;49m,\u001b[39m'\u001b[39;49m\u001b[39myear\u001b[39;49m\u001b[39m'\u001b[39;49m],how\u001b[39m=\u001b[39;49m\u001b[39m'\u001b[39;49m\u001b[39minner\u001b[39;49m\u001b[39m'\u001b[39;49m)\n\u001b[1;32m     89\u001b[0m employment_both[\u001b[39m'\u001b[39m\u001b[39mmeets_unemployment_criteria\u001b[39m\u001b[39m'\u001b[39m] \u001b[39m=\u001b[39m np\u001b[39m.\u001b[39mwhere(employment_both[\u001b[39m'\u001b[39m\u001b[39mlocal_area_unemployment\u001b[39m\u001b[39m'\u001b[39m] \u001b[39m>\u001b[39m employment_both[\u001b[39m'\u001b[39m\u001b[39mnational_unemployment_rate_prev_year\u001b[39m\u001b[39m'\u001b[39m],\u001b[39m1\u001b[39m,\u001b[39m0\u001b[39m)\n\u001b[1;32m     91\u001b[0m \u001b[39m#identify which areas meet the unemployment criteria\u001b[39;00m\n",
      "File \u001b[0;32m/opt/anaconda3/envs/energy_comms/lib/python3.10/site-packages/pandas/core/frame.py:10080\u001b[0m, in \u001b[0;36mDataFrame.merge\u001b[0;34m(self, right, how, on, left_on, right_on, left_index, right_index, sort, suffixes, copy, indicator, validate)\u001b[0m\n\u001b[1;32m  10061\u001b[0m \u001b[39m@Substitution\u001b[39m(\u001b[39m\"\u001b[39m\u001b[39m\"\u001b[39m)\n\u001b[1;32m  10062\u001b[0m \u001b[39m@Appender\u001b[39m(_merge_doc, indents\u001b[39m=\u001b[39m\u001b[39m2\u001b[39m)\n\u001b[1;32m  10063\u001b[0m \u001b[39mdef\u001b[39;00m \u001b[39mmerge\u001b[39m(\n\u001b[0;32m   (...)\u001b[0m\n\u001b[1;32m  10076\u001b[0m     validate: \u001b[39mstr\u001b[39m \u001b[39m|\u001b[39m \u001b[39mNone\u001b[39;00m \u001b[39m=\u001b[39m \u001b[39mNone\u001b[39;00m,\n\u001b[1;32m  10077\u001b[0m ) \u001b[39m-\u001b[39m\u001b[39m>\u001b[39m DataFrame:\n\u001b[1;32m  10078\u001b[0m     \u001b[39mfrom\u001b[39;00m \u001b[39mpandas\u001b[39;00m\u001b[39m.\u001b[39;00m\u001b[39mcore\u001b[39;00m\u001b[39m.\u001b[39;00m\u001b[39mreshape\u001b[39;00m\u001b[39m.\u001b[39;00m\u001b[39mmerge\u001b[39;00m \u001b[39mimport\u001b[39;00m merge\n\u001b[0;32m> 10080\u001b[0m     \u001b[39mreturn\u001b[39;00m merge(\n\u001b[1;32m  10081\u001b[0m         \u001b[39mself\u001b[39;49m,\n\u001b[1;32m  10082\u001b[0m         right,\n\u001b[1;32m  10083\u001b[0m         how\u001b[39m=\u001b[39;49mhow,\n\u001b[1;32m  10084\u001b[0m         on\u001b[39m=\u001b[39;49mon,\n\u001b[1;32m  10085\u001b[0m         left_on\u001b[39m=\u001b[39;49mleft_on,\n\u001b[1;32m  10086\u001b[0m         right_on\u001b[39m=\u001b[39;49mright_on,\n\u001b[1;32m  10087\u001b[0m         left_index\u001b[39m=\u001b[39;49mleft_index,\n\u001b[1;32m  10088\u001b[0m         right_index\u001b[39m=\u001b[39;49mright_index,\n\u001b[1;32m  10089\u001b[0m         sort\u001b[39m=\u001b[39;49msort,\n\u001b[1;32m  10090\u001b[0m         suffixes\u001b[39m=\u001b[39;49msuffixes,\n\u001b[1;32m  10091\u001b[0m         copy\u001b[39m=\u001b[39;49mcopy,\n\u001b[1;32m  10092\u001b[0m         indicator\u001b[39m=\u001b[39;49mindicator,\n\u001b[1;32m  10093\u001b[0m         validate\u001b[39m=\u001b[39;49mvalidate,\n\u001b[1;32m  10094\u001b[0m     )\n",
      "File \u001b[0;32m/opt/anaconda3/envs/energy_comms/lib/python3.10/site-packages/pandas/core/reshape/merge.py:110\u001b[0m, in \u001b[0;36mmerge\u001b[0;34m(left, right, how, on, left_on, right_on, left_index, right_index, sort, suffixes, copy, indicator, validate)\u001b[0m\n\u001b[1;32m     93\u001b[0m \u001b[39m@Substitution\u001b[39m(\u001b[39m\"\u001b[39m\u001b[39m\\n\u001b[39;00m\u001b[39mleft : DataFrame or named Series\u001b[39m\u001b[39m\"\u001b[39m)\n\u001b[1;32m     94\u001b[0m \u001b[39m@Appender\u001b[39m(_merge_doc, indents\u001b[39m=\u001b[39m\u001b[39m0\u001b[39m)\n\u001b[1;32m     95\u001b[0m \u001b[39mdef\u001b[39;00m \u001b[39mmerge\u001b[39m(\n\u001b[0;32m   (...)\u001b[0m\n\u001b[1;32m    108\u001b[0m     validate: \u001b[39mstr\u001b[39m \u001b[39m|\u001b[39m \u001b[39mNone\u001b[39;00m \u001b[39m=\u001b[39m \u001b[39mNone\u001b[39;00m,\n\u001b[1;32m    109\u001b[0m ) \u001b[39m-\u001b[39m\u001b[39m>\u001b[39m DataFrame:\n\u001b[0;32m--> 110\u001b[0m     op \u001b[39m=\u001b[39m _MergeOperation(\n\u001b[1;32m    111\u001b[0m         left,\n\u001b[1;32m    112\u001b[0m         right,\n\u001b[1;32m    113\u001b[0m         how\u001b[39m=\u001b[39;49mhow,\n\u001b[1;32m    114\u001b[0m         on\u001b[39m=\u001b[39;49mon,\n\u001b[1;32m    115\u001b[0m         left_on\u001b[39m=\u001b[39;49mleft_on,\n\u001b[1;32m    116\u001b[0m         right_on\u001b[39m=\u001b[39;49mright_on,\n\u001b[1;32m    117\u001b[0m         left_index\u001b[39m=\u001b[39;49mleft_index,\n\u001b[1;32m    118\u001b[0m         right_index\u001b[39m=\u001b[39;49mright_index,\n\u001b[1;32m    119\u001b[0m         sort\u001b[39m=\u001b[39;49msort,\n\u001b[1;32m    120\u001b[0m         suffixes\u001b[39m=\u001b[39;49msuffixes,\n\u001b[1;32m    121\u001b[0m         indicator\u001b[39m=\u001b[39;49mindicator,\n\u001b[1;32m    122\u001b[0m         validate\u001b[39m=\u001b[39;49mvalidate,\n\u001b[1;32m    123\u001b[0m     )\n\u001b[1;32m    124\u001b[0m     \u001b[39mreturn\u001b[39;00m op\u001b[39m.\u001b[39mget_result(copy\u001b[39m=\u001b[39mcopy)\n",
      "File \u001b[0;32m/opt/anaconda3/envs/energy_comms/lib/python3.10/site-packages/pandas/core/reshape/merge.py:707\u001b[0m, in \u001b[0;36m_MergeOperation.__init__\u001b[0;34m(self, left, right, how, on, left_on, right_on, axis, left_index, right_index, sort, suffixes, indicator, validate)\u001b[0m\n\u001b[1;32m    699\u001b[0m (\n\u001b[1;32m    700\u001b[0m     \u001b[39mself\u001b[39m\u001b[39m.\u001b[39mleft_join_keys,\n\u001b[1;32m    701\u001b[0m     \u001b[39mself\u001b[39m\u001b[39m.\u001b[39mright_join_keys,\n\u001b[1;32m    702\u001b[0m     \u001b[39mself\u001b[39m\u001b[39m.\u001b[39mjoin_names,\n\u001b[1;32m    703\u001b[0m ) \u001b[39m=\u001b[39m \u001b[39mself\u001b[39m\u001b[39m.\u001b[39m_get_merge_keys()\n\u001b[1;32m    705\u001b[0m \u001b[39m# validate the merge keys dtypes. We may need to coerce\u001b[39;00m\n\u001b[1;32m    706\u001b[0m \u001b[39m# to avoid incompatible dtypes\u001b[39;00m\n\u001b[0;32m--> 707\u001b[0m \u001b[39mself\u001b[39;49m\u001b[39m.\u001b[39;49m_maybe_coerce_merge_keys()\n\u001b[1;32m    709\u001b[0m \u001b[39m# If argument passed to validate,\u001b[39;00m\n\u001b[1;32m    710\u001b[0m \u001b[39m# check if columns specified as unique\u001b[39;00m\n\u001b[1;32m    711\u001b[0m \u001b[39m# are in fact unique.\u001b[39;00m\n\u001b[1;32m    712\u001b[0m \u001b[39mif\u001b[39;00m validate \u001b[39mis\u001b[39;00m \u001b[39mnot\u001b[39;00m \u001b[39mNone\u001b[39;00m:\n",
      "File \u001b[0;32m/opt/anaconda3/envs/energy_comms/lib/python3.10/site-packages/pandas/core/reshape/merge.py:1340\u001b[0m, in \u001b[0;36m_MergeOperation._maybe_coerce_merge_keys\u001b[0;34m(self)\u001b[0m\n\u001b[1;32m   1334\u001b[0m     \u001b[39m# unless we are merging non-string-like with string-like\u001b[39;00m\n\u001b[1;32m   1335\u001b[0m     \u001b[39melif\u001b[39;00m (\n\u001b[1;32m   1336\u001b[0m         inferred_left \u001b[39min\u001b[39;00m string_types \u001b[39mand\u001b[39;00m inferred_right \u001b[39mnot\u001b[39;00m \u001b[39min\u001b[39;00m string_types\n\u001b[1;32m   1337\u001b[0m     ) \u001b[39mor\u001b[39;00m (\n\u001b[1;32m   1338\u001b[0m         inferred_right \u001b[39min\u001b[39;00m string_types \u001b[39mand\u001b[39;00m inferred_left \u001b[39mnot\u001b[39;00m \u001b[39min\u001b[39;00m string_types\n\u001b[1;32m   1339\u001b[0m     ):\n\u001b[0;32m-> 1340\u001b[0m         \u001b[39mraise\u001b[39;00m \u001b[39mValueError\u001b[39;00m(msg)\n\u001b[1;32m   1342\u001b[0m \u001b[39m# datetimelikes must match exactly\u001b[39;00m\n\u001b[1;32m   1343\u001b[0m \u001b[39melif\u001b[39;00m needs_i8_conversion(lk\u001b[39m.\u001b[39mdtype) \u001b[39mand\u001b[39;00m \u001b[39mnot\u001b[39;00m needs_i8_conversion(rk\u001b[39m.\u001b[39mdtype):\n",
      "\u001b[0;31mValueError\u001b[0m: You are trying to merge on object and int64 columns. If you wish to proceed you should use pd.concat"
     ]
    }
   ],
   "source": [
    "employment = transform_qcew(extract_qcew())"
   ]
  },
  {
   "cell_type": "markdown",
   "metadata": {},
   "source": [
    "step 1: download all data from online BLS database"
   ]
  },
  {
   "cell_type": "code",
   "execution_count": 5,
   "metadata": {},
   "outputs": [
    {
     "name": "stdout",
     "output_type": "stream",
     "text": [
      "Downloading started\n",
      "Downloading Completed\n",
      "Downloading started\n",
      "Downloading Completed\n",
      "Downloading started\n",
      "Downloading Completed\n",
      "Downloading started\n",
      "Downloading Completed\n",
      "Downloading started\n",
      "Downloading Completed\n",
      "Downloading started\n",
      "Downloading Completed\n",
      "Downloading started\n",
      "Downloading Completed\n",
      "Downloading started\n",
      "Downloading Completed\n",
      "Downloading started\n",
      "Downloading Completed\n",
      "Downloading started\n",
      "Downloading Completed\n",
      "Downloading started\n",
      "Downloading Completed\n",
      "Downloading started\n",
      "Downloading Completed\n"
     ]
    }
   ],
   "source": [
    "df = extract_2010()"
   ]
  },
  {
   "cell_type": "code",
   "execution_count": null,
   "metadata": {},
   "outputs": [],
   "source": []
  },
  {
   "cell_type": "markdown",
   "metadata": {},
   "source": [
    "step 2: add geographic tag to each row"
   ]
  },
  {
   "cell_type": "code",
   "execution_count": 3,
   "metadata": {},
   "outputs": [
    {
     "name": "stderr",
     "output_type": "stream",
     "text": [
      "/Users/mcastillo/Documents/GitHub/rmi-energy-communities/src/energy_comms/extract/qcew_2014_2021.py:94: UserWarning: This pattern is interpreted as a regular expression, and has match groups. To actually get the groups, use str.extract.\n",
      "  data['geographic_level'] = np.where(data['area_title'].str.contains('(Combined)'),'aggregated_stat_area',data['geographic_level'])\n"
     ]
    },
    {
     "ename": "",
     "evalue": "",
     "output_type": "error",
     "traceback": [
      "\u001b[1;31mThe Kernel crashed while executing code in the the current cell or a previous cell. Please review the code in the cell(s) to identify a possible cause of the failure. Click <a href='https://aka.ms/vscodeJupyterKernelCrash'>here</a> for more info. View Jupyter <a href='command:jupyter.viewOutput'>log</a> for further details."
     ]
    },
    {
     "ename": "",
     "evalue": "",
     "output_type": "error",
     "traceback": [
      "\u001b[1;31mCanceled future for execute_request message before replies were done"
     ]
    }
   ],
   "source": [
    "df_geo = get_2014_industry_with_bls_geographic_tag(df)"
   ]
  },
  {
   "cell_type": "markdown",
   "metadata": {},
   "source": [
    "step 3: create total employment dataframe"
   ]
  },
  {
   "cell_type": "code",
   "execution_count": null,
   "metadata": {},
   "outputs": [],
   "source": [
    "#make total df of 2010-2021 data\n",
    "total_employment = df_geo.query(\"industry_code == '10' & own_code == 0\")\n",
    "#rename employee column as total for future merge\n",
    "\n",
    "total_employment = total_employment.rename(columns={'annual_avg_emplvl':'total_employees'})\n",
    "\n",
    "#keep columns that are in run_qcew.ipynb\n",
    "total_employment_df = total_employment[['area_fips','area_title','geographic_level','year','total_employees']]"
   ]
  },
  {
   "cell_type": "markdown",
   "metadata": {},
   "source": [
    "step 4: create fossil employment dataframe"
   ]
  },
  {
   "cell_type": "code",
   "execution_count": null,
   "metadata": {},
   "outputs": [],
   "source": [
    "#make fossil employment\n",
    "\n",
    "FOSSIL_NAICS_CODES = ['2121','211','213','23712','486','4247','22112']\n",
    "\n",
    "\n",
    "fossil_employment = df_geo.loc[df_geo['industry_code'].isin(FOSSIL_NAICS_CODES)]\n",
    "\n",
    "\n",
    "# group by all ownership codes\n",
    "\n",
    "total_fossil_employment = fossil_employment.groupby(['area_fips','area_title','geographic_level','year']).agg({'annual_avg_emplvl':'sum'}).reset_index()\n",
    "\n",
    "total_fossil_employment = total_fossil_employment.rename(columns={'annual_avg_emplvl':'fossil_employees'})\n",
    "\n",
    "total_fossil_employment_short = total_fossil_employment[['area_fips','area_title','geographic_level','year','fossil_employees']]"
   ]
  },
  {
   "cell_type": "markdown",
   "metadata": {},
   "source": [
    "step 5: combine total and fossil employment data"
   ]
  },
  {
   "cell_type": "code",
   "execution_count": null,
   "metadata": {},
   "outputs": [],
   "source": [
    "#combine for total and fossil 2010-2013\n",
    "\n",
    "combined = total_employment_df.merge(total_fossil_employment_short,on=['area_fips','area_title','geographic_level','year'],how='left')\n",
    "combined['year'] = combined['year'].astype(str)"
   ]
  },
  {
   "cell_type": "markdown",
   "metadata": {},
   "source": [
    "step 6: cleaning of geographic identifier columns"
   ]
  },
  {
   "cell_type": "code",
   "execution_count": null,
   "metadata": {},
   "outputs": [],
   "source": [
    "#geoid processing\n",
    "\n",
    "# clean area fips column first\n",
    "combined['area_fips'] = combined['area_fips'].astype(str)\n",
    "#make 5 digits for 4 digit occurences\n",
    "combined['area_fips'] = combined['area_fips'].apply(lambda x:str(x).zfill(5))\n",
    "#make separate column for MSA logic\n",
    "combined['geoid'] = combined['area_fips']\n",
    "# take out C in MSA to add extra 0 \n",
    "combined['geoid'] = combined['geoid'].str.replace('C','')\n",
    "# for MSAs, make geoid to match census crosswalk\n",
    "combined['geoid'] = np.where(combined['geographic_level']=='metropolitan_stat_area',combined['geoid'] + '0',combined['geoid'])\n",
    "# only keep geo levels we need (e.g. remove state and country totals)\n",
    "final_employment = combined.query(\"geographic_level=='county' or geographic_level=='metropolitan_stat_area'\")"
   ]
  },
  {
   "cell_type": "code",
   "execution_count": null,
   "metadata": {},
   "outputs": [],
   "source": [
    "msa = msa_codes.extract()\n",
    "\n",
    "msa['geoid'] = msa['geoid'].astype(str)\n",
    "employment = final_employment.merge(msa,on='geoid',how='inner')\n",
    "employment['fips_county'] = np.where(employment['geographic_level']=='county',employment['geoid'],employment['FIPS code'] + employment['County code'])"
   ]
  },
  {
   "cell_type": "markdown",
   "metadata": {},
   "source": [
    "step 7: create eligibility criteria # 1) % fossil employees"
   ]
  },
  {
   "cell_type": "code",
   "execution_count": null,
   "metadata": {},
   "outputs": [],
   "source": [
    "employment['percent_fossil_employment'] = employment['fossil_employees'] / employment['total_employees'] * 100\n",
    "employment['meets_fossil_threshold'] = np.where(employment['percent_fossil_employment'] > .17,1,0)"
   ]
  },
  {
   "cell_type": "markdown",
   "metadata": {},
   "source": [
    "step 8: create eligibility criteria # 2) unemployment rate higher than previous years"
   ]
  },
  {
   "cell_type": "code",
   "execution_count": null,
   "metadata": {},
   "outputs": [],
   "source": [
    "# read in unemployment file\n",
    "unemployment = pd.read_csv('/Users/mariacastillo-coding/Documents/GitHub/rmi-energy-communities/notebooks/files/unemployment.csv',dtype={'geoid':'str','year':'str','state_code':'str'})\n",
    "\n",
    "# make column a float for comparison\n",
    "unemployment['local_area_unemployment'] = pd.to_numeric(unemployment['local_area_unemployment'],errors='coerce')\n",
    "\n",
    "#fix geoid for merge with employment\n",
    "\n",
    "unemployment['geoid'] = np.where(unemployment['geographic_level']=='county',unemployment['state_code'] + unemployment['geoid'],unemployment['geoid'].str[0:5])\n",
    "\n",
    "employment_both = employment.merge(unemployment,on=['geoid','geographic_level','year'],how='inner')\n",
    "employment_both['meets_unemployment_criteria'] = np.where(employment_both['local_area_unemployment'] > employment_both['national_unemployment_rate_prev_year'],1,0)"
   ]
  },
  {
   "cell_type": "markdown",
   "metadata": {},
   "source": [
    "step 9: identify which areas meet the unemployment criteria"
   ]
  },
  {
   "cell_type": "code",
   "execution_count": null,
   "metadata": {},
   "outputs": [],
   "source": [
    "eligible_employment_areas = employment_both.query(\"meets_fossil_threshold==1 & meets_unemployment_criteria==1\")\n",
    "\n",
    "# clean for export\n",
    "eligible_employment_areas = eligible_employment_areas.rename(columns={'May 2021 MSA name':'msa_name'})\n",
    "eligible_employment_areas = eligible_employment_areas[['area_title','geographic_level','State','msa_name','geoid','percent_fossil_employees','meets_fossil_threshold','local_area_unemployment','national_unemployment_rate_prev_year','meets_unemployment_criteria','fips_county']]"
   ]
  },
  {
   "cell_type": "markdown",
   "metadata": {},
   "source": [
    "step 10: export with all data"
   ]
  },
  {
   "cell_type": "code",
   "execution_count": null,
   "metadata": {},
   "outputs": [],
   "source": [
    "eligible_employment_areas.to_csv('/Users/mcastillo/Documents/Github/rmi-energy-communities/notebooks/files/qualifying_employment_areas.csv')"
   ]
  },
  {
   "cell_type": "markdown",
   "metadata": {},
   "source": [
    "step 11: narrower export for patio"
   ]
  },
  {
   "cell_type": "code",
   "execution_count": null,
   "metadata": {},
   "outputs": [],
   "source": [
    "patio_employment = eligible_employment_areas[['area_title','fips_county']]\n",
    "\n",
    "# columns in patio\n",
    "patio_employment['qualifying_area'] = 'msa_or_county'\n",
    "\n",
    "patio_employment['criteria'] = 'fossil_employment'"
   ]
  },
  {
   "cell_type": "code",
   "execution_count": null,
   "metadata": {},
   "outputs": [],
   "source": [
    "patio_employment.to_csv('/Users/mcastillo/Documents/Github/rmi-energy-communities/notebooks/files/patio_employment.csv')"
   ]
  }
 ],
 "metadata": {
  "kernelspec": {
   "display_name": "Python 3.10.6 ('energy_comms')",
   "language": "python",
   "name": "python3"
  },
  "language_info": {
   "codemirror_mode": {
    "name": "ipython",
    "version": 3
   },
   "file_extension": ".py",
   "mimetype": "text/x-python",
   "name": "python",
   "nbconvert_exporter": "python",
   "pygments_lexer": "ipython3",
   "version": "3.10.6"
  },
  "orig_nbformat": 4,
  "vscode": {
   "interpreter": {
    "hash": "f5059123603fca8bb166e0f103b58ccc6583dad88fdf5841b1d1f3fa362a96ae"
   }
  }
 },
 "nbformat": 4,
 "nbformat_minor": 2
}
