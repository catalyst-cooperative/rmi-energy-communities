{
 "cells": [
  {
   "cell_type": "code",
   "execution_count": null,
   "metadata": {},
   "outputs": [],
   "source": [
    "import epa\n",
    "\n",
    "from epa import *\n"
   ]
  },
  {
   "cell_type": "code",
   "execution_count": null,
   "metadata": {},
   "outputs": [],
   "source": [
    "brownfields = epa.extract()"
   ]
  },
  {
   "cell_type": "code",
   "execution_count": null,
   "metadata": {},
   "outputs": [],
   "source": [
    "import plotly.express as px\n",
    "\n",
    "px.set_mapbox_access_token(\"pk.eyJ1IjoibWNhc3RpbGxvcm1pIiwiYSI6ImNsYWJjcHNhYzA5dTMzc3BpMThpc3RiYmYifQ.xSdph_u4qXYTU163JFOCWQ\")\n",
    "\n",
    "fig = px.scatter_mapbox(brownfields, lat=\"Latitude\", lon=\"Longitude\",\n",
    "                  color_continuous_scale=px.colors.cyclical.IceFire,zoom=12,hover_data=['Site Name','City','State'])\n",
    "fig.show()"
   ]
  }
 ],
 "metadata": {
  "kernelspec": {
   "display_name": "Python 3.10.6 ('hub')",
   "language": "python",
   "name": "python3"
  },
  "language_info": {
   "name": "python",
   "version": "3.10.6"
  },
  "orig_nbformat": 4,
  "vscode": {
   "interpreter": {
    "hash": "6a9ad9a3331dce8650e69d2492d8ebf76184c4e4630d5626b4b84223294104b5"
   }
  }
 },
 "nbformat": 4,
 "nbformat_minor": 2
}
