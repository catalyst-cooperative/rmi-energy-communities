{
 "cells": [
  {
   "cell_type": "code",
   "execution_count": 1,
   "metadata": {},
   "outputs": [],
   "source": [
    "%load_ext autoreload\n",
    "%autoreload 3"
   ]
  },
  {
   "cell_type": "code",
   "execution_count": 2,
   "metadata": {},
   "outputs": [],
   "source": [
    "import logging\n",
    "import sys\n",
    "import energy_comms"
   ]
  },
  {
   "cell_type": "code",
   "execution_count": 3,
   "metadata": {},
   "outputs": [],
   "source": [
    "logger = logging.getLogger()\n",
    "logger.setLevel(logging.INFO)\n",
    "handler = logging.StreamHandler(stream=sys.stdout)\n",
    "formatter = logging.Formatter()\n",
    "handler.setFormatter(formatter)\n",
    "logger.handlers = [handler]"
   ]
  },
  {
   "cell_type": "markdown",
   "metadata": {},
   "source": [
    "import national unemployment data (CPS module)"
   ]
  },
  {
   "cell_type": "code",
   "execution_count": 4,
   "metadata": {},
   "outputs": [],
   "source": [
    "from energy_comms.extract.cps import extract_API as cps_extract\n",
    "from energy_comms.transform.cps import transform as cps_transform"
   ]
  },
  {
   "cell_type": "code",
   "execution_count": 5,
   "metadata": {},
   "outputs": [
    {
     "name": "stderr",
     "output_type": "stream",
     "text": [
      "/Users/mcastillo/Documents/GitHub/rmi-energy-communities/src/energy_comms/transform/cps.py:30: FutureWarning: The frame.append method is deprecated and will be removed from pandas in a future version. Use pandas.concat instead.\n",
      "  annual_average = annual_average.append({'year':2019,'value':3.7},ignore_index=True)\n",
      "/Users/mcastillo/Documents/GitHub/rmi-energy-communities/src/energy_comms/transform/cps.py:31: FutureWarning: The frame.append method is deprecated and will be removed from pandas in a future version. Use pandas.concat instead.\n",
      "  annual_average = annual_average.append({'year':2020,'value':8.1},ignore_index=True)\n"
     ]
    }
   ],
   "source": [
    "national_unemployment = cps_transform(cps_extract())"
   ]
  },
  {
   "cell_type": "markdown",
   "metadata": {},
   "source": [
    "import local unemployment data (LAU module)"
   ]
  },
  {
   "cell_type": "code",
   "execution_count": 8,
   "metadata": {},
   "outputs": [],
   "source": [
    "from energy_comms.extract.lau import get_data as lau_extract"
   ]
  },
  {
   "cell_type": "code",
   "execution_count": 9,
   "metadata": {},
   "outputs": [
    {
     "name": "stderr",
     "output_type": "stream",
     "text": [
      "/Users/mcastillo/Documents/GitHub/rmi-energy-communities/src/energy_comms/extract/lau.py:45: DtypeWarning: Columns (4) have mixed types. Specify dtype option on import or set low_memory=False.\n",
      "  df_bls = pd.read_table(lau_file)\n",
      "/Users/mcastillo/Documents/GitHub/rmi-energy-communities/src/energy_comms/extract/lau.py:45: DtypeWarning: Columns (3) have mixed types. Specify dtype option on import or set low_memory=False.\n",
      "  df_bls = pd.read_table(lau_file)\n"
     ]
    }
   ],
   "source": [
    "local_unemployment = lau_extract()"
   ]
  },
  {
   "cell_type": "markdown",
   "metadata": {},
   "source": [
    "bring together"
   ]
  },
  {
   "cell_type": "code",
   "execution_count": 11,
   "metadata": {},
   "outputs": [],
   "source": [
    "unemployment_figures = local_unemployment.merge(national_unemployment,on='year',how='left')"
   ]
  },
  {
   "cell_type": "code",
   "execution_count": 16,
   "metadata": {},
   "outputs": [],
   "source": [
    "#unemployment_figures = unemployment_figures.to_csv('/Users/mcastillo/Documents/GitHub/rmi-energy-communities/notebooks/files/unemployment.csv')"
   ]
  }
 ],
 "metadata": {
  "kernelspec": {
   "display_name": "Python 3.10.6 ('energy_comms')",
   "language": "python",
   "name": "python3"
  },
  "language_info": {
   "codemirror_mode": {
    "name": "ipython",
    "version": 3
   },
   "file_extension": ".py",
   "mimetype": "text/x-python",
   "name": "python",
   "nbconvert_exporter": "python",
   "pygments_lexer": "ipython3",
   "version": "3.10.6"
  },
  "orig_nbformat": 4,
  "vscode": {
   "interpreter": {
    "hash": "f5059123603fca8bb166e0f103b58ccc6583dad88fdf5841b1d1f3fa362a96ae"
   }
  }
 },
 "nbformat": 4,
 "nbformat_minor": 2
}
