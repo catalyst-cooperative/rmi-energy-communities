{
 "cells": [
  {
   "cell_type": "code",
   "execution_count": 2,
   "metadata": {},
   "outputs": [],
   "source": [
    "import pandas as pd\n",
    "import energy_comms\n",
    "import numpy as np"
   ]
  },
  {
   "cell_type": "code",
   "execution_count": 3,
   "metadata": {},
   "outputs": [],
   "source": [
    "employment = pd.read_csv('/Users/mcastillo/Documents/GitHub/rmi-energy-communities/notebooks/files/qualifying_employment_areas.csv')"
   ]
  },
  {
   "cell_type": "markdown",
   "metadata": {},
   "source": [
    "step 1: get unique areas by geoid"
   ]
  },
  {
   "cell_type": "code",
   "execution_count": 4,
   "metadata": {},
   "outputs": [],
   "source": [
    "unique_areas = employment.drop_duplicates(subset='geoid')"
   ]
  },
  {
   "cell_type": "markdown",
   "metadata": {},
   "source": [
    "step 2: keep columns we care about"
   ]
  },
  {
   "cell_type": "code",
   "execution_count": 5,
   "metadata": {},
   "outputs": [],
   "source": [
    "unique_areas = unique_areas[['area_title','geographic_level','msa_name','geoid']]"
   ]
  },
  {
   "cell_type": "code",
   "execution_count": 7,
   "metadata": {},
   "outputs": [],
   "source": [
    "from energy_comms.extract.msa_codes import extract as msa_codes_extract"
   ]
  },
  {
   "cell_type": "code",
   "execution_count": 8,
   "metadata": {},
   "outputs": [],
   "source": [
    "msa_codes = msa_codes_extract()"
   ]
  },
  {
   "cell_type": "code",
   "execution_count": 21,
   "metadata": {},
   "outputs": [],
   "source": [
    "msa_to_county = unique_areas.merge(msa_codes,on='geoid',how='left')"
   ]
  },
  {
   "cell_type": "code",
   "execution_count": 22,
   "metadata": {},
   "outputs": [],
   "source": [
    "msa_to_county['fips_county'] = np.where(msa_to_county['geographic_level']=='county',msa_to_county['geoid'],msa_to_county['FIPS code'] + msa_to_county['County code'])\n"
   ]
  },
  {
   "cell_type": "markdown",
   "metadata": {},
   "source": [
    "step 5: clean to conform to patio criteria"
   ]
  },
  {
   "cell_type": "code",
   "execution_count": 25,
   "metadata": {},
   "outputs": [],
   "source": [
    "msa_to_county = msa_to_county[['area_title','fips_county']]"
   ]
  },
  {
   "cell_type": "code",
   "execution_count": 26,
   "metadata": {},
   "outputs": [
    {
     "name": "stderr",
     "output_type": "stream",
     "text": [
      "/var/folders/lw/gjwq5pd52hb01x363x3vyw6c0000gp/T/ipykernel_18048/509814355.py:1: SettingWithCopyWarning: \n",
      "A value is trying to be set on a copy of a slice from a DataFrame.\n",
      "Try using .loc[row_indexer,col_indexer] = value instead\n",
      "\n",
      "See the caveats in the documentation: https://pandas.pydata.org/pandas-docs/stable/user_guide/indexing.html#returning-a-view-versus-a-copy\n",
      "  msa_to_county['qualifying_area'] = 'msa_or_county'\n",
      "/var/folders/lw/gjwq5pd52hb01x363x3vyw6c0000gp/T/ipykernel_18048/509814355.py:3: SettingWithCopyWarning: \n",
      "A value is trying to be set on a copy of a slice from a DataFrame.\n",
      "Try using .loc[row_indexer,col_indexer] = value instead\n",
      "\n",
      "See the caveats in the documentation: https://pandas.pydata.org/pandas-docs/stable/user_guide/indexing.html#returning-a-view-versus-a-copy\n",
      "  msa_to_county['criteria'] = 'fossil_employment'\n"
     ]
    }
   ],
   "source": [
    "msa_to_county['qualifying_area'] = 'msa_or_county'\n",
    "\n",
    "msa_to_county['criteria'] = 'fossil_employment'"
   ]
  },
  {
   "cell_type": "code",
   "execution_count": 29,
   "metadata": {},
   "outputs": [],
   "source": [
    "msa_to_county.to_csv('/Users/mcastillo/Documents/Github/rmi-energy-communities/notebooks/files/patio_employment.csv')"
   ]
  }
 ],
 "metadata": {
  "kernelspec": {
   "display_name": "Python 3.10.6 ('energy_comms')",
   "language": "python",
   "name": "python3"
  },
  "language_info": {
   "codemirror_mode": {
    "name": "ipython",
    "version": 3
   },
   "file_extension": ".py",
   "mimetype": "text/x-python",
   "name": "python",
   "nbconvert_exporter": "python",
   "pygments_lexer": "ipython3",
   "version": "3.10.6"
  },
  "orig_nbformat": 4,
  "vscode": {
   "interpreter": {
    "hash": "f5059123603fca8bb166e0f103b58ccc6583dad88fdf5841b1d1f3fa362a96ae"
   }
  }
 },
 "nbformat": 4,
 "nbformat_minor": 2
}
